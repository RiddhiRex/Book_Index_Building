{
 "cells": [
  {
   "cell_type": "code",
   "execution_count": 4,
   "metadata": {
    "collapsed": true
   },
   "outputs": [],
   "source": [
    "import nltk, collections\n",
    "import numpy as np\n",
    "from nltk.collocations import *\n",
    "from nltk.corpus import stopwords\n",
    "import pandas as pd\n",
    "import string\n"
   ]
  },
  {
   "cell_type": "code",
   "execution_count": 5,
   "metadata": {
    "collapsed": true
   },
   "outputs": [],
   "source": [
    "def process_text(input_text):\n",
    "    #removal of stop words\n",
    "    words = nltk.word_tokenize(input_text)\n",
    "    stop_words = set(stopwords.words(\"english\"))\n",
    "    filtered_words = []\n",
    "    for w in words:\n",
    "        if w not in stop_words:\n",
    "            filtered_words.append(w)\n",
    "    print(filtered_words)\n",
    "    \n",
    "    #Removal of space\n",
    "    for w in filtered_words:\n",
    "        w.replace(\" \", \"\")\n",
    "\n",
    "    #Removal of puncutation marks\n",
    "    filtered_words = [''.join(c for c in s if c not in string.punctuation) for s in filtered_words]\n",
    "\n",
    "    processed_word = []\n",
    "    for each in filtered_words:\n",
    "        if not each:\n",
    "            continue\n",
    "        else:\n",
    "            processed_word.append(each) \n",
    "    print(processed_word)\n",
    "    \n",
    "    bigram = nltk.collocations.BigramAssocMeasures()\n",
    "    finder = BigramCollocationFinder.from_words(processed_word)\n",
    "    #To find frequently together occuring 2 words\n",
    "    finder.apply_freq_filter(2)\n",
    "\n",
    "    bigram_word = []\n",
    "    bigram_words = finder.nbest(bigram.pmi, 20)\n",
    "    for each in bigram_words:\n",
    "        bigram_word.append(each[0]+\" \"+each[1])\n",
    "    print(bigram_word)\n",
    "    word_list = []\n",
    "    word_list.extend(processed_word)\n",
    "    word_list.extend(bigram_word)\n",
    "    return word_list\n"
   ]
  }
 ],
 "metadata": {
  "kernelspec": {
   "display_name": "Python 2",
   "language": "python",
   "name": "python2"
  },
  "language_info": {
   "codemirror_mode": {
    "name": "ipython",
    "version": 2
   },
   "file_extension": ".py",
   "mimetype": "text/x-python",
   "name": "python",
   "nbconvert_exporter": "python",
   "pygments_lexer": "ipython2",
   "version": "2.7.13"
  }
 },
 "nbformat": 4,
 "nbformat_minor": 2
}
