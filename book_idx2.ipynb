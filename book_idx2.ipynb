{
 "cells": [
  {
   "cell_type": "code",
   "execution_count": 1,
   "metadata": {},
   "outputs": [
    {
     "name": "stdout",
     "output_type": "stream",
     "text": [
      "<_io.TextIOWrapper name='samplefile.txt' mode='r' encoding='UTF-8'>\n",
      "['In', '1935', ',', 'the', 'Army', 'ordered', 'an', 'additional', '103', 'aircraft', 'designated', 'B-10B', '.', 'These', 'had', 'only', 'minor', 'changes', 'from', 'the', 'YB-10', '.', 'Shipments', 'began', 'in', 'July', '1935', '.', 'B-10Bs', 'served', 'with', 'the', '2d', 'Bomb', 'Group', 'at', 'Langley', 'Field', ',', 'the', '9th', 'Bomb', 'Group', 'at', 'Mitchel', 'Field', ',', 'the', '19th', 'Bomb', 'Group', 'at', 'March', 'Field', ',', 'the', '6th', 'Composite', 'Group', 'in', 'the', 'Panama', 'Canal', 'Zone', ',', 'and', 'the', '4th', 'Composite', 'Group', 'in', 'the', 'Philippines', '.', 'In', 'addition', 'to', 'conventional', 'duties', 'in', 'the', 'bomber', 'role', ',', 'some', 'modified', 'YB-10s', 'and', 'B-12As', 'were', 'operated', 'for', 'a', 'time', 'on', 'large', 'twin', 'floats', 'for', 'coastal', 'patrol', '.', '[', '7', ']', '[', '8', ']', 'In', 'February', '1936', ',', 'the', 'U.S.', 'Army', 'Air', 'Corps', 'used', '13', '49th', 'Bomb', 'Squadron', 'B-10Bs', 'to', 'drop', 'supplies', 'to', 'the', 'residents', 'of', 'Virginia′s', 'Tangier', 'Island', 'and', 'Maryland′s', 'Smith', 'Island', ';', 'with', 'ships', 'unable', 'to', 'reach', 'the', 'islands', 'due', 'to', 'heavy', 'ice', 'in', 'the', 'Chesapeake', 'Bay', ',', 'the', 'islanders', 'faced', 'starvation', 'after', 'a', 'severe', 'winter', 'storm', '.', 'The', 'B-10B', 'supply', 'flights', 'followed', 'earlier', 'supply', 'flights', 'to', 'the', 'islands', 'by', 'the', 'Goodyear', 'Blimp', 'Enterprise', 'on', '2', 'February', '1936', 'and', 'by', 'the', 'squadron′s', 'Keystone', 'B-6A', 'bombers', 'on', '9', 'and', '10', 'February', '1936', '.', '[', '9', ']', '[', '10', ']', 'With', 'an', 'advanced', 'performance', ',', 'the', 'Martin', 'company', 'fully', 'expected', 'that', 'export', 'orders', 'for', 'the', 'B-10', 'would', 'flood', 'in', '.', 'The', 'U.S', ',', 'Army', 'owned', 'the', 'rights', 'to', 'the', 'Model', '139', 'design', '.', 'Once', 'the', 'Army', \"'s\", 'orders', 'had', 'been', 'filled', 'in', '1936', ',', 'Martin', 'received', 'permission', 'to', 'export', 'Model', '139s', ',', 'and', 'delivered', 'versions', 'to', 'several', 'air', 'forces', '.', 'For', 'example', ',', 'six', 'Model', '139Ws', 'were', 'sold', 'to', 'Siam', 'in', 'April', '1937', ',', 'powered', 'by', 'Wright', 'R-1820-G3', 'Cyclone', 'engines', ';', '20', 'Model', '139Ws', 'were', 'sold', 'to', 'Turkey', 'in', 'September', '1937', ',', 'powered', 'by', 'R-1820-G2', 'engines', '.', '[', 'citation', 'needed', ']', 'On', '19', 'May', '1938', ',', 'during', 'the', 'Sino-Japanese', 'War', ',', 'two', 'Chinese', 'Nationalist', 'Air', 'Force', 'B-10s', 'successfully', 'flew', 'to', 'Japan', '.', 'However', ',', 'rather', 'than', 'dropping', 'bombs', ',', 'the', 'aircraft', 'dropped', 'propaganda', 'leaflets', '.', '[', '11', ']', '[', '12', ']', '[', '13', ']', '[', '14', ']', '[', '15', ']', 'That', 'followed', 'the', 'project', 'submitted', 'during', 'February', '1938', '.', 'Two', 'French', 'pilots', 'from', 'the', '14th', 'International', 'Volunteer', 'Squadron', 'prepared', 'a', 'raid', 'for', 'dropping', 'incendiary', 'bombs', 'over', 'Kagoshima', '.', 'It', 'was', 'refused', '.', '[', '16', ']', 'The', 'Dutch', 'Martins', 'fought', 'in', 'the', 'defense', 'of', 'Singapore', 'and', 'the', 'Netherlands', 'East', 'Indies', '.', '[', 'citation', 'needed', ']', 'Legacy', 'At', 'the', 'time', 'of', 'its', 'creation', ',', 'the', 'B-10B', 'was', 'so', 'advanced', 'that', 'General', 'Henry', 'H.', 'Arnold', 'described', 'it', 'as', 'the', 'airpower', 'wonder', 'of', 'its', 'day', '.', 'It', 'was', 'half', 'again', 'as', 'fast', 'as', 'any', 'biplane', 'bomber', ',', 'and', 'faster', 'than', 'any', 'contemporary', 'fighter', '.', 'The', 'B-10', 'began', 'a', 'revolution', 'in', 'bomber', 'design', ';', 'it', 'made', 'all', 'existing', 'bombers', 'completely', 'obsolete', '.', '[', '2', ']', 'Rapid', 'advances', 'in', 'bomber', 'design', 'in', 'the', 'late', '1930s', 'meant', 'that', 'the', 'B-10', 'was', 'eclipsed', 'by', 'the', 'time', 'the', 'United', 'States', 'entered', 'World', 'War', 'II', '.', 'The', '139s', 'in', 'combat', 'in', 'China', 'and', 'South', 'East', 'Asia', 'suffered', 'the', 'same', 'disadvantages', 'as', 'the', 'other', 'early', 'war', 'medium', 'bombers', ',', 'i.e', '.', 'not', 'enough', 'armour', 'and', 'guns', ',', 'while', 'it', 'could', \"n't\", 'outrun', 'the', 'latest', 'fighters', '.', 'Nevertheless', ',', 'the', '166', 'had', 'the', 'highest', 'performance', 'of', 'all', 'the', 'medium', 'bombers', 'in', 'the', 'theatre', 'at', 'the', 'time', ',', 'early', '1942', '.', '[', 'citation', 'needed', ']', 'An', 'abortive', 'effort', 'to', 'modernize', 'the', 'design', ',', 'the', 'Martin', 'Model', '146', ',', 'was', 'entered', 'into', 'a', 'USAAC', 'long-distance', 'bomber', 'design', 'competition', '1934–1935', ',', 'but', 'lost', 'out', 'to', 'the', 'Douglas', 'B-18', 'and', 'much', 'bigger', 'Boeing', 'B-17', '.', 'The', 'B-18', 'was', 'hardly', 'superior', 'to', 'the', 'B-10', 'and', 'actually', 'inferior', 'to', 'the', 'latest', 'B-10', 'version', ',', 'the', 'model', '166', '.', '[', 'citation', 'needed', ']']\n"
     ]
    }
   ],
   "source": [
    "import nltk, collections\n",
    "from nltk.collocations import *\n",
    "from nltk.corpus import stopwords\n",
    "from nltk.stem import WordNetLemmatizer\n",
    "wnl = WordNetLemmatizer()\n",
    "\n",
    "frequencies = collections.Counter()\n",
    "with open('samplefile.txt') as book:\n",
    "    print(book)\n",
    "    read_book = book.read()\n",
    "words = nltk.word_tokenize(read_book)\n",
    "print(words)"
   ]
  },
  {
   "cell_type": "code",
   "execution_count": 12,
   "metadata": {},
   "outputs": [
    {
     "name": "stdout",
     "output_type": "stream",
     "text": [
      "628\n",
      "619\n"
     ]
    }
   ],
   "source": [
    "tagged = nltk.pos_tag(words)\n",
    "\n",
    "wrds = list(filter(lambda word_tag: word_tag[1]!= 'VB', tagged))\n",
    "#Count of all words\n",
    "print(len(tagged))\n",
    "#count of words after removing Verbs \n",
    "print(len(wrds))\n"
   ]
  },
  {
   "cell_type": "code",
   "execution_count": 13,
   "metadata": {},
   "outputs": [
    {
     "name": "stdout",
     "output_type": "stream",
     "text": [
      "['In', '1935', ',', 'the', 'Army', 'ordered', 'an', 'additional', '103', 'aircraft', 'designated', 'B-10B', '.', 'These', 'had', 'only', 'minor', 'changes', 'from', 'the', 'YB-10', '.', 'Shipments', 'began', 'in', 'July', '1935', '.', 'B-10Bs', 'served', 'with', 'the', '2d', 'Bomb', 'Group', 'at', 'Langley', 'Field', ',', 'the', '9th', 'Bomb', 'Group', 'at', 'Mitchel', 'Field', ',', 'the', '19th', 'Bomb', 'Group', 'at', 'March', 'Field', ',', 'the', '6th', 'Composite', 'Group', 'in', 'the', 'Panama', 'Canal', 'Zone', ',', 'and', 'the', '4th', 'Composite', 'Group', 'in', 'the', 'Philippines', '.', 'In', 'addition', 'to', 'conventional', 'duties', 'in', 'the', 'bomber', 'role', ',', 'some', 'modified', 'YB-10s', 'and', 'B-12As', 'were', 'operated', 'for', 'a', 'time', 'on', 'large', 'twin', 'floats', 'for', 'coastal', 'patrol', '.', '[', '7', ']', '[', '8', ']', 'In', 'February', '1936', ',', 'the', 'U.S.', 'Army', 'Air', 'Corps', 'used', '13', '49th', 'Bomb', 'Squadron', 'B-10Bs', 'to', 'supplies', 'to', 'the', 'residents', 'of', 'Virginia′s', 'Tangier', 'Island', 'and', 'Maryland′s', 'Smith', 'Island', ';', 'with', 'ships', 'unable', 'to', 'the', 'islands', 'due', 'to', 'heavy', 'ice', 'in', 'the', 'Chesapeake', 'Bay', ',', 'the', 'islanders', 'faced', 'starvation', 'after', 'a', 'severe', 'winter', 'storm', '.', 'The', 'B-10B', 'supply', 'flights', 'followed', 'earlier', 'supply', 'flights', 'to', 'the', 'islands', 'by', 'the', 'Goodyear', 'Blimp', 'Enterprise', 'on', '2', 'February', '1936', 'and', 'by', 'the', 'squadron′s', 'Keystone', 'B-6A', 'bombers', 'on', '9', 'and', '10', 'February', '1936', '.', '9', ']', '[', '10', ']', 'With', 'an', 'advanced', 'performance', ',', 'the', 'Martin', 'company', 'fully', 'expected', 'that', 'export', 'orders', 'for', 'the', 'B-10', 'would', 'in', '.', 'The', 'U.S', ',', 'Army', 'owned', 'the', 'rights', 'to', 'the', 'Model', '139', 'design', '.', 'Once', 'the', 'Army', \"'s\", 'orders', 'had', 'been', 'filled', 'in', '1936', ',', 'Martin', 'received', 'permission', 'to', 'Model', '139s', ',', 'and', 'delivered', 'versions', 'to', 'several', 'air', 'forces', '.', 'For', 'example', ',', 'six', 'Model', '139Ws', 'were', 'sold', 'to', 'Siam', 'in', 'April', '1937', ',', 'powered', 'by', 'Wright', 'R-1820-G3', 'Cyclone', 'engines', ';', '20', 'Model', '139Ws', 'were', 'sold', 'to', 'Turkey', 'in', 'September', '1937', ',', 'powered', 'by', 'R-1820-G2', 'engines', '.', '[', 'citation', 'needed', ']', 'On', '19', 'May', '1938', ',', 'during', 'the', 'Sino-Japanese', 'War', ',', 'two', 'Chinese', 'Nationalist', 'Air', 'Force', 'B-10s', 'successfully', 'flew', 'to', 'Japan', '.', 'However', ',', 'rather', 'than', 'dropping', 'bombs', ',', 'the', 'aircraft', 'dropped', 'propaganda', 'leaflets', '.', '[', '11', ']', '[', '12', ']', '[', '13', ']', '[', '14', ']', '[', '15', ']', 'That', 'followed', 'the', 'project', 'submitted', 'during', 'February', '1938', '.', 'Two', 'French', 'pilots', 'from', 'the', '14th', 'International', 'Volunteer', 'Squadron', 'prepared', 'a', 'raid', 'for', 'dropping', 'incendiary', 'bombs', 'over', 'Kagoshima', '.', 'It', 'was', 'refused', '.', '[', '16', ']', 'The', 'Dutch', 'Martins', 'fought', 'in', 'the', 'defense', 'of', 'Singapore', 'and', 'the', 'Netherlands', 'East', 'Indies', '.', '[', 'citation', 'needed', ']', 'Legacy', 'At', 'the', 'time', 'of', 'its', 'creation', ',', 'the', 'B-10B', 'was', 'so', 'advanced', 'that', 'General', 'Henry', 'H.', 'Arnold', 'described', 'it', 'as', 'the', 'airpower', 'wonder', 'of', 'its', 'day', '.', 'It', 'was', 'half', 'again', 'as', 'fast', 'as', 'any', 'biplane', 'bomber', ',', 'and', 'faster', 'than', 'any', 'contemporary', 'fighter', '.', 'The', 'B-10', 'began', 'a', 'revolution', 'in', 'bomber', 'design', ';', 'it', 'made', 'all', 'existing', 'bombers', 'completely', 'obsolete', '.', '[', '2', ']', 'Rapid', 'advances', 'in', 'bomber', 'design', 'in', 'the', 'late', '1930s', 'meant', 'that', 'the', 'B-10', 'was', 'eclipsed', 'by', 'the', 'time', 'the', 'United', 'States', 'entered', 'World', 'War', 'II', '.', 'The', '139s', 'in', 'combat', 'in', 'China', 'and', 'South', 'East', 'Asia', 'suffered', 'the', 'same', 'disadvantages', 'as', 'the', 'other', 'early', 'war', 'medium', 'bombers', ',', 'i.e', '.', 'not', 'enough', 'armour', 'and', 'guns', ',', 'while', 'it', 'could', \"n't\", 'the', 'latest', 'fighters', '.', 'Nevertheless', ',', 'the', '166', 'had', 'the', 'highest', 'performance', 'of', 'all', 'the', 'medium', 'bombers', 'in', 'the', 'theatre', 'at', 'the', 'time', ',', 'early', '1942', '.', 'citation', 'needed', ']', 'An', 'abortive', 'effort', 'to', 'the', 'design', ',', 'the', 'Martin', 'Model', '146', ',', 'was', 'entered', 'into', 'a', 'USAAC', 'long-distance', 'bomber', 'design', 'competition', '1934–1935', ',', 'but', 'lost', 'out', 'to', 'the', 'Douglas', 'B-18', 'and', 'much', 'bigger', 'Boeing', 'B-17', '.', 'The', 'B-18', 'was', 'hardly', 'superior', 'to', 'the', 'B-10', 'and', 'actually', 'inferior', 'to', 'the', 'latest', 'B-10', 'version', ',', 'the', 'model', '166', '.', 'citation', 'needed', ']']\n"
     ]
    }
   ],
   "source": [
    "wordlist = []\n",
    "for w in wrds:\n",
    "    wordlist.append(w[0])\n",
    "print(wordlist)"
   ]
  },
  {
   "cell_type": "code",
   "execution_count": 14,
   "metadata": {},
   "outputs": [
    {
     "name": "stdout",
     "output_type": "stream",
     "text": [
      "['In', '1935', ',', 'Army', 'ordered', 'additional', '103', 'aircraft', 'designated', 'B-10B', '.', 'These', 'minor', 'changes', 'YB-10', '.', 'Shipments', 'began', 'July', '1935', '.', 'B-10Bs', 'served', '2d', 'Bomb', 'Group', 'Langley', 'Field', ',', '9th', 'Bomb', 'Group', 'Mitchel', 'Field', ',', '19th', 'Bomb', 'Group', 'March', 'Field', ',', '6th', 'Composite', 'Group', 'Panama', 'Canal', 'Zone', ',', '4th', 'Composite', 'Group', 'Philippines', '.', 'In', 'addition', 'conventional', 'duties', 'bomber', 'role', ',', 'modified', 'YB-10s', 'B-12As', 'operated', 'time', 'large', 'twin', 'floats', 'coastal', 'patrol', '.', '[', '7', ']', '[', '8', ']', 'In', 'February', '1936', ',', 'U.S.', 'Army', 'Air', 'Corps', 'used', '13', '49th', 'Bomb', 'Squadron', 'B-10Bs', 'supplies', 'residents', 'Virginia′s', 'Tangier', 'Island', 'Maryland′s', 'Smith', 'Island', ';', 'ships', 'unable', 'islands', 'due', 'heavy', 'ice', 'Chesapeake', 'Bay', ',', 'islanders', 'faced', 'starvation', 'severe', 'winter', 'storm', '.', 'The', 'B-10B', 'supply', 'flights', 'followed', 'earlier', 'supply', 'flights', 'islands', 'Goodyear', 'Blimp', 'Enterprise', '2', 'February', '1936', 'squadron′s', 'Keystone', 'B-6A', 'bombers', '9', '10', 'February', '1936', '.', '9', ']', '[', '10', ']', 'With', 'advanced', 'performance', ',', 'Martin', 'company', 'fully', 'expected', 'export', 'orders', 'B-10', 'would', '.', 'The', 'U.S', ',', 'Army', 'owned', 'rights', 'Model', '139', 'design', '.', 'Once', 'Army', \"'s\", 'orders', 'filled', '1936', ',', 'Martin', 'received', 'permission', 'Model', '139s', ',', 'delivered', 'versions', 'several', 'air', 'forces', '.', 'For', 'example', ',', 'six', 'Model', '139Ws', 'sold', 'Siam', 'April', '1937', ',', 'powered', 'Wright', 'R-1820-G3', 'Cyclone', 'engines', ';', '20', 'Model', '139Ws', 'sold', 'Turkey', 'September', '1937', ',', 'powered', 'R-1820-G2', 'engines', '.', '[', 'citation', 'needed', ']', 'On', '19', 'May', '1938', ',', 'Sino-Japanese', 'War', ',', 'two', 'Chinese', 'Nationalist', 'Air', 'Force', 'B-10s', 'successfully', 'flew', 'Japan', '.', 'However', ',', 'rather', 'dropping', 'bombs', ',', 'aircraft', 'dropped', 'propaganda', 'leaflets', '.', '[', '11', ']', '[', '12', ']', '[', '13', ']', '[', '14', ']', '[', '15', ']', 'That', 'followed', 'project', 'submitted', 'February', '1938', '.', 'Two', 'French', 'pilots', '14th', 'International', 'Volunteer', 'Squadron', 'prepared', 'raid', 'dropping', 'incendiary', 'bombs', 'Kagoshima', '.', 'It', 'refused', '.', '[', '16', ']', 'The', 'Dutch', 'Martins', 'fought', 'defense', 'Singapore', 'Netherlands', 'East', 'Indies', '.', '[', 'citation', 'needed', ']', 'Legacy', 'At', 'time', 'creation', ',', 'B-10B', 'advanced', 'General', 'Henry', 'H.', 'Arnold', 'described', 'airpower', 'wonder', 'day', '.', 'It', 'half', 'fast', 'biplane', 'bomber', ',', 'faster', 'contemporary', 'fighter', '.', 'The', 'B-10', 'began', 'revolution', 'bomber', 'design', ';', 'made', 'existing', 'bombers', 'completely', 'obsolete', '.', '[', '2', ']', 'Rapid', 'advances', 'bomber', 'design', 'late', '1930s', 'meant', 'B-10', 'eclipsed', 'time', 'United', 'States', 'entered', 'World', 'War', 'II', '.', 'The', '139s', 'combat', 'China', 'South', 'East', 'Asia', 'suffered', 'disadvantages', 'early', 'war', 'medium', 'bombers', ',', 'i.e', '.', 'enough', 'armour', 'guns', ',', 'could', \"n't\", 'latest', 'fighters', '.', 'Nevertheless', ',', '166', 'highest', 'performance', 'medium', 'bombers', 'theatre', 'time', ',', 'early', '1942', '.', 'citation', 'needed', ']', 'An', 'abortive', 'effort', 'design', ',', 'Martin', 'Model', '146', ',', 'entered', 'USAAC', 'long-distance', 'bomber', 'design', 'competition', '1934–1935', ',', 'lost', 'Douglas', 'B-18', 'much', 'bigger', 'Boeing', 'B-17', '.', 'The', 'B-18', 'hardly', 'superior', 'B-10', 'actually', 'inferior', 'latest', 'B-10', 'version', ',', 'model', '166', '.', 'citation', 'needed', ']']\n"
     ]
    }
   ],
   "source": [
    "stop_words = set(stopwords.words(\"english\"))\n",
    "filtered_words = []\n",
    "\n",
    "for w in wordlist:\n",
    "    w.lower()\n",
    "    if w not in stop_words:\n",
    "        filtered_words.append(w)\n",
    "print(filtered_words)\n"
   ]
  },
  {
   "cell_type": "code",
   "execution_count": 15,
   "metadata": {},
   "outputs": [
    {
     "name": "stdout",
     "output_type": "stream",
     "text": [
      "['In', '1935', ',', 'Army', 'ordered', 'additional', '103', 'aircraft', 'designated', 'B-10B', '.', 'These', 'minor', 'changes', 'YB-10', '.', 'Shipments', 'began', 'July', '1935', '.', 'B-10Bs', 'served', '2d', 'Bomb', 'Group', 'Langley', 'Field', ',', '9th', 'Bomb', 'Group', 'Mitchel', 'Field', ',', '19th', 'Bomb', 'Group', 'March', 'Field', ',', '6th', 'Composite', 'Group', 'Panama', 'Canal', 'Zone', ',', '4th', 'Composite', 'Group', 'Philippines', '.', 'In', 'addition', 'conventional', 'duties', 'bomber', 'role', ',', 'modified', 'YB-10s', 'B-12As', 'operated', 'time', 'large', 'twin', 'floats', 'coastal', 'patrol', '.', '[', '7', ']', '[', '8', ']', 'In', 'February', '1936', ',', 'U.S.', 'Army', 'Air', 'Corps', 'used', '13', '49th', 'Bomb', 'Squadron', 'B-10Bs', 'supplies', 'residents', 'Virginia′s', 'Tangier', 'Island', 'Maryland′s', 'Smith', 'Island', ';', 'ships', 'unable', 'islands', 'due', 'heavy', 'ice', 'Chesapeake', 'Bay', ',', 'islanders', 'faced', 'starvation', 'severe', 'winter', 'storm', '.', 'The', 'B-10B', 'supply', 'flights', 'followed', 'earlier', 'supply', 'flights', 'islands', 'Goodyear', 'Blimp', 'Enterprise', '2', 'February', '1936', 'squadron′s', 'Keystone', 'B-6A', 'bombers', '9', '10', 'February', '1936', '.', '9', ']', '[', '10', ']', 'With', 'advanced', 'performance', ',', 'Martin', 'company', 'fully', 'expected', 'export', 'orders', 'B-10', 'would', '.', 'The', 'U.S', ',', 'Army', 'owned', 'rights', 'Model', '139', 'design', '.', 'Once', 'Army', \"'s\", 'orders', 'filled', '1936', ',', 'Martin', 'received', 'permission', 'Model', '139s', ',', 'delivered', 'versions', 'several', 'air', 'forces', '.', 'For', 'example', ',', 'six', 'Model', '139Ws', 'sold', 'Siam', 'April', '1937', ',', 'powered', 'Wright', 'R-1820-G3', 'Cyclone', 'engines', ';', '20', 'Model', '139Ws', 'sold', 'Turkey', 'September', '1937', ',', 'powered', 'R-1820-G2', 'engines', '.', '[', 'citation', 'needed', ']', 'On', '19', 'May', '1938', ',', 'Sino-Japanese', 'War', ',', 'two', 'Chinese', 'Nationalist', 'Air', 'Force', 'B-10s', 'successfully', 'flew', 'Japan', '.', 'However', ',', 'rather', 'dropping', 'bombs', ',', 'aircraft', 'dropped', 'propaganda', 'leaflets', '.', '[', '11', ']', '[', '12', ']', '[', '13', ']', '[', '14', ']', '[', '15', ']', 'That', 'followed', 'project', 'submitted', 'February', '1938', '.', 'Two', 'French', 'pilots', '14th', 'International', 'Volunteer', 'Squadron', 'prepared', 'raid', 'dropping', 'incendiary', 'bombs', 'Kagoshima', '.', 'It', 'refused', '.', '[', '16', ']', 'The', 'Dutch', 'Martins', 'fought', 'defense', 'Singapore', 'Netherlands', 'East', 'Indies', '.', '[', 'citation', 'needed', ']', 'Legacy', 'At', 'time', 'creation', ',', 'B-10B', 'advanced', 'General', 'Henry', 'H.', 'Arnold', 'described', 'airpower', 'wonder', 'day', '.', 'It', 'half', 'fast', 'biplane', 'bomber', ',', 'faster', 'contemporary', 'fighter', '.', 'The', 'B-10', 'began', 'revolution', 'bomber', 'design', ';', 'made', 'existing', 'bombers', 'completely', 'obsolete', '.', '[', '2', ']', 'Rapid', 'advances', 'bomber', 'design', 'late', '1930s', 'meant', 'B-10', 'eclipsed', 'time', 'United', 'States', 'entered', 'World', 'War', 'II', '.', 'The', '139s', 'combat', 'China', 'South', 'East', 'Asia', 'suffered', 'disadvantages', 'early', 'war', 'medium', 'bombers', ',', 'i.e', '.', 'enough', 'armour', 'guns', ',', 'could', \"n't\", 'latest', 'fighters', '.', 'Nevertheless', ',', '166', 'highest', 'performance', 'medium', 'bombers', 'theatre', 'time', ',', 'early', '1942', '.', 'citation', 'needed', ']', 'An', 'abortive', 'effort', 'design', ',', 'Martin', 'Model', '146', ',', 'entered', 'USAAC', 'long-distance', 'bomber', 'design', 'competition', '1934–1935', ',', 'lost', 'Douglas', 'B-18', 'much', 'bigger', 'Boeing', 'B-17', '.', 'The', 'B-18', 'hardly', 'superior', 'B-10', 'actually', 'inferior', 'latest', 'B-10', 'version', ',', 'model', '166', '.', 'citation', 'needed', ']']\n"
     ]
    }
   ],
   "source": [
    "for w in filtered_words:\n",
    "    w.replace(\" \", \"\")\n",
    "print(filtered_words)"
   ]
  },
  {
   "cell_type": "code",
   "execution_count": 16,
   "metadata": {},
   "outputs": [
    {
     "name": "stdout",
     "output_type": "stream",
     "text": [
      "['In', '1935', '', 'Army', 'ordered', 'additional', '103', 'aircraft', 'designated', 'B10B', '', 'These', 'minor', 'changes', 'YB10', '', 'Shipments', 'began', 'July', '1935', '', 'B10Bs', 'served', '2d', 'Bomb', 'Group', 'Langley', 'Field', '', '9th', 'Bomb', 'Group', 'Mitchel', 'Field', '', '19th', 'Bomb', 'Group', 'March', 'Field', '', '6th', 'Composite', 'Group', 'Panama', 'Canal', 'Zone', '', '4th', 'Composite', 'Group', 'Philippines', '', 'In', 'addition', 'conventional', 'duties', 'bomber', 'role', '', 'modified', 'YB10s', 'B12As', 'operated', 'time', 'large', 'twin', 'floats', 'coastal', 'patrol', '', '', '7', '', '', '8', '', 'In', 'February', '1936', '', 'US', 'Army', 'Air', 'Corps', 'used', '13', '49th', 'Bomb', 'Squadron', 'B10Bs', 'supplies', 'residents', 'Virginia′s', 'Tangier', 'Island', 'Maryland′s', 'Smith', 'Island', '', 'ships', 'unable', 'islands', 'due', 'heavy', 'ice', 'Chesapeake', 'Bay', '', 'islanders', 'faced', 'starvation', 'severe', 'winter', 'storm', '', 'The', 'B10B', 'supply', 'flights', 'followed', 'earlier', 'supply', 'flights', 'islands', 'Goodyear', 'Blimp', 'Enterprise', '2', 'February', '1936', 'squadron′s', 'Keystone', 'B6A', 'bombers', '9', '10', 'February', '1936', '', '9', '', '', '10', '', 'With', 'advanced', 'performance', '', 'Martin', 'company', 'fully', 'expected', 'export', 'orders', 'B10', 'would', '', 'The', 'US', '', 'Army', 'owned', 'rights', 'Model', '139', 'design', '', 'Once', 'Army', 's', 'orders', 'filled', '1936', '', 'Martin', 'received', 'permission', 'Model', '139s', '', 'delivered', 'versions', 'several', 'air', 'forces', '', 'For', 'example', '', 'six', 'Model', '139Ws', 'sold', 'Siam', 'April', '1937', '', 'powered', 'Wright', 'R1820G3', 'Cyclone', 'engines', '', '20', 'Model', '139Ws', 'sold', 'Turkey', 'September', '1937', '', 'powered', 'R1820G2', 'engines', '', '', 'citation', 'needed', '', 'On', '19', 'May', '1938', '', 'SinoJapanese', 'War', '', 'two', 'Chinese', 'Nationalist', 'Air', 'Force', 'B10s', 'successfully', 'flew', 'Japan', '', 'However', '', 'rather', 'dropping', 'bombs', '', 'aircraft', 'dropped', 'propaganda', 'leaflets', '', '', '11', '', '', '12', '', '', '13', '', '', '14', '', '', '15', '', 'That', 'followed', 'project', 'submitted', 'February', '1938', '', 'Two', 'French', 'pilots', '14th', 'International', 'Volunteer', 'Squadron', 'prepared', 'raid', 'dropping', 'incendiary', 'bombs', 'Kagoshima', '', 'It', 'refused', '', '', '16', '', 'The', 'Dutch', 'Martins', 'fought', 'defense', 'Singapore', 'Netherlands', 'East', 'Indies', '', '', 'citation', 'needed', '', 'Legacy', 'At', 'time', 'creation', '', 'B10B', 'advanced', 'General', 'Henry', 'H', 'Arnold', 'described', 'airpower', 'wonder', 'day', '', 'It', 'half', 'fast', 'biplane', 'bomber', '', 'faster', 'contemporary', 'fighter', '', 'The', 'B10', 'began', 'revolution', 'bomber', 'design', '', 'made', 'existing', 'bombers', 'completely', 'obsolete', '', '', '2', '', 'Rapid', 'advances', 'bomber', 'design', 'late', '1930s', 'meant', 'B10', 'eclipsed', 'time', 'United', 'States', 'entered', 'World', 'War', 'II', '', 'The', '139s', 'combat', 'China', 'South', 'East', 'Asia', 'suffered', 'disadvantages', 'early', 'war', 'medium', 'bombers', '', 'ie', '', 'enough', 'armour', 'guns', '', 'could', 'nt', 'latest', 'fighters', '', 'Nevertheless', '', '166', 'highest', 'performance', 'medium', 'bombers', 'theatre', 'time', '', 'early', '1942', '', 'citation', 'needed', '', 'An', 'abortive', 'effort', 'design', '', 'Martin', 'Model', '146', '', 'entered', 'USAAC', 'longdistance', 'bomber', 'design', 'competition', '1934–1935', '', 'lost', 'Douglas', 'B18', 'much', 'bigger', 'Boeing', 'B17', '', 'The', 'B18', 'hardly', 'superior', 'B10', 'actually', 'inferior', 'latest', 'B10', 'version', '', 'model', '166', '', 'citation', 'needed', '']\n"
     ]
    }
   ],
   "source": [
    "#Removal of puncutation marks\n",
    "import string\n",
    "filtered_words = [''.join(c for c in s if c not in string.punctuation) for s in filtered_words]\n",
    "print(filtered_words)"
   ]
  },
  {
   "cell_type": "code",
   "execution_count": 17,
   "metadata": {},
   "outputs": [
    {
     "name": "stdout",
     "output_type": "stream",
     "text": [
      "['In', '1935', 'Army', 'ordered', 'additional', '103', 'aircraft', 'designated', 'B10B', 'These', 'minor', 'changes', 'YB10', 'Shipments', 'began', 'July', '1935', 'B10Bs', 'served', '2d', 'Bomb', 'Group', 'Langley', 'Field', '9th', 'Bomb', 'Group', 'Mitchel', 'Field', '19th', 'Bomb', 'Group', 'March', 'Field', '6th', 'Composite', 'Group', 'Panama', 'Canal', 'Zone', '4th', 'Composite', 'Group', 'Philippines', 'In', 'addition', 'conventional', 'duties', 'bomber', 'role', 'modified', 'YB10s', 'B12As', 'operated', 'time', 'large', 'twin', 'floats', 'coastal', 'patrol', '7', '8', 'In', 'February', '1936', 'US', 'Army', 'Air', 'Corps', 'used', '13', '49th', 'Bomb', 'Squadron', 'B10Bs', 'supplies', 'residents', 'Virginia′s', 'Tangier', 'Island', 'Maryland′s', 'Smith', 'Island', 'ships', 'unable', 'islands', 'due', 'heavy', 'ice', 'Chesapeake', 'Bay', 'islanders', 'faced', 'starvation', 'severe', 'winter', 'storm', 'The', 'B10B', 'supply', 'flights', 'followed', 'earlier', 'supply', 'flights', 'islands', 'Goodyear', 'Blimp', 'Enterprise', '2', 'February', '1936', 'squadron′s', 'Keystone', 'B6A', 'bombers', '9', '10', 'February', '1936', '9', '10', 'With', 'advanced', 'performance', 'Martin', 'company', 'fully', 'expected', 'export', 'orders', 'B10', 'would', 'The', 'US', 'Army', 'owned', 'rights', 'Model', '139', 'design', 'Once', 'Army', 's', 'orders', 'filled', '1936', 'Martin', 'received', 'permission', 'Model', '139s', 'delivered', 'versions', 'several', 'air', 'forces', 'For', 'example', 'six', 'Model', '139Ws', 'sold', 'Siam', 'April', '1937', 'powered', 'Wright', 'R1820G3', 'Cyclone', 'engines', '20', 'Model', '139Ws', 'sold', 'Turkey', 'September', '1937', 'powered', 'R1820G2', 'engines', 'citation', 'needed', 'On', '19', 'May', '1938', 'SinoJapanese', 'War', 'two', 'Chinese', 'Nationalist', 'Air', 'Force', 'B10s', 'successfully', 'flew', 'Japan', 'However', 'rather', 'dropping', 'bombs', 'aircraft', 'dropped', 'propaganda', 'leaflets', '11', '12', '13', '14', '15', 'That', 'followed', 'project', 'submitted', 'February', '1938', 'Two', 'French', 'pilots', '14th', 'International', 'Volunteer', 'Squadron', 'prepared', 'raid', 'dropping', 'incendiary', 'bombs', 'Kagoshima', 'It', 'refused', '16', 'The', 'Dutch', 'Martins', 'fought', 'defense', 'Singapore', 'Netherlands', 'East', 'Indies', 'citation', 'needed', 'Legacy', 'At', 'time', 'creation', 'B10B', 'advanced', 'General', 'Henry', 'H', 'Arnold', 'described', 'airpower', 'wonder', 'day', 'It', 'half', 'fast', 'biplane', 'bomber', 'faster', 'contemporary', 'fighter', 'The', 'B10', 'began', 'revolution', 'bomber', 'design', 'made', 'existing', 'bombers', 'completely', 'obsolete', '2', 'Rapid', 'advances', 'bomber', 'design', 'late', '1930s', 'meant', 'B10', 'eclipsed', 'time', 'United', 'States', 'entered', 'World', 'War', 'II', 'The', '139s', 'combat', 'China', 'South', 'East', 'Asia', 'suffered', 'disadvantages', 'early', 'war', 'medium', 'bombers', 'ie', 'enough', 'armour', 'guns', 'could', 'nt', 'latest', 'fighters', 'Nevertheless', '166', 'highest', 'performance', 'medium', 'bombers', 'theatre', 'time', 'early', '1942', 'citation', 'needed', 'An', 'abortive', 'effort', 'design', 'Martin', 'Model', '146', 'entered', 'USAAC', 'longdistance', 'bomber', 'design', 'competition', '1934–1935', 'lost', 'Douglas', 'B18', 'much', 'bigger', 'Boeing', 'B17', 'The', 'B18', 'hardly', 'superior', 'B10', 'actually', 'inferior', 'latest', 'B10', 'version', 'model', '166', 'citation', 'needed']\n"
     ]
    }
   ],
   "source": [
    "import string\n",
    "processed_word = []\n",
    "for each in filtered_words:\n",
    "    if not each:\n",
    "        continue\n",
    "    else:\n",
    "        processed_word.append(each) \n",
    "print(processed_word)"
   ]
  },
  {
   "cell_type": "code",
   "execution_count": 19,
   "metadata": {},
   "outputs": [
    {
     "name": "stdout",
     "output_type": "stream",
     "text": [
      "['In', '1935', 'Army', 'ordered', 'additional', '103', 'aircraft', 'designated', 'B10B', 'These', 'minor', 'change', 'YB10', 'Shipments', 'began', 'July', '1935', 'B10Bs', 'served', '2d', 'Bomb', 'Group', 'Langley', 'Field', '9th', 'Bomb', 'Group', 'Mitchel', 'Field', '19th', 'Bomb', 'Group', 'March', 'Field', '6th', 'Composite', 'Group', 'Panama', 'Canal', 'Zone', '4th', 'Composite', 'Group', 'Philippines', 'In', 'addition', 'conventional', 'duty', 'bomber', 'role', 'modified', 'YB10s', 'B12As', 'operated', 'time', 'large', 'twin', 'float', 'coastal', 'patrol', '7', '8', 'In', 'February', '1936', 'US', 'Army', 'Air', 'Corps', 'used', '13', '49th', 'Bomb', 'Squadron', 'B10Bs', 'supply', 'resident', 'Virginia′s', 'Tangier', 'Island', 'Maryland′s', 'Smith', 'Island', 'ship', 'unable', 'island', 'due', 'heavy', 'ice', 'Chesapeake', 'Bay', 'islander', 'faced', 'starvation', 'severe', 'winter', 'storm', 'The', 'B10B', 'supply', 'flight', 'followed', 'earlier', 'supply', 'flight', 'island', 'Goodyear', 'Blimp', 'Enterprise', '2', 'February', '1936', 'squadron′s', 'Keystone', 'B6A', 'bomber', '9', '10', 'February', '1936', '9', '10', 'With', 'advanced', 'performance', 'Martin', 'company', 'fully', 'expected', 'export', 'order', 'B10', 'would', 'The', 'US', 'Army', 'owned', 'right', 'Model', '139', 'design', 'Once', 'Army', 's', 'order', 'filled', '1936', 'Martin', 'received', 'permission', 'Model', '139s', 'delivered', 'version', 'several', 'air', 'force', 'For', 'example', 'six', 'Model', '139Ws', 'sold', 'Siam', 'April', '1937', 'powered', 'Wright', 'R1820G3', 'Cyclone', 'engine', '20', 'Model', '139Ws', 'sold', 'Turkey', 'September', '1937', 'powered', 'R1820G2', 'engine', 'citation', 'needed', 'On', '19', 'May', '1938', 'SinoJapanese', 'War', 'two', 'Chinese', 'Nationalist', 'Air', 'Force', 'B10s', 'successfully', 'flew', 'Japan', 'However', 'rather', 'dropping', 'bomb', 'aircraft', 'dropped', 'propaganda', 'leaflet', '11', '12', '13', '14', '15', 'That', 'followed', 'project', 'submitted', 'February', '1938', 'Two', 'French', 'pilot', '14th', 'International', 'Volunteer', 'Squadron', 'prepared', 'raid', 'dropping', 'incendiary', 'bomb', 'Kagoshima', 'It', 'refused', '16', 'The', 'Dutch', 'Martins', 'fought', 'defense', 'Singapore', 'Netherlands', 'East', 'Indies', 'citation', 'needed', 'Legacy', 'At', 'time', 'creation', 'B10B', 'advanced', 'General', 'Henry', 'H', 'Arnold', 'described', 'airpower', 'wonder', 'day', 'It', 'half', 'fast', 'biplane', 'bomber', 'faster', 'contemporary', 'fighter', 'The', 'B10', 'began', 'revolution', 'bomber', 'design', 'made', 'existing', 'bomber', 'completely', 'obsolete', '2', 'Rapid', 'advance', 'bomber', 'design', 'late', '1930s', 'meant', 'B10', 'eclipsed', 'time', 'United', 'States', 'entered', 'World', 'War', 'II', 'The', '139s', 'combat', 'China', 'South', 'East', 'Asia', 'suffered', 'disadvantage', 'early', 'war', 'medium', 'bomber', 'ie', 'enough', 'armour', 'gun', 'could', 'nt', 'latest', 'fighter', 'Nevertheless', '166', 'highest', 'performance', 'medium', 'bomber', 'theatre', 'time', 'early', '1942', 'citation', 'needed', 'An', 'abortive', 'effort', 'design', 'Martin', 'Model', '146', 'entered', 'USAAC', 'longdistance', 'bomber', 'design', 'competition', '1934–1935', 'lost', 'Douglas', 'B18', 'much', 'bigger', 'Boeing', 'B17', 'The', 'B18', 'hardly', 'superior', 'B10', 'actually', 'inferior', 'latest', 'B10', 'version', 'model', '166', 'citation', 'needed']\n"
     ]
    }
   ],
   "source": [
    "#Lemmatization addin u in front of certain words\n",
    "lemma_word = []\n",
    "for w in processed_word:\n",
    "    lemma_word.append(wnl.lemmatize(w))\n",
    "print(lemma_word)"
   ]
  },
  {
   "cell_type": "code",
   "execution_count": 20,
   "metadata": {},
   "outputs": [
    {
     "name": "stdout",
     "output_type": "stream",
     "text": [
      "['In', '1935', 'armi', 'order', 'addit', '103', 'aircraft', 'design', 'b10b', 'these', 'minor', 'chang', 'yb10', 'shipment', 'began', 'juli', '1935', 'b10b', 'serv', '2d', 'bomb', 'group', 'langley', 'field', '9th', 'bomb', 'group', 'mitchel', 'field', '19th', 'bomb', 'group', 'march', 'field', '6th', 'composit', 'group', 'panama', 'canal', 'zone', '4th', 'composit', 'group', 'philippin', 'In', 'addit', 'convent', 'duti', 'bomber', 'role', 'modifi', 'yb10', 'b12a', 'oper', 'time', 'larg', 'twin', 'float', 'coastal', 'patrol', '7', '8', 'In', 'februari', '1936', 'US', 'armi', 'air', 'corp', 'use', '13', '49th', 'bomb', 'squadron', 'b10b', 'suppli', 'resid', 'virginia′', 'tangier', 'island', 'maryland′', 'smith', 'island', 'ship', 'unabl', 'island', 'due', 'heavi', 'ice', 'chesapeak', 'bay', 'island', 'face', 'starvat', 'sever', 'winter', 'storm', 'the', 'b10b', 'suppli', 'flight', 'follow', 'earlier', 'suppli', 'flight', 'island', 'goodyear', 'blimp', 'enterpris', '2', 'februari', '1936', 'squadron′', 'keyston', 'b6a', 'bomber', '9', '10', 'februari', '1936', '9', '10', 'with', 'advanc', 'perform', 'martin', 'compani', 'fulli', 'expect', 'export', 'order', 'b10', 'would', 'the', 'US', 'armi', 'own', 'right', 'model', '139', 'design', 'onc', 'armi', 's', 'order', 'fill', '1936', 'martin', 'receiv', 'permiss', 'model', '139', 'deliv', 'version', 'sever', 'air', 'forc', 'for', 'exampl', 'six', 'model', '139w', 'sold', 'siam', 'april', '1937', 'power', 'wright', 'r1820g3', 'cyclon', 'engin', '20', 'model', '139w', 'sold', 'turkey', 'septemb', '1937', 'power', 'r1820g2', 'engin', 'citat', 'need', 'On', '19', 'may', '1938', 'sinojapanes', 'war', 'two', 'chines', 'nationalist', 'air', 'forc', 'b10', 'success', 'flew', 'japan', 'howev', 'rather', 'drop', 'bomb', 'aircraft', 'drop', 'propaganda', 'leaflet', '11', '12', '13', '14', '15', 'that', 'follow', 'project', 'submit', 'februari', '1938', 'two', 'french', 'pilot', '14th', 'intern', 'volunt', 'squadron', 'prepar', 'raid', 'drop', 'incendiari', 'bomb', 'kagoshima', 'It', 'refus', '16', 'the', 'dutch', 'martin', 'fought', 'defens', 'singapor', 'netherland', 'east', 'indi', 'citat', 'need', 'legaci', 'At', 'time', 'creation', 'b10b', 'advanc', 'gener', 'henri', 'H', 'arnold', 'describ', 'airpow', 'wonder', 'day', 'It', 'half', 'fast', 'biplan', 'bomber', 'faster', 'contemporari', 'fighter', 'the', 'b10', 'began', 'revolut', 'bomber', 'design', 'made', 'exist', 'bomber', 'complet', 'obsolet', '2', 'rapid', 'advanc', 'bomber', 'design', 'late', '1930', 'meant', 'b10', 'eclips', 'time', 'unit', 'state', 'enter', 'world', 'war', 'II', 'the', '139', 'combat', 'china', 'south', 'east', 'asia', 'suffer', 'disadvantag', 'earli', 'war', 'medium', 'bomber', 'ie', 'enough', 'armour', 'gun', 'could', 'nt', 'latest', 'fighter', 'nevertheless', '166', 'highest', 'perform', 'medium', 'bomber', 'theatr', 'time', 'earli', '1942', 'citat', 'need', 'An', 'abort', 'effort', 'design', 'martin', 'model', '146', 'enter', 'usaac', 'longdist', 'bomber', 'design', 'competit', '1934–1935', 'lost', 'dougla', 'b18', 'much', 'bigger', 'boe', 'b17', 'the', 'b18', 'hardli', 'superior', 'b10', 'actual', 'inferior', 'latest', 'b10', 'version', 'model', '166', 'citat', 'need']\n"
     ]
    }
   ],
   "source": [
    "#stemming add more u in front of words\n",
    "from nltk.stem import PorterStemmer\n",
    "ps = PorterStemmer()\n",
    "#Stemming\n",
    "stemmed_words = []\n",
    "for w in processed_word:\n",
    "    stemmed_words.append(ps.stem(w))\n",
    "print(stemmed_words)"
   ]
  },
  {
   "cell_type": "code",
   "execution_count": 21,
   "metadata": {},
   "outputs": [
    {
     "name": "stdout",
     "output_type": "stream",
     "text": [
      "Those are the words and their frequency of occurrence in the book:\n",
      "Counter({'The': 6, 'Group': 5, 'bomber': 5, 'B10': 5, 'Model': 5, 'design': 5, 'Army': 4, 'Bomb': 4, 'time': 4, 'February': 4, '1936': 4, 'bombers': 4, 'citation': 4, 'needed': 4, 'In': 3, 'B10B': 3, 'Field': 3, 'Martin': 3, '1935': 2, 'aircraft': 2, 'began': 2, 'B10Bs': 2, 'Composite': 2, 'US': 2, 'Air': 2, '13': 2, 'Squadron': 2, 'Island': 2, 'islands': 2, 'supply': 2, 'flights': 2, 'followed': 2, '2': 2, '9': 2, '10': 2, 'advanced': 2, 'performance': 2, 'orders': 2, '139s': 2, '139Ws': 2, 'sold': 2, '1937': 2, 'powered': 2, 'engines': 2, '1938': 2, 'War': 2, 'dropping': 2, 'bombs': 2, 'It': 2, 'East': 2, 'entered': 2, 'early': 2, 'medium': 2, 'latest': 2, '166': 2, 'B18': 2, 'ordered': 1, 'additional': 1, '103': 1, 'designated': 1, 'These': 1, 'minor': 1, 'changes': 1, 'YB10': 1, 'Shipments': 1, 'July': 1, 'served': 1, '2d': 1, 'Langley': 1, '9th': 1, 'Mitchel': 1, '19th': 1, 'March': 1, '6th': 1, 'Panama': 1, 'Canal': 1, 'Zone': 1, '4th': 1, 'Philippines': 1, 'addition': 1, 'conventional': 1, 'duties': 1, 'role': 1, 'modified': 1, 'YB10s': 1, 'B12As': 1, 'operated': 1, 'large': 1, 'twin': 1, 'floats': 1, 'coastal': 1, 'patrol': 1, '7': 1, '8': 1, 'Corps': 1, 'used': 1, '49th': 1, 'supplies': 1, 'residents': 1, 'Virginia′s': 1, 'Tangier': 1, 'Maryland′s': 1, 'Smith': 1, 'ships': 1, 'unable': 1, 'due': 1, 'heavy': 1, 'ice': 1, 'Chesapeake': 1, 'Bay': 1, 'islanders': 1, 'faced': 1, 'starvation': 1, 'severe': 1, 'winter': 1, 'storm': 1, 'earlier': 1, 'Goodyear': 1, 'Blimp': 1, 'Enterprise': 1, 'squadron′s': 1, 'Keystone': 1, 'B6A': 1, 'With': 1, 'company': 1, 'fully': 1, 'expected': 1, 'export': 1, 'would': 1, 'owned': 1, 'rights': 1, '139': 1, 'Once': 1, 's': 1, 'filled': 1, 'received': 1, 'permission': 1, 'delivered': 1, 'versions': 1, 'several': 1, 'air': 1, 'forces': 1, 'For': 1, 'example': 1, 'six': 1, 'Siam': 1, 'April': 1, 'Wright': 1, 'R1820G3': 1, 'Cyclone': 1, '20': 1, 'Turkey': 1, 'September': 1, 'R1820G2': 1, 'On': 1, '19': 1, 'May': 1, 'SinoJapanese': 1, 'two': 1, 'Chinese': 1, 'Nationalist': 1, 'Force': 1, 'B10s': 1, 'successfully': 1, 'flew': 1, 'Japan': 1, 'However': 1, 'rather': 1, 'dropped': 1, 'propaganda': 1, 'leaflets': 1, '11': 1, '12': 1, '14': 1, '15': 1, 'That': 1, 'project': 1, 'submitted': 1, 'Two': 1, 'French': 1, 'pilots': 1, '14th': 1, 'International': 1, 'Volunteer': 1, 'prepared': 1, 'raid': 1, 'incendiary': 1, 'Kagoshima': 1, 'refused': 1, '16': 1, 'Dutch': 1, 'Martins': 1, 'fought': 1, 'defense': 1, 'Singapore': 1, 'Netherlands': 1, 'Indies': 1, 'Legacy': 1, 'At': 1, 'creation': 1, 'General': 1, 'Henry': 1, 'H': 1, 'Arnold': 1, 'described': 1, 'airpower': 1, 'wonder': 1, 'day': 1, 'half': 1, 'fast': 1, 'biplane': 1, 'faster': 1, 'contemporary': 1, 'fighter': 1, 'revolution': 1, 'made': 1, 'existing': 1, 'completely': 1, 'obsolete': 1, 'Rapid': 1, 'advances': 1, 'late': 1, '1930s': 1, 'meant': 1, 'eclipsed': 1, 'United': 1, 'States': 1, 'World': 1, 'II': 1, 'combat': 1, 'China': 1, 'South': 1, 'Asia': 1, 'suffered': 1, 'disadvantages': 1, 'war': 1, 'ie': 1, 'enough': 1, 'armour': 1, 'guns': 1, 'could': 1, 'nt': 1, 'fighters': 1, 'Nevertheless': 1, 'highest': 1, 'theatre': 1, '1942': 1, 'An': 1, 'abortive': 1, 'effort': 1, '146': 1, 'USAAC': 1, 'longdistance': 1, 'competition': 1, '1934–1935': 1, 'lost': 1, 'Douglas': 1, 'much': 1, 'bigger': 1, 'Boeing': 1, 'B17': 1, 'hardly': 1, 'superior': 1, 'actually': 1, 'inferior': 1, 'version': 1, 'model': 1})\n",
      "Those are the 10 most bigrams occurring in the book:\n",
      "[('139Ws', 'sold'), ('1937', 'powered'), ('9', '10'), ('supply', 'flights'), ('US', 'Army'), ('citation', 'needed'), ('medium', 'bombers'), ('Composite', 'Group'), ('Model', '139Ws'), ('February', '1936')]\n"
     ]
    }
   ],
   "source": [
    "\n",
    "for w in processed_word:\n",
    "    frequencies[w] += 1\n",
    " \n",
    "bigram = nltk.collocations.BigramAssocMeasures()\n",
    "finder = BigramCollocationFinder.from_words(processed_word)\n",
    "#To find frequently together occuring 2 words\n",
    "finder.apply_freq_filter(2)\n",
    "  \n",
    "print ('Those are the words and their frequency of occurrence in the book:')\n",
    "print (frequencies) \n",
    "\n",
    "print ('Those are the 10 most bigrams occurring in the book:')\n",
    "print (finder.nbest(bigram.pmi, 10))\n",
    "#print (read_book.index('data'))\n",
    "#print (read_book.index('Assisted Reporting'))"
   ]
  },
  {
   "cell_type": "markdown",
   "metadata": {},
   "source": [
    "## Rake Example:\n",
    "Below is a sample code that gets ranked phrases from rake. This is mainly used to generate keyphrases. We can fine tune this"
   ]
  },
  {
   "cell_type": "code",
   "execution_count": 24,
   "metadata": {},
   "outputs": [
    {
     "name": "stdout",
     "output_type": "stream",
     "text": [
      "['11 ][ 12 ][ 13 ][ 14 ][ 15', 'army air corps used 13 49th bomb squadron b', '10b supply flights followed earlier supply flights', 'distance bomber design competition 1934 – 1935', 'two chinese nationalist air force b', 'united states entered world war ii', '14th international volunteer squadron prepared', 'additional 103 aircraft designated b', 'aircraft dropped propaganda leaflets', 'much bigger boeing b', 'south east asia suffered', 'martin company fully expected', 'existing bombers completely obsolete', 'early war medium bombers', '7 ][ 8', 'several air forces', '9 ][ 10', 'two french pilots', '9th bomb group', '2d bomb group', '19th bomb group', 'netherlands east indies', 'martin received permission', 'martin model 146', 'model 139 design', 'severe winter storm', 'panama canal zone', 'late 1930s meant', 'large twin floats', 'islanders faced starvation', 'goodyear blimp enterprise', 'general henry h', 'dutch martins fought', '6th composite group', '4th composite group', 'six model 139ws', '20 model 139ws', 'g3 cyclone engines', '19 may 1938', '10 would flood', 'dropping incendiary bombs', '10s successfully flew', 'export model 139s', 'squadron ′', '10 february 1936', '2 february 1936', 'bomber design', 'medium bombers', 'japanese war', 'latest b', 'keystone b', 'douglas b', 'army owned', 'army ordered', 'july 1935', 'bomber role', 'biplane bomber', 'february 1938', 'early 1942', 'dropping bombs', '6a bombers', 'february 1936', 'g2 engines', 'model 166', '10 version', '10 began', 'virginia ′', 'usaac long', 'tangier island', 'smith island', 'ships unable', 'shipments began', 'september 1937', 'rapid advances', 'project submitted', 'mitchel field', 'minor changes', 'maryland ′', 'march field', 'latest fighters', 'langley field', 'highest performance', 'heavy ice', 'hardly superior', 'followed', 'export orders', 'enough armour', 'drop supplies', 'delivered versions', 'conventional duties', 'contemporary fighter', 'coastal patrol', 'citation needed', 'chesapeake bay', 'arnold described', 'april 1937', 'airpower wonder', 'actually inferior', 'abortive effort', '10b', 'b', 'wright r', 'modified yb', 'islands due', 'entered', 'army', 'advanced performance', '10bs served', '1935', 'design', '10', '1936', '9', '2', '139s', '10s', 'yb', 'r', 'orders', 'islands', 'advanced', '166', '10bs', 'u', 'turkey', 'time', 'theatre', 'sold', 'sino', 'singapore', 'siam', 'rights', 'revolution', 'residents', 'refused', 'reach', 'rather', 'raid', 'powered', 'philippines', 'outrun', 'operated', 'nevertheless', 'modernize', 'made', 'lost', 'legacy', 'kagoshima', 'japan', 'however', 'half', 'guns', 'filled', 'faster', 'fast', 'example', 'eclipsed', 'e', 'disadvantages', 'defense', 'day', 'creation', 'combat', 'china', 'addition', '1820', '18', '17', '16', '12as']\n"
     ]
    }
   ],
   "source": [
    "from rake_nltk import Rake\n",
    "r = Rake()\n",
    "r.extract_keywords_from_text(read_book)\n",
    "print(r.get_ranked_phrases())"
   ]
  }
 ],
 "metadata": {
  "kernelspec": {
   "display_name": "Python 3",
   "language": "python",
   "name": "python3"
  },
  "language_info": {
   "codemirror_mode": {
    "name": "ipython",
    "version": 3
   },
   "file_extension": ".py",
   "mimetype": "text/x-python",
   "name": "python",
   "nbconvert_exporter": "python",
   "pygments_lexer": "ipython3",
   "version": "3.6.1"
  }
 },
 "nbformat": 4,
 "nbformat_minor": 2
}
