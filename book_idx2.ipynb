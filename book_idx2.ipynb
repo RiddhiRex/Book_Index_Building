{
 "cells": [
  {
   "cell_type": "code",
   "execution_count": 44,
   "metadata": {},
   "outputs": [
    {
     "name": "stdout",
     "output_type": "stream",
     "text": [
      "<open file 'samplefile.txt', mode 'r' at 0x000000000A968DB0>\n",
      "['Data', 'science', ',', 'also', 'known', 'as', 'data-driven', 'science', ',', 'is', 'an', 'interdisciplinary', 'field', 'about', 'scientific', 'methods', ',', 'processes', ',', 'and', 'systems', 'to', 'extract', 'knowledge', 'or', 'insights', 'from', 'data', 'in', 'various', 'forms', ',', 'either', 'structured', 'or', 'unstructured', ',', 'similar', 'to', 'data', 'mining', '.', 'Data', 'science', 'is', 'a', 'concept', 'to', 'unify', 'statistics', ',', 'data', 'analysis', 'and', 'their', 'related', 'methods', 'in', 'order', 'to', 'understand', 'and', 'analyze', 'actual', 'phenomena', 'with', 'data', '.', 'It', 'employs', 'techniques', 'and', 'theories', 'drawn', 'from', 'many', 'fields', 'within', 'the', 'broad', 'areas', 'of', 'mathematics', ',', 'statistics', ',', 'information', 'science', ',', 'and', 'computer', 'science', ',', 'in', 'particular', 'from', 'the', 'subdomains', 'of', 'machine', 'learning', ',', 'classification', ',', 'cluster', 'analysis', ',', 'data', 'mining', ',', 'databases', ',', 'and', 'visualization', '.', 'Turing', 'award', 'winner', 'Jim', 'Gray', 'imagined', 'data', 'science', 'as', 'a', 'fourth', 'paradigm', 'of', 'science', '(', 'empirical', ',', 'theoretical', ',', 'computational', 'and', 'now', 'data-driven', ')', 'and', 'asserted', 'that', '``', 'everything', 'about', 'science', 'is', 'changing', 'because', 'of', 'the', 'impact', 'of', 'information', 'technology', \"''\", 'and', 'the', 'data', 'deluge', '.', 'When', 'Harvard', 'Business', 'Review', 'called', 'it', 'The', 'Sexiest', 'Job', 'of', 'the', '21st', 'Century', 'the', 'term', 'became', 'a', 'buzzword', ',', 'and', 'is', 'now', 'often', 'applied', 'to', 'business', 'analytics', ',', 'or', 'even', 'arbitrary', 'use', 'of', 'data', ',', 'or', 'used', 'as', 'a', 'sexed-up', 'term', 'for', 'statistics', '.', 'While', 'many', 'university', 'programs', 'now', 'offer', 'a', 'data', 'science', 'degree', ',', 'there', 'exists', 'no', 'consensus', 'on', 'a', 'definition', 'or', 'curriculum', 'contents', '.', 'Because', 'of', 'the', 'current', 'popularity', 'of', 'this', 'term', ',', 'there', 'are', 'many', '``', 'advocacy', 'efforts', \"''\", 'surrounding', 'it', '.', 'Data', 'scientists', 'use', 'their', 'data', 'and', 'analytical', 'ability', 'to', 'find', 'and', 'interpret', 'rich', 'data', 'sources', ';', 'manage', 'large', 'amounts', 'of', 'data', 'despite', 'hardware', ',', 'software', ',', 'and', 'bandwidth', 'constraints', ';', 'merge', 'data', 'sources', ';', 'ensure', 'consistency', 'of', 'datasets', ';', 'create', 'visualizations', 'to', 'aid', 'in', 'understanding', 'data', ';', 'build', 'mathematical', 'models', 'using', 'the', 'data', ';', 'and', 'present', 'and', 'communicate', 'the', 'data', 'insights/findings', '.', 'They', 'are', 'often', 'expected', 'to', 'produce', 'answers', 'in', 'days', 'rather', 'than', 'months', ',', 'work', 'by', 'exploratory', 'analysis', 'and', 'rapid', 'iteration', ',', 'and', 'to', 'produce', 'and', 'present', 'results', 'with', 'dashboards', '(', 'displays', 'of', 'current', 'values', ')', 'rather', 'than', 'papers/reports', ',', 'as', 'statisticians', 'normally', 'do', '.', 'Data', 'science', 'is', 'not', 'only', 'about', 'technology', 'and', 'mathematic', 'effective', 'data', 'scientists', 'require', 'a', 'combination', 'of', 'technical', 'skills', 'and', 'soft', 'skills', 'to', 'turn', 'data', 'into', 'actionable', 'insight', '.', 'Data', 'scientist', 'has', 'become', 'a', 'popular', 'occupation', 'with', 'Harvard', 'Business', 'Review', 'dubbing', 'it', 'The', 'Sexiest', 'Job', 'of', 'the', '21st', 'Century', 'and', 'McKinsey', '&', 'Company', 'projecting', 'a', 'global', 'excess', 'demand', 'of', '1.5', 'million', 'new', 'data', 'scientists', '.', 'Universities', 'are', 'offering', 'masters', 'courses', 'in', 'data', 'science', '.', 'Shorter', 'private', 'bootcamps', 'are', 'also', 'offering', 'data', 'science', 'certificates', 'including', 'student-paid', 'programs', 'like', 'General', 'Assembly', 'to', 'employer-paid', 'programs', 'like', 'The', 'Data', 'Incubator']\n"
     ]
    }
   ],
   "source": [
    "import nltk, collections\n",
    "from nltk.collocations import *\n",
    "from nltk.corpus import stopwords\n",
    "from nltk.stem import WordNetLemmatizer\n",
    "wnl = WordNetLemmatizer()\n",
    "\n",
    "frequencies = collections.Counter()\n",
    "with open('samplefile.txt') as book:\n",
    "    print book\n",
    "    read_book = book.read()\n",
    "words = nltk.word_tokenize(read_book)\n",
    "print words"
   ]
  },
  {
   "cell_type": "code",
   "execution_count": 51,
   "metadata": {},
   "outputs": [
    {
     "name": "stdout",
     "output_type": "stream",
     "text": [
      "447\n",
      "430\n"
     ]
    }
   ],
   "source": [
    "tagged = nltk.pos_tag(words)\n",
    "\n",
    "wrds = filter(lambda (word, tag): tag != 'VB', tagged)\n",
    "#Count of all words\n",
    "print len(tagged)\n",
    "#count of words after removing Verbs \n",
    "print len(wrds)\n"
   ]
  },
  {
   "cell_type": "code",
   "execution_count": 54,
   "metadata": {},
   "outputs": [
    {
     "name": "stdout",
     "output_type": "stream",
     "text": [
      "['Data', 'science', ',', 'also', 'known', 'as', 'data-driven', 'science', ',', 'is', 'an', 'interdisciplinary', 'field', 'about', 'scientific', 'methods', ',', 'processes', ',', 'and', 'systems', 'to', 'knowledge', 'or', 'insights', 'from', 'data', 'in', 'various', 'forms', ',', 'either', 'structured', 'or', 'unstructured', ',', 'similar', 'to', 'mining', '.', 'Data', 'science', 'is', 'a', 'concept', 'to', 'statistics', ',', 'data', 'analysis', 'and', 'their', 'related', 'methods', 'in', 'order', 'to', 'and', 'actual', 'phenomena', 'with', 'data', '.', 'It', 'employs', 'techniques', 'and', 'theories', 'drawn', 'from', 'many', 'fields', 'within', 'the', 'broad', 'areas', 'of', 'mathematics', ',', 'statistics', ',', 'information', 'science', ',', 'and', 'computer', 'science', ',', 'in', 'particular', 'from', 'the', 'subdomains', 'of', 'machine', 'learning', ',', 'classification', ',', 'cluster', 'analysis', ',', 'data', 'mining', ',', 'databases', ',', 'and', 'visualization', '.', 'Turing', 'award', 'winner', 'Jim', 'Gray', 'imagined', 'data', 'science', 'as', 'a', 'fourth', 'paradigm', 'of', 'science', '(', 'empirical', ',', 'theoretical', ',', 'computational', 'and', 'now', 'data-driven', ')', 'and', 'asserted', 'that', '``', 'everything', 'about', 'science', 'is', 'changing', 'because', 'of', 'the', 'impact', 'of', 'information', 'technology', \"''\", 'and', 'the', 'data', 'deluge', '.', 'When', 'Harvard', 'Business', 'Review', 'called', 'it', 'The', 'Sexiest', 'Job', 'of', 'the', '21st', 'Century', 'the', 'term', 'became', 'a', 'buzzword', ',', 'and', 'is', 'now', 'often', 'applied', 'to', 'business', 'analytics', ',', 'or', 'even', 'arbitrary', 'use', 'of', 'data', ',', 'or', 'used', 'as', 'a', 'sexed-up', 'term', 'for', 'statistics', '.', 'While', 'many', 'university', 'programs', 'now', 'offer', 'a', 'data', 'science', 'degree', ',', 'there', 'exists', 'no', 'consensus', 'on', 'a', 'definition', 'or', 'curriculum', 'contents', '.', 'Because', 'of', 'the', 'current', 'popularity', 'of', 'this', 'term', ',', 'there', 'are', 'many', '``', 'advocacy', 'efforts', \"''\", 'surrounding', 'it', '.', 'Data', 'scientists', 'use', 'their', 'data', 'and', 'analytical', 'ability', 'to', 'and', 'rich', 'data', 'sources', ';', 'large', 'amounts', 'of', 'data', 'despite', 'hardware', ',', 'software', ',', 'and', 'bandwidth', 'constraints', ';', 'data', 'sources', ';', 'consistency', 'of', 'datasets', ';', 'visualizations', 'to', 'in', 'understanding', 'data', ';', 'mathematical', 'models', 'using', 'the', 'data', ';', 'and', 'present', 'and', 'the', 'data', 'insights/findings', '.', 'They', 'are', 'often', 'expected', 'to', 'answers', 'in', 'days', 'rather', 'than', 'months', ',', 'work', 'by', 'exploratory', 'analysis', 'and', 'rapid', 'iteration', ',', 'and', 'to', 'and', 'present', 'results', 'with', 'dashboards', '(', 'displays', 'of', 'current', 'values', ')', 'rather', 'than', 'papers/reports', ',', 'as', 'statisticians', 'normally', 'do', '.', 'Data', 'science', 'is', 'not', 'only', 'about', 'technology', 'and', 'mathematic', 'effective', 'data', 'scientists', 'require', 'a', 'combination', 'of', 'technical', 'skills', 'and', 'soft', 'skills', 'to', 'data', 'into', 'actionable', 'insight', '.', 'Data', 'scientist', 'has', 'become', 'a', 'popular', 'occupation', 'with', 'Harvard', 'Business', 'Review', 'dubbing', 'it', 'The', 'Sexiest', 'Job', 'of', 'the', '21st', 'Century', 'and', 'McKinsey', '&', 'Company', 'projecting', 'a', 'global', 'excess', 'demand', 'of', '1.5', 'million', 'new', 'data', 'scientists', '.', 'Universities', 'are', 'offering', 'masters', 'courses', 'in', 'data', 'science', '.', 'Shorter', 'private', 'bootcamps', 'are', 'also', 'offering', 'data', 'science', 'certificates', 'including', 'student-paid', 'programs', 'like', 'General', 'Assembly', 'to', 'employer-paid', 'programs', 'like', 'The', 'Data', 'Incubator']\n"
     ]
    }
   ],
   "source": [
    "wordlist = []\n",
    "for w in wrds:\n",
    "    wordlist.append(w[0])\n",
    "print wordlist"
   ]
  },
  {
   "cell_type": "code",
   "execution_count": 55,
   "metadata": {},
   "outputs": [
    {
     "name": "stdout",
     "output_type": "stream",
     "text": [
      "['Data', 'science', ',', 'also', 'known', 'data-driven', 'science', ',', 'interdisciplinary', 'field', 'scientific', 'methods', ',', 'processes', ',', 'systems', 'knowledge', 'insights', 'data', 'various', 'forms', ',', 'either', 'structured', 'unstructured', ',', 'similar', 'mining', '.', 'Data', 'science', 'concept', 'statistics', ',', 'data', 'analysis', 'related', 'methods', 'order', 'actual', 'phenomena', 'data', '.', 'It', 'employs', 'techniques', 'theories', 'drawn', 'many', 'fields', 'within', 'broad', 'areas', 'mathematics', ',', 'statistics', ',', 'information', 'science', ',', 'computer', 'science', ',', 'particular', 'subdomains', 'machine', 'learning', ',', 'classification', ',', 'cluster', 'analysis', ',', 'data', 'mining', ',', 'databases', ',', 'visualization', '.', 'Turing', 'award', 'winner', 'Jim', 'Gray', 'imagined', 'data', 'science', 'fourth', 'paradigm', 'science', '(', 'empirical', ',', 'theoretical', ',', 'computational', 'data-driven', ')', 'asserted', '``', 'everything', 'science', 'changing', 'impact', 'information', 'technology', \"''\", 'data', 'deluge', '.', 'When', 'Harvard', 'Business', 'Review', 'called', 'The', 'Sexiest', 'Job', '21st', 'Century', 'term', 'became', 'buzzword', ',', 'often', 'applied', 'business', 'analytics', ',', 'even', 'arbitrary', 'use', 'data', ',', 'used', 'sexed-up', 'term', 'statistics', '.', 'While', 'many', 'university', 'programs', 'offer', 'data', 'science', 'degree', ',', 'exists', 'consensus', 'definition', 'curriculum', 'contents', '.', 'Because', 'current', 'popularity', 'term', ',', 'many', '``', 'advocacy', 'efforts', \"''\", 'surrounding', '.', 'Data', 'scientists', 'use', 'data', 'analytical', 'ability', 'rich', 'data', 'sources', ';', 'large', 'amounts', 'data', 'despite', 'hardware', ',', 'software', ',', 'bandwidth', 'constraints', ';', 'data', 'sources', ';', 'consistency', 'datasets', ';', 'visualizations', 'understanding', 'data', ';', 'mathematical', 'models', 'using', 'data', ';', 'present', 'data', 'insights/findings', '.', 'They', 'often', 'expected', 'answers', 'days', 'rather', 'months', ',', 'work', 'exploratory', 'analysis', 'rapid', 'iteration', ',', 'present', 'results', 'dashboards', '(', 'displays', 'current', 'values', ')', 'rather', 'papers/reports', ',', 'statisticians', 'normally', '.', 'Data', 'science', 'technology', 'mathematic', 'effective', 'data', 'scientists', 'require', 'combination', 'technical', 'skills', 'soft', 'skills', 'data', 'actionable', 'insight', '.', 'Data', 'scientist', 'become', 'popular', 'occupation', 'Harvard', 'Business', 'Review', 'dubbing', 'The', 'Sexiest', 'Job', '21st', 'Century', 'McKinsey', '&', 'Company', 'projecting', 'global', 'excess', 'demand', '1.5', 'million', 'new', 'data', 'scientists', '.', 'Universities', 'offering', 'masters', 'courses', 'data', 'science', '.', 'Shorter', 'private', 'bootcamps', 'also', 'offering', 'data', 'science', 'certificates', 'including', 'student-paid', 'programs', 'like', 'General', 'Assembly', 'employer-paid', 'programs', 'like', 'The', 'Data', 'Incubator']\n"
     ]
    }
   ],
   "source": [
    "stop_words = set(stopwords.words(\"english\"))\n",
    "filtered_words = []\n",
    "\n",
    "for w in wordlist:\n",
    "    w.lower()\n",
    "    if w not in stop_words:\n",
    "        filtered_words.append(w)\n",
    "print filtered_words\n"
   ]
  },
  {
   "cell_type": "code",
   "execution_count": 56,
   "metadata": {},
   "outputs": [
    {
     "name": "stdout",
     "output_type": "stream",
     "text": [
      "['Data', 'science', ',', 'also', 'known', 'data-driven', 'science', ',', 'interdisciplinary', 'field', 'scientific', 'methods', ',', 'processes', ',', 'systems', 'knowledge', 'insights', 'data', 'various', 'forms', ',', 'either', 'structured', 'unstructured', ',', 'similar', 'mining', '.', 'Data', 'science', 'concept', 'statistics', ',', 'data', 'analysis', 'related', 'methods', 'order', 'actual', 'phenomena', 'data', '.', 'It', 'employs', 'techniques', 'theories', 'drawn', 'many', 'fields', 'within', 'broad', 'areas', 'mathematics', ',', 'statistics', ',', 'information', 'science', ',', 'computer', 'science', ',', 'particular', 'subdomains', 'machine', 'learning', ',', 'classification', ',', 'cluster', 'analysis', ',', 'data', 'mining', ',', 'databases', ',', 'visualization', '.', 'Turing', 'award', 'winner', 'Jim', 'Gray', 'imagined', 'data', 'science', 'fourth', 'paradigm', 'science', '(', 'empirical', ',', 'theoretical', ',', 'computational', 'data-driven', ')', 'asserted', '``', 'everything', 'science', 'changing', 'impact', 'information', 'technology', \"''\", 'data', 'deluge', '.', 'When', 'Harvard', 'Business', 'Review', 'called', 'The', 'Sexiest', 'Job', '21st', 'Century', 'term', 'became', 'buzzword', ',', 'often', 'applied', 'business', 'analytics', ',', 'even', 'arbitrary', 'use', 'data', ',', 'used', 'sexed-up', 'term', 'statistics', '.', 'While', 'many', 'university', 'programs', 'offer', 'data', 'science', 'degree', ',', 'exists', 'consensus', 'definition', 'curriculum', 'contents', '.', 'Because', 'current', 'popularity', 'term', ',', 'many', '``', 'advocacy', 'efforts', \"''\", 'surrounding', '.', 'Data', 'scientists', 'use', 'data', 'analytical', 'ability', 'rich', 'data', 'sources', ';', 'large', 'amounts', 'data', 'despite', 'hardware', ',', 'software', ',', 'bandwidth', 'constraints', ';', 'data', 'sources', ';', 'consistency', 'datasets', ';', 'visualizations', 'understanding', 'data', ';', 'mathematical', 'models', 'using', 'data', ';', 'present', 'data', 'insights/findings', '.', 'They', 'often', 'expected', 'answers', 'days', 'rather', 'months', ',', 'work', 'exploratory', 'analysis', 'rapid', 'iteration', ',', 'present', 'results', 'dashboards', '(', 'displays', 'current', 'values', ')', 'rather', 'papers/reports', ',', 'statisticians', 'normally', '.', 'Data', 'science', 'technology', 'mathematic', 'effective', 'data', 'scientists', 'require', 'combination', 'technical', 'skills', 'soft', 'skills', 'data', 'actionable', 'insight', '.', 'Data', 'scientist', 'become', 'popular', 'occupation', 'Harvard', 'Business', 'Review', 'dubbing', 'The', 'Sexiest', 'Job', '21st', 'Century', 'McKinsey', '&', 'Company', 'projecting', 'global', 'excess', 'demand', '1.5', 'million', 'new', 'data', 'scientists', '.', 'Universities', 'offering', 'masters', 'courses', 'data', 'science', '.', 'Shorter', 'private', 'bootcamps', 'also', 'offering', 'data', 'science', 'certificates', 'including', 'student-paid', 'programs', 'like', 'General', 'Assembly', 'employer-paid', 'programs', 'like', 'The', 'Data', 'Incubator']\n"
     ]
    }
   ],
   "source": [
    "for w in filtered_words:\n",
    "    w.replace(\" \", \"\")\n",
    "print filtered_words"
   ]
  },
  {
   "cell_type": "code",
   "execution_count": 57,
   "metadata": {},
   "outputs": [
    {
     "name": "stdout",
     "output_type": "stream",
     "text": [
      "['Data', 'science', '', 'also', 'known', 'datadriven', 'science', '', 'interdisciplinary', 'field', 'scientific', 'methods', '', 'processes', '', 'systems', 'knowledge', 'insights', 'data', 'various', 'forms', '', 'either', 'structured', 'unstructured', '', 'similar', 'mining', '', 'Data', 'science', 'concept', 'statistics', '', 'data', 'analysis', 'related', 'methods', 'order', 'actual', 'phenomena', 'data', '', 'It', 'employs', 'techniques', 'theories', 'drawn', 'many', 'fields', 'within', 'broad', 'areas', 'mathematics', '', 'statistics', '', 'information', 'science', '', 'computer', 'science', '', 'particular', 'subdomains', 'machine', 'learning', '', 'classification', '', 'cluster', 'analysis', '', 'data', 'mining', '', 'databases', '', 'visualization', '', 'Turing', 'award', 'winner', 'Jim', 'Gray', 'imagined', 'data', 'science', 'fourth', 'paradigm', 'science', '', 'empirical', '', 'theoretical', '', 'computational', 'datadriven', '', 'asserted', '', 'everything', 'science', 'changing', 'impact', 'information', 'technology', '', 'data', 'deluge', '', 'When', 'Harvard', 'Business', 'Review', 'called', 'The', 'Sexiest', 'Job', '21st', 'Century', 'term', 'became', 'buzzword', '', 'often', 'applied', 'business', 'analytics', '', 'even', 'arbitrary', 'use', 'data', '', 'used', 'sexedup', 'term', 'statistics', '', 'While', 'many', 'university', 'programs', 'offer', 'data', 'science', 'degree', '', 'exists', 'consensus', 'definition', 'curriculum', 'contents', '', 'Because', 'current', 'popularity', 'term', '', 'many', '', 'advocacy', 'efforts', '', 'surrounding', '', 'Data', 'scientists', 'use', 'data', 'analytical', 'ability', 'rich', 'data', 'sources', '', 'large', 'amounts', 'data', 'despite', 'hardware', '', 'software', '', 'bandwidth', 'constraints', '', 'data', 'sources', '', 'consistency', 'datasets', '', 'visualizations', 'understanding', 'data', '', 'mathematical', 'models', 'using', 'data', '', 'present', 'data', 'insightsfindings', '', 'They', 'often', 'expected', 'answers', 'days', 'rather', 'months', '', 'work', 'exploratory', 'analysis', 'rapid', 'iteration', '', 'present', 'results', 'dashboards', '', 'displays', 'current', 'values', '', 'rather', 'papersreports', '', 'statisticians', 'normally', '', 'Data', 'science', 'technology', 'mathematic', 'effective', 'data', 'scientists', 'require', 'combination', 'technical', 'skills', 'soft', 'skills', 'data', 'actionable', 'insight', '', 'Data', 'scientist', 'become', 'popular', 'occupation', 'Harvard', 'Business', 'Review', 'dubbing', 'The', 'Sexiest', 'Job', '21st', 'Century', 'McKinsey', '', 'Company', 'projecting', 'global', 'excess', 'demand', '15', 'million', 'new', 'data', 'scientists', '', 'Universities', 'offering', 'masters', 'courses', 'data', 'science', '', 'Shorter', 'private', 'bootcamps', 'also', 'offering', 'data', 'science', 'certificates', 'including', 'studentpaid', 'programs', 'like', 'General', 'Assembly', 'employerpaid', 'programs', 'like', 'The', 'Data', 'Incubator']\n"
     ]
    }
   ],
   "source": [
    "#Removal of puncutation marks\n",
    "import string\n",
    "filtered_words = [''.join(c for c in s if c not in string.punctuation) for s in filtered_words]\n",
    "print filtered_words"
   ]
  },
  {
   "cell_type": "code",
   "execution_count": 58,
   "metadata": {},
   "outputs": [
    {
     "name": "stdout",
     "output_type": "stream",
     "text": [
      "['Data', 'science', 'also', 'known', 'datadriven', 'science', 'interdisciplinary', 'field', 'scientific', 'methods', 'processes', 'systems', 'knowledge', 'insights', 'data', 'various', 'forms', 'either', 'structured', 'unstructured', 'similar', 'mining', 'Data', 'science', 'concept', 'statistics', 'data', 'analysis', 'related', 'methods', 'order', 'actual', 'phenomena', 'data', 'It', 'employs', 'techniques', 'theories', 'drawn', 'many', 'fields', 'within', 'broad', 'areas', 'mathematics', 'statistics', 'information', 'science', 'computer', 'science', 'particular', 'subdomains', 'machine', 'learning', 'classification', 'cluster', 'analysis', 'data', 'mining', 'databases', 'visualization', 'Turing', 'award', 'winner', 'Jim', 'Gray', 'imagined', 'data', 'science', 'fourth', 'paradigm', 'science', 'empirical', 'theoretical', 'computational', 'datadriven', 'asserted', 'everything', 'science', 'changing', 'impact', 'information', 'technology', 'data', 'deluge', 'When', 'Harvard', 'Business', 'Review', 'called', 'The', 'Sexiest', 'Job', '21st', 'Century', 'term', 'became', 'buzzword', 'often', 'applied', 'business', 'analytics', 'even', 'arbitrary', 'use', 'data', 'used', 'sexedup', 'term', 'statistics', 'While', 'many', 'university', 'programs', 'offer', 'data', 'science', 'degree', 'exists', 'consensus', 'definition', 'curriculum', 'contents', 'Because', 'current', 'popularity', 'term', 'many', 'advocacy', 'efforts', 'surrounding', 'Data', 'scientists', 'use', 'data', 'analytical', 'ability', 'rich', 'data', 'sources', 'large', 'amounts', 'data', 'despite', 'hardware', 'software', 'bandwidth', 'constraints', 'data', 'sources', 'consistency', 'datasets', 'visualizations', 'understanding', 'data', 'mathematical', 'models', 'using', 'data', 'present', 'data', 'insightsfindings', 'They', 'often', 'expected', 'answers', 'days', 'rather', 'months', 'work', 'exploratory', 'analysis', 'rapid', 'iteration', 'present', 'results', 'dashboards', 'displays', 'current', 'values', 'rather', 'papersreports', 'statisticians', 'normally', 'Data', 'science', 'technology', 'mathematic', 'effective', 'data', 'scientists', 'require', 'combination', 'technical', 'skills', 'soft', 'skills', 'data', 'actionable', 'insight', 'Data', 'scientist', 'become', 'popular', 'occupation', 'Harvard', 'Business', 'Review', 'dubbing', 'The', 'Sexiest', 'Job', '21st', 'Century', 'McKinsey', 'Company', 'projecting', 'global', 'excess', 'demand', '15', 'million', 'new', 'data', 'scientists', 'Universities', 'offering', 'masters', 'courses', 'data', 'science', 'Shorter', 'private', 'bootcamps', 'also', 'offering', 'data', 'science', 'certificates', 'including', 'studentpaid', 'programs', 'like', 'General', 'Assembly', 'employerpaid', 'programs', 'like', 'The', 'Data', 'Incubator']\n"
     ]
    }
   ],
   "source": [
    "import string\n",
    "processed_word = []\n",
    "for each in filtered_words:\n",
    "    if not each:\n",
    "        continue\n",
    "    else:\n",
    "        processed_word.append(each) \n",
    "print processed_word"
   ]
  },
  {
   "cell_type": "code",
   "execution_count": 59,
   "metadata": {},
   "outputs": [
    {
     "name": "stdout",
     "output_type": "stream",
     "text": [
      "['Data', 'science', 'also', 'known', 'datadriven', 'science', 'interdisciplinary', 'field', 'scientific', u'method', u'process', u'system', 'knowledge', u'insight', 'data', 'various', u'form', 'either', 'structured', 'unstructured', 'similar', 'mining', 'Data', 'science', 'concept', u'statistic', 'data', 'analysis', 'related', u'method', 'order', 'actual', u'phenomenon', 'data', 'It', u'employ', u'technique', u'theory', 'drawn', 'many', u'field', 'within', 'broad', u'area', 'mathematics', u'statistic', 'information', 'science', 'computer', 'science', 'particular', 'subdomains', 'machine', 'learning', 'classification', 'cluster', 'analysis', 'data', 'mining', u'database', 'visualization', 'Turing', 'award', 'winner', 'Jim', 'Gray', 'imagined', 'data', 'science', 'fourth', 'paradigm', 'science', 'empirical', 'theoretical', 'computational', 'datadriven', 'asserted', 'everything', 'science', 'changing', 'impact', 'information', 'technology', 'data', 'deluge', 'When', 'Harvard', 'Business', 'Review', 'called', 'The', 'Sexiest', 'Job', '21st', 'Century', 'term', 'became', 'buzzword', 'often', 'applied', 'business', 'analytics', 'even', 'arbitrary', 'use', 'data', 'used', 'sexedup', 'term', u'statistic', 'While', 'many', 'university', u'program', 'offer', 'data', 'science', 'degree', 'exists', 'consensus', 'definition', 'curriculum', u'content', 'Because', 'current', 'popularity', 'term', 'many', 'advocacy', u'effort', 'surrounding', 'Data', u'scientist', 'use', 'data', 'analytical', 'ability', 'rich', 'data', u'source', 'large', u'amount', 'data', 'despite', 'hardware', 'software', 'bandwidth', u'constraint', 'data', u'source', 'consistency', 'datasets', u'visualization', 'understanding', 'data', 'mathematical', u'model', 'using', 'data', 'present', 'data', 'insightsfindings', 'They', 'often', 'expected', u'answer', u'day', 'rather', u'month', 'work', 'exploratory', 'analysis', 'rapid', 'iteration', 'present', u'result', u'dashboard', u'display', 'current', u'value', 'rather', 'papersreports', u'statistician', 'normally', 'Data', 'science', 'technology', 'mathematic', 'effective', 'data', u'scientist', 'require', 'combination', 'technical', u'skill', 'soft', u'skill', 'data', 'actionable', 'insight', 'Data', 'scientist', 'become', 'popular', 'occupation', 'Harvard', 'Business', 'Review', 'dubbing', 'The', 'Sexiest', 'Job', '21st', 'Century', 'McKinsey', 'Company', 'projecting', 'global', 'excess', 'demand', '15', 'million', 'new', 'data', u'scientist', 'Universities', 'offering', u'master', u'course', 'data', 'science', 'Shorter', 'private', 'bootcamps', 'also', 'offering', 'data', 'science', u'certificate', 'including', 'studentpaid', u'program', 'like', 'General', 'Assembly', 'employerpaid', u'program', 'like', 'The', 'Data', 'Incubator']\n"
     ]
    }
   ],
   "source": [
    "#Lemmatization addin u in front of certain words\n",
    "lemma_word = []\n",
    "for w in processed_word:\n",
    "    lemma_word.append(wnl.lemmatize(w))\n",
    "print lemma_word"
   ]
  },
  {
   "cell_type": "code",
   "execution_count": 60,
   "metadata": {},
   "outputs": [
    {
     "name": "stdout",
     "output_type": "stream",
     "text": [
      "['data', u'scienc', 'also', 'known', 'datadriven', u'scienc', u'interdisciplinari', 'field', u'scientif', u'method', u'process', u'system', u'knowledg', u'insight', 'data', u'variou', u'form', 'either', u'structur', u'unstructur', 'similar', u'mine', 'data', u'scienc', 'concept', u'statist', 'data', u'analysi', u'relat', u'method', 'order', 'actual', 'phenomena', 'data', 'It', u'employ', u'techniqu', u'theori', 'drawn', u'mani', u'field', 'within', 'broad', u'area', u'mathemat', u'statist', u'inform', u'scienc', u'comput', u'scienc', 'particular', u'subdomain', u'machin', u'learn', u'classif', 'cluster', u'analysi', 'data', u'mine', u'databas', u'visual', u'ture', 'award', 'winner', 'jim', 'gray', u'imagin', 'data', u'scienc', 'fourth', 'paradigm', u'scienc', u'empir', u'theoret', u'comput', 'datadriven', u'assert', u'everyth', u'scienc', u'chang', 'impact', u'inform', u'technolog', 'data', u'delug', 'when', 'harvard', u'busi', 'review', u'call', 'the', 'sexiest', 'job', '21st', u'centuri', 'term', u'becam', 'buzzword', 'often', u'appli', u'busi', u'analyt', 'even', u'arbitrari', 'use', 'data', u'use', 'sexedup', 'term', u'statist', 'while', u'mani', u'univers', u'program', 'offer', 'data', u'scienc', u'degre', u'exist', u'consensu', u'definit', 'curriculum', u'content', u'becaus', 'current', u'popular', 'term', u'mani', u'advocaci', u'effort', u'surround', 'data', u'scientist', 'use', 'data', u'analyt', u'abil', 'rich', 'data', u'sourc', u'larg', u'amount', 'data', u'despit', u'hardwar', u'softwar', 'bandwidth', u'constraint', 'data', u'sourc', u'consist', u'dataset', u'visual', u'understand', 'data', u'mathemat', u'model', u'use', 'data', 'present', 'data', u'insightsfind', 'they', 'often', u'expect', u'answer', u'day', 'rather', u'month', 'work', u'exploratori', u'analysi', 'rapid', u'iter', 'present', u'result', u'dashboard', u'display', 'current', u'valu', 'rather', u'papersreport', u'statistician', u'normal', 'data', u'scienc', u'technolog', u'mathemat', u'effect', 'data', u'scientist', u'requir', u'combin', u'technic', u'skill', 'soft', u'skill', 'data', u'action', 'insight', 'data', 'scientist', u'becom', 'popular', u'occup', 'harvard', u'busi', 'review', u'dub', 'the', 'sexiest', 'job', '21st', u'centuri', 'mckinsey', u'compani', u'project', 'global', u'excess', 'demand', '15', 'million', 'new', 'data', u'scientist', u'univers', u'offer', u'master', u'cours', 'data', u'scienc', 'shorter', u'privat', u'bootcamp', 'also', u'offer', 'data', u'scienc', u'certif', u'includ', 'studentpaid', u'program', 'like', u'gener', u'assembl', 'employerpaid', u'program', 'like', 'the', 'data', u'incub']\n"
     ]
    }
   ],
   "source": [
    "#stemming add more u in front of words\n",
    "from nltk.stem import PorterStemmer\n",
    "ps = PorterStemmer()\n",
    "#Stemming\n",
    "stemmed_words = []\n",
    "for w in processed_word:\n",
    "    stemmed_words.append(ps.stem(w))\n",
    "print stemmed_words"
   ]
  },
  {
   "cell_type": "code",
   "execution_count": 61,
   "metadata": {},
   "outputs": [
    {
     "name": "stdout",
     "output_type": "stream",
     "text": [
      "Those are the words and their frequency of occurrence in the book:\n",
      "Counter({'data': 20, 'science': 12, 'Data': 6, 'term': 3, 'scientists': 3, 'many': 3, 'statistics': 3, 'The': 3, 'programs': 3, 'analysis': 3, 'sources': 2, '21st': 2, 'Business': 2, 'like': 2, 'skills': 2, 'methods': 2, 'current': 2, 'Job': 2, 'Harvard': 2, 'Review': 2, 'Sexiest': 2, 'often': 2, 'use': 2, 'mining': 2, 'offering': 2, 'present': 2, 'Century': 2, 'datadriven': 2, 'technology': 2, 'information': 2, 'also': 2, 'rather': 2, 'concept': 1, 'surrounding': 1, 'Jim': 1, 'results': 1, 'bandwidth': 1, 'scientist': 1, 'including': 1, 'imagined': 1, 'occupation': 1, 'impact': 1, 'visualization': 1, 'rapid': 1, 'knowledge': 1, 'field': 1, 'studentpaid': 1, 'Company': 1, 'winner': 1, 'forms': 1, 'systems': 1, 'rich': 1, 'insight': 1, 'They': 1, 'interdisciplinary': 1, 'When': 1, 'processes': 1, 'unstructured': 1, 'While': 1, 'papersreports': 1, 'despite': 1, 'using': 1, 'new': 1, 'areas': 1, 'Because': 1, 'fields': 1, 'university': 1, 'consensus': 1, 'courses': 1, 'either': 1, 'arbitrary': 1, 'analytical': 1, 'become': 1, 'soft': 1, 'constraints': 1, 'mathematical': 1, 'exists': 1, 'employerpaid': 1, 'phenomena': 1, 'related': 1, 'global': 1, 'analytics': 1, 'computer': 1, 'displays': 1, 'General': 1, 'techniques': 1, 'even': 1, 'large': 1, 'degree': 1, 'broad': 1, 'bootcamps': 1, 'everything': 1, 'various': 1, 'insightsfindings': 1, 'certificates': 1, 'drawn': 1, 'Gray': 1, 'million': 1, 'scientific': 1, 'business': 1, 'sexedup': 1, 'answers': 1, 'understanding': 1, 'popular': 1, 'excess': 1, 'definition': 1, 'actual': 1, 'technical': 1, 'months': 1, 'days': 1, 'became': 1, 'efforts': 1, 'software': 1, 'Universities': 1, 'ability': 1, 'computational': 1, 'classification': 1, 'McKinsey': 1, 'within': 1, 'dashboards': 1, 'private': 1, 'learning': 1, 'asserted': 1, 'Assembly': 1, 'Turing': 1, 'structured': 1, 'expected': 1, 'theoretical': 1, 'offer': 1, 'curriculum': 1, 'award': 1, 'masters': 1, 'particular': 1, 'known': 1, 'insights': 1, 'applied': 1, 'Shorter': 1, 'datasets': 1, '15': 1, 'effective': 1, 'require': 1, 'work': 1, 'iteration': 1, 'empirical': 1, 'advocacy': 1, 'theories': 1, 'projecting': 1, 'values': 1, 'dubbing': 1, 'similar': 1, 'called': 1, 'hardware': 1, 'cluster': 1, 'employs': 1, 'contents': 1, 'combination': 1, 'exploratory': 1, 'amounts': 1, 'statisticians': 1, 'machine': 1, 'fourth': 1, 'mathematics': 1, 'buzzword': 1, 'used': 1, 'mathematic': 1, 'models': 1, 'consistency': 1, 'changing': 1, 'Incubator': 1, 'demand': 1, 'deluge': 1, 'popularity': 1, 'It': 1, 'subdomains': 1, 'actionable': 1, 'databases': 1, 'visualizations': 1, 'paradigm': 1, 'normally': 1, 'order': 1})\n",
      "#################################################################\n",
      "Those are the 10 most bigrams occurring in the book:\n",
      "[('21st', 'Century'), ('Business', 'Review'), ('Harvard', 'Business'), ('Job', '21st'), ('Sexiest', 'Job'), ('The', 'Sexiest'), ('programs', 'like'), ('data', 'sources'), ('use', 'data'), ('Data', 'science')]\n"
     ]
    }
   ],
   "source": [
    "\n",
    "for w in processed_word:\n",
    "    frequencies[w] += 1\n",
    " \n",
    "bigram = nltk.collocations.BigramAssocMeasures()\n",
    "finder = BigramCollocationFinder.from_words(processed_word)\n",
    "#To find frequently together occuring 2 words\n",
    "finder.apply_freq_filter(2)\n",
    "  \n",
    "print ('Those are the words and their frequency of occurrence in the book:')\n",
    "print (frequencies) \n",
    "\n",
    "print ('Those are the 10 most bigrams occurring in the book:')\n",
    "print (finder.nbest(bigram.pmi, 10))\n",
    "#print (read_book.index('data'))\n",
    "#print (read_book.index('Assisted Reporting'))"
   ]
  }
 ],
 "metadata": {
  "kernelspec": {
   "display_name": "Python 2",
   "language": "python",
   "name": "python2"
  },
  "language_info": {
   "codemirror_mode": {
    "name": "ipython",
    "version": 2
   },
   "file_extension": ".py",
   "mimetype": "text/x-python",
   "name": "python",
   "nbconvert_exporter": "python",
   "pygments_lexer": "ipython2",
   "version": "2.7.13"
  }
 },
 "nbformat": 4,
 "nbformat_minor": 2
}
