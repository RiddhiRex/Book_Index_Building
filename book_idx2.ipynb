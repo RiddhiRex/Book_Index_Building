{
 "cells": [
  {
   "cell_type": "code",
   "execution_count": null,
   "metadata": {
    "collapsed": true
   },
   "outputs": [],
   "source": [
    "import nltk, collections\n",
    "import numpy as np\n",
    "from nltk.collocations import *\n",
    "from nltk.corpus import stopwords\n",
    "import subprocess\n",
    "import pandas as pd\n",
    "import re\n",
    "from sklearn.externals import joblib\n",
    "import random\n",
    "\n",
    "from sklearn.metrics import mean_squared_error, mean_absolute_error, accuracy_score\n",
    "from sklearn.metrics import precision_recall_fscore_support\n",
    "from sklearn.metrics import classification_report, confusion_matrix\n",
    "from sklearn.metrics import precision_recall_fscore_support\n",
    "from sklearn.ensemble import RandomForestClassifier\n",
    "\n",
    "import seaborn as sns\n",
    "import matplotlib.pyplot as plt"
   ]
  },
  {
   "cell_type": "code",
   "execution_count": 1,
   "metadata": {},
   "outputs": [
    {
     "name": "stdout",
     "output_type": "stream",
     "text": [
      "Processed 88 source files and dumped data\n"
     ]
    }
   ],
   "source": [
    "import preprocessing\n",
    "import text_processing\n",
    "# This reads the *.tex sources and dumps them to a file\n",
    "preprocessing.dump_detex_data()"
   ]
  },
  {
   "cell_type": "code",
   "execution_count": 3,
   "metadata": {},
   "outputs": [
    {
     "data": {
      "text/plain": [
       "{'bold': [],\n",
       " 'indices': [\"l'H\\\\^{o}pital's rule\",\n",
       "  'continuous function',\n",
       "  'indeterminate form',\n",
       "  'derivative',\n",
       "  'intermediate value theorem',\n",
       "  'limit',\n",
       "  \"l'H\\\\^{o}pital's rule\",\n",
       "  'limit',\n",
       "  'extreme value theorem',\n",
       "  'composition'],\n",
       " 'italicized': ['composition',\n",
       "  'intermediate value theorem',\n",
       "  'infinitely',\n",
       "  'extreme value theorem',\n",
       "  'con los',\n",
       "  'equals',\n",
       "  \"didn't\",\n",
       "  'zero',\n",
       "  'any',\n",
       "  'not',\n",
       "  'does',\n",
       "  'ad hoc'],\n",
       " 'large': [],\n",
       " 'plaintext': 'b\\' Limits and continuity ch:limits   Continuity   Intuitively, a continuous function is one whose graph has no sudden jumps in it; the graph is all a single connected piece.  Such a function can be drawn without picking the pen up off of the paper. Formally, a function  is defined to be continuous if for any real  and any infinitesimal ,  is infinitesimal.def-continuity continuous function   eg eg:discontinuous  Let the function  be defined by  for , and  for . Then  is discontinuous, since for , , which isn\\\\\\'t infinitesimal. eg   discontinuous Example eg:discontinuous . The black dot indicates that the endpoint of the lower ray is part of the ray, while the white one shows the contrary for the ray on the top.   If a function is discontinuous at a given point, then it is not differentiable at that point. On the other hand, the example  shows that a function can be continuous without being differentiable.  In most cases, there is no need to invoke the definition explicitly in order to check whether a function is continuous. Most of the functions we work with are defined by putting together simpler functions as building blocks. For example, let\\\\\\'s say we\\\\\\'re already convinced that the functions defined by  and  are both continuous. Then if we encounter the function , we can tell that it\\\\\\'s continuous because its definition corresponds to . The functions  and  have been set up like a bucket brigade, so that  takes the input, calculates the output, and then hands it off to  for the final step of the calculation. This method of combining functions is called composition .composition  The composition of two continuous functions is also continuous. Just watch out for division. The function  is continuous everywhere except at , so for example  is continuous everywhere except at multiples of , where the sine has zeroes.  The intermediate value theorem   Another way of thinking about continuous functions is given by the intermediate value theorem .intermediate value theorem  Intuitively, it says that if you are moving continuously along a road,  and you get from point A to point B, then you must also visit every other point along the road; only by teleporting (by moving discontinuously) could you avoid doing so. More formally, the theorem states that if  is a continuous real-valued function on the real interval from  to , and if  takes on values  and  at certain points within this interval, then for any  between  and , there is some real  in the interval for which .  intermediate-value-theorem The intermediate value theorem states that if the function is continuous, it must pass through .   The intermediate value theorem seems so intuitively appealing that if we want to set out to prove it, we may feel as though we\\\\\\'re being asked to prove a proposition such as, \"a number greater than 10 exists.\" If a friend wanted to bet you a six-pack that you couldn\\\\\\'t prove this with complete mathematical rigor, you would have to get your friend to spell out very explicitly what she thought were the facts about integers that you were allowed to start with as initial assumptions. Are you allowed to assume that 1 exists? Will she grant you that if a number  exists, so does ? The intermediate value theorem is similar. It\\\\\\'s stated as a theorem about certain types of functions, but its truth isn\\\\\\'t so much a matter of the properties of functions as the properties of the underlying number system. For the reader with a interest in pure mathematics, I\\\\\\'ve discussed this in more detail on page detour:intermediate-value  and given an abbreviated proof.intermediate-value-ref-to-detour  (Most introductory calculus texts do not prove it at all.)  eg  Show that there is a solution to the equation .  We expect there to be a solution near , where the function  is just a little too big. On the other hand,  is much too small. Since  has values above and below 1000 on the interval from 2 to 3, and  is continuous, the intermediate value theorem proves that a solution exists between 2 and 3. If we wanted to find a better numerical approximation to the solution, we could do it using Newton\\\\\\'s method, which is introduced in section sec:newtons-method . eg   eg eg:x-minus-cos-x  Show that there is at least one solution to the equation , and give bounds on its location.  This is a transcendental equation, and no amount of fiddling with algebra and trig identities will ever give a closed-form solution, i.e., one that can be written down with a finite number of arithmetic operations to give an exact result. However, we can easily prove that at least one solution exists, by applying the intermediate value theorem to the function . The cosine function is bounded between  and 1, so this function must be negative for  and positive for . By the intermediate value theorem, there must be a solution in the interval . The graph, x-minus-cos-x , verifies this, and shows that there is only one solution. eg     x-minus-cos-x The function  constructed in example eg:x-minus-cos-x .    eg  Prove that every odd-order polynomial  with real coefficients has at least one real root , i.e., a point at which .  Example eg:x-minus-cos-x  might have given the impression that there was nothing to be learned from the intermediate value theorem that couldn\\\\\\'t be determined by graphing, but this example clearly can\\\\\\'t be solved by graphing, because we\\\\\\'re trying to prove a general result for all polynomials.  To see that the restriction to odd orders is necessary, consider the polynomial , which has no real roots because  for any real number .  To fix our minds on a concrete example for the odd case, consider the polynomial . For large values of , the linear and constant terms will be negligible compared to the  term, and since  is positive for large values of  and negative for large negative ones, it follows that  is sometimes positive and sometimes negative.  Making this argument more general and rigorous, suppose we had a polynomial of odd order  that always had the same sign for real . Then by the transfer principle the same would hold for any hyperreal value of . Now if  is infinite then the lower-order terms are infinitesimal compared to the  term, and the sign of the result is determined entirely by the  term, but  and  have opposite signs, and therefore  and  have opposite signs. This is a contradiction, so we have disproved the assumption that  always had the same sign for real . Since  is sometimes negative and sometimes positive, we conclude by the intermediate value theorem that it is zero somewhere. eg   eg eg:x-minus-sin-1-over-x  Show that the equation  has infinitely many solutions.  This is another example that can\\\\\\'t be solved by graphing; there is clearly no way to prove, just by looking at a graph like x-minus-sin-1-over-x , that it crosses the  axis infinitely  many times. The graph does, however, help us to gain intuition for what\\\\\\'s going on. As  gets smaller and smaller,  blows up, and  oscillates more and more rapidly. The function  is undefined at 0, but it\\\\\\'s continuous everywhere else, so we can apply the intermediate value theorem to any interval that doesn\\\\\\'t include 0.  We want to prove that for any positive , there exists an  with  for which  has either desired sign. Suppose that this fails for some real . Then by the transfer principle the nonexistence of any real  with the desired property also implies the nonexistence of any such hyperreal . But for an infinitesimal  the sign of  is determined entirely by the sine term, since the sine term is finite and the linear term infinitesimal. Clearly  can\\\\\\'t have a single sign for all values of  less than , so this is a contradiction, and the proposition succeeds for any . It follows from the intermediate value theorem that there are infinitely many solutions to the equation. eg    x-minus-sin-1-over-x The function .   The extreme value theorem   In chapter ch:rates-of-change , we saw that locating maxima and minima of functions may in general be fairly difficult, because there are so many different ways in which a function can attain an extremum: e.g., at an endpoint, at a place where its derivative is zero, or at a nondifferentiable kink. The following theorem allows us to make a very general statement about all these possible cases, assuming only continuity.  The extreme value theorem extreme-value-theorem  states that if  is a continuous real-valued function on the real-number interval defined by , then  has maximum and minimum values on that interval, which are attained at specific points in the interval.extreme value theorem   Let\\\\\\'s first see why the assumptions are necessary. If we weren\\\\\\'t confined to a finite interval, then  would be a counterexample, because it\\\\\\'s continuous and doesn\\\\\\'t have any maximum or minimum value. If we didn\\\\\\'t assume continuity, then we could have a function defined as  for , and  for ; this function never gets bigger than 1, but it never attains a value of 1 for any specific value of .  The extreme value theorem is proved, in a somewhat more general form, on page detour:extreme-value .  eg  Find the maximum value of the polynomial  for .  Polynomials are continuous, so the extreme value theorem guarantees that such a maximum exists. Suppose we try to find it by looking for a place where the derivative is zero. The derivative is , and setting it equal to zero gives a quadratic equation, but application of the quadratic formula shows that it has no real solutions. It appears that the function doesn\\\\\\'t have a maximum anywhere (even outside the interval of interest) that looks like a smooth peak. Since it doesn\\\\\\'t have kinks or discontinuities, there is only one other type of maximum it could have, which is a maximum at one of its endpoints. Plugging in the limits, we find  and , so we conclude that the maximum value on this interval is 156. eg   Limits sec:limits   Historically, the calculus of infinitesimals as created by Newton and Leibniz was reinterpreted in the nineteenth century by Cauchy, Bolzano, and Weierstrass in terms of limits. All mathematicians learned both languages, and switched back and forth between them effortlessly, like the lady I overheard in a Southern California supermarket telling her mother, \"Let\\\\\\'s get that one, con los  nuts.\" Those who had been trained in infinitesimals might hear a statement using the language of limits, but translate it mentally into infinitesimals; to them, every statement about limits was really a statement about infinitesimals. To their younger colleagues, trained using limits, every statement about infinitesimals was really to be understood as shorthand for a limiting process. When Robinson laid the rigorous foundations for the hyperreal number system in the 1960\\\\\\'s, a common objection was that it was really nothing new, because every statement about infinitesimals was really just a different way of expressing a corresponding statement about limits; of course the same could have been said about Weierstrass\\\\\\'s work of the preceding century! In reality, all practitioners of calculus had realized all along that different approaches worked better for different problems; problem hw:holditch  on page hw:holditch  is an example of a result that is much easier to prove with infinitesimals than with limits.  The Weierstrass definition of a limit is this:limit!definition!Weierstrass  important [Definition of the limit] We say that  is the limit of the function  as  approaches , written equation*    _xa  f(x) = , equation*  if the following is true: for any real number , there exists another real number  such that for all  in the interval , the value of  lies within the range from  to . important  Intuitively, the idea is that if I want you to make  close to , I just have to tell you how close, and you can tell me that it will be that close as long as  is within a certain distance of .  In terms of infinitesimals, we have:limit!definition!infinitesimals  important [Definition of the limit] We say that  is the limit of the function  as  approaches , written equation*    _xa  f(x) = , equation*  if the following is true: for any infinitesimal number ,  the value of  is finite, and the standard part of  equals . important   The two definitions are equivalent. As remarked previously, the derivative  can be defined as the limit , and if we use the Weierstrass definition of the limit, this means that the derivative can be defined entirely in terms of the real number system, without the user  of hyperreal numbers.derivative!defined using a limit   Sometimes a limit can be evaluated simply by plugging in numbers:  eg  Evaluate equation*    _x0  1 1+x . equation*   Plugging in , we find that the limit is 1. eg   In some examples, plugging in fails if we try to do it directly, but can be made to work if we massage the expression into a different form:  eg eg:infty-infty-indet-form-by-massaging  Evaluate equation*    _x0  2 x +7 1 x +8686 . equation*   Plugging in  fails because division by zero is undefined.  Intuitively, however, we expect that the limit will be well defined, and will equal 2, because for very small values of , the numerator is dominated by the  term, and the denominator by the  term, so the 7 and 8686 terms will matter less and less as  gets smaller and smaller.  To demonstrate this more rigorously, a trick that works is to multiply both the top and the bottom by , giving equation*    2+7x 1+8686x , equation*  which equals 2 when we plug in , so we find that the limit is zero.  This example is a little subtle, because when  equals  zero, the function is not defined, and moreover it would not be valid to multiply both the top and the bottom by . In general, it\\\\\\'s not valid algebra to multiply both the top and the bottom of a fraction by 0, because the result is , which is undefined. But we didn\\\\\\'t  actually multiply both the top and the bottom by zero, because we never let  equal zero. Both the Weierstrass definition and the definition in terms of infinitesimals only refer to the properties of the function in a region very close to the limiting point, not at the limiting point itself.  This is an example in which the function was not well defined at a certain point, and yet the limit of the function was well defined as we approached that point. In a case like this, where there is only one point missing from the domain of the function, it is natural to extend the definition of the function by filling in the \"gap tooth.\" Example eg:limit-two-sides  below shows that this kind of filling-in procedure is not always possible. eg    no-limit Example eg:no-limit , the function .    eg eg:no-limit  Investigate the limiting behavior of  as  approaches 0, and 1.  At , plugging in works, and we find that the limit is 1.  At , plugging in doesn\\\\\\'t work, because division by zero is undefined. Applying the definition in terms of infinitesimals to the limit as  approaches 0, we need to find out whether  is finite for infinitesimal , and if so, whether it always has the same standard part. But clearly  is always infinite, and we conclude that this limit is undefined. eg    limit-two-sides Example eg:limit-two-sides , the function .   eg eg:limit-two-sides  Investigate the limiting behavior of  as  approaches 0.  Plugging in doesn\\\\\\'t work, because division by zero is undefined.  In the definition of the limit in terms of infinitesimals, the first requirement is that  be finite for infinitesimal values of . The graph makes this look plausible, and indeed we can prove that it is true by the transfer principle. For any real  we have , and by the transfer principle this holds for the hyperreals as well, and therefore  is finite.  The second requirement is that the standard part of  have a uniquely defined value. The graph shows that we really have two cases to consider, one on the right side of the graph, and one on the left. Intuitively, we expect that the standard part of  will equal  for positive , and  for negative, and thus the second part of the definition will not be satisfied. For a more formal proof, we can use the transfer principle. For real  with , for example,  is always positive and greater than 1, so we conclude based on the transfer principle that  for positive infinitesimal . But on similar grounds we can be sure that   when  is negative and infinitesimal. Thus the standard part of  can have different values for different infinitesimal values of , and we conclude that the limit is undefined.  In examples like this, we can define a kind of one-sided limit, notated like this: align*    _x0^-   ^-1 1 x  &= - 2      _x0^+   ^-1 1 x  &=  2 , align*  where the notations  and  are to be read \"as  approaches zero from below,\" and \"as  approaches zero from above.\" eg   L\\\\\\'Ho pital\\\\\\'s rule lhospital-simple l\\\\\\'Ho pital\\\\\\'s rule!simplest form   Consider the limit equation*    _x0  x x . equation*   Plugging in doesn\\\\\\'t work, because we get . Division by zero is undefined, both in the real number system and in the hyperreals. A nonzero number divided by a small number gives a big number; a nonzero number divided by a very small number gives a very big number; and a nonzero number divided by an infinitesimal number gives an infinite number. On the other hand, dividing zero  by zero means looking for a solution to the equation , where  is the result of the division. But any  is a solution of this equation, so even speaking casually, it\\\\\\'s not correct to say that  is infinite; it\\\\\\'s not infinite, it\\\\\\'s anything we like.  Since plugging in zero didn\\\\\\'t work, let\\\\\\'s try estimating the limit by plugging in a number for  that\\\\\\'s small, but not zero. On a calculator, equation*    0.00001 0.00001  = 0.999999999983333. equation*  It looks like the limit is 1. We can confirm our conjecture to higher precision using Yacas\\\\\\'s ability to do high-precision arithmetic: Code    N(Sin(10^-20)/10^-20,50)     0.99999999999999999      9999999999999999999      99998333333333  Code  It\\\\\\'s looking pretty one-ish. This is the idea of the Weierstrass definition of a limit: it seems like we can get an answer as close to 1 as we like, if we\\\\\\'re willing to make  as close to 0 as necessary. The graph helps to make this plausible.   sin-x-over-x The graph of .   The general idea here is that for small values of , the small-angle approximation  obtains, and as  gets smaller and smaller, the approximation gets better and better, so  gets closer and closer to 1.  But we still haven\\\\\\'t proved rigorously that the limit is exactly 1. Let\\\\\\'s try using the definition of the limit in terms of infinitesimals. align*    _x0  x x  &= [(0+x) 0+x ]               &= [x+ x ],  where we\\\\\\'ve used the identity , and stands for terms of order . So    _x0  x x  &= [1+ x ],                                           &= 1. align*  In fact, this limit is the same one we would use if we were evaluating the derivative of the sine function, applying the definition of the derivative as a limit.  We can check our work using Inf: Code    : (sin d)/d   1+(-0.16667)d^2+...  Code  (The ...@ is where I\\\\\\'ve snipped trailing terms from the output.)  Our example involving the limit of  is a special case of the following rule for calculating limits involving :  important [L\\\\\\'Ho pital\\\\\\'s rule (simplest form)] If  and  are functions with  and , the derivatives  and  are defined, and the derivative , then align*    _xa  u v  &= u (a) v (a) . align*  important   Proof: Since , and the derivative  is defined at ,  is infinitesimal, and likewise for . By the definition of the limit, the limit is the standard part of equation*    u v  = u v  = u/x v/x , equation*  where by assumption the numerator and denominator are both defined (and finite, because the derivative is defined in terms of the standard part). The standard part of a quotient like  equals the quotient of the standard parts, provided that both  and  are finite (which we\\\\\\'ve established), and  (which is true by assumption). But the standard part of  is the definition of the derivative , and likewise for  , so this establishes the result.  We will generalize L\\\\\\'Ho pital\\\\\\'s rule on p. lhospital-general .  By the way, the housetop accent on the \"o \" in l\\\\\\'Ho pital means that in Old French it used to be spelled and pronounced \"l\\\\\\'Hospital,\" but the \"s\" later became silent, so they stopped writing it. So yes, it is the same word as \"hospital.\"  eg  As remarked above, the example of  is in some sense circular, since the limit is equivalent to the definition of the derivative of the sine function, so we already need to know the limit in order to evaluate the limit! As an example that isn\\\\\\'t circular, let\\\\\\'s evaluate equation*    _x0  x x+x^3  equation*  The derivative of the top is , and the derivative of the bottom is . Evaluating these at  gives 1 and 1, so the answer is . eg   eg  Evaluate equation*    _x0  e^x-1 x  equation*   Taking the derivatives of the top and bottom, we find , which equals 1 when evaluated at . eg   eg  Evaluate equation*    _x1  x-1 x^2-2x+1  equation*   Plugging in  fails, because both the top and the bottom are zero. Taking the derivatives of the top and bottom, we find , which blows up to infinity when . To symbolize the fact that the limit is undefined, and undefined because it blows up to infinity, we write equation*    _x1  x-1 x^2-2x+1  = equation*  eg    Another perspective on indeterminate forms   An expression like , called an indeterminate form,indeterminate form  can be thought of in a different way in terms of infinitesimals. Suppose I tell you I have two infinitesimal numbers  and  in my pocket, and I ask you whether  is finite, infinite, or infinitesimal. You can\\\\\\'t tell, because  and  might not be infinitesimals of the same order of magnitude. For instance, if , then  is finite; but if , then  is infinite; and if , then  is infinitesimal. Acting this out with numbers that are small but not infinitesimal, align*    .001 .037  &= 1 37      .001 .000001  &= 1000     .000001 .001  &= .001. align*   On the other hand, suppose I tell you I have an infinitesimal number  and a finite number , and I ask you to speculate about . You know for sure that it\\\\\\'s going to be infinitesimal. Likewise, you can be sure that  is infinite. These aren\\\\\\'t indeterminate forms.  We can do something similar with infinite numbers. If  and  are both infinite, then  is indeterminate. It could be infinite, for example, if  was positive infinite and . On the other hand, it could be finite if . Acting this out with big but finite numbers, align*    1000-500 &= 500     1001-1000 &= 1. align*   eg  If  is a positive infinite number, is  finite, infinite, infinitesimal, or indeterminate?  Trying it with a finite, big number, we have align*    1000001 -&999999        = 1.000000&0002037310^-3 , align*  which is clearly a wannabe infinitesimal. We can verify the result using Inf: Code    : H=1/d   d^-1    : sqrt(H+1)-sqrt(H-1)   d^1/2+0.125d^5/2+...  Code  For convenience, the first line of input defines an infinite number  in terms of the calculator\\\\\\'s built-in infinitesimal . The result has only positive powers of , so it\\\\\\'s clearly infinitesimal.  More rigorously, we can rewrite the expression as . Since the derivative of the square root function  evaluated at  is 1/2, we can approximate this as align*    H &[1+1 2H +1 2H +)]       &= H [1 H +]       &= 1 H  , align*  which is infinitesimal. eg   Limits at infinity   The definition of the limit in terms of infinitesimals extends immediately to limiting processes where  gets bigger and bigger, rather than closer and closer to some finite value. For example, the function  clearly gets closer and closer to 3 as  gets bigger and bigger. If  is an infinite number, then the definition says that evaluating this expression at , where  is infinitesimal, gives a result whose standard part is 3. It doesn\\\\\\'t matter that  happens to be infinite, the definition still works. We also note that in this example, it doesn\\\\\\'t matter what infinite number  is; the limit equals 3 for any  infinite . We can write this fact as equation*     _x  (3+1 x ) =3, equation*  where the symbol  is to be interpreted as \"nyeah nyeah, I don\\\\\\'t even care what infinite number you put in here, I claim it will work out to 3 no matter what.\" The symbol  is not  to be interpreted as standing for any specific infinite number. That would be the type of fallacy that lay behind the bogus proof on page bogus-proof  that , which assumed that all infinities had to be the same size.  A somewhat different example is the arctangent function. The arctangent of 1000 equals approximately , and inputting bigger and bigger numbers gives answers that appear to get closer and closer to . But the arctangent of -1000 is approximately , i.e., very close to . From these numerical observations, we conjecture that equation*     _xa  ^-1  x equation*  equals  for positive infinite , but  for negative infinite . It would not be correct to write equation*     _x  ^-1  x =  2  [wrong] , equation*  because it does  matter what infinite number we pick. Instead we write align*     _x+  ^-1  x &=  2       _x-  ^-1  x &= - 2 . align*   Some expressions don\\\\\\'t have this kind of limit at all. For example, if you take the sines of big numbers like a thousand, a million, etc., on your calculator, the results are essentially random numbers lying between  and 1. They don\\\\\\'t settle down to any particular value, because the sine function oscillates back and forth forever. To prove formally that  is undefined, consider that the sine function, defined on the real numbers, has the property that you can always change its result by at least  if you add either  or  to its input. For example, , and . Applying the transfer principle to this statement, we find that the same is true on the hyperreals. Therefore there cannot be any value  that differs infinitesimally from  for all positive infinite values of .  Often we\\\\\\'re interested in finding the limit as  approaches infinity of an expression that is written as an indeterminate form like , where both   and  are infinite.  eg eg:a-limit-at-infinity  Evaluate the limit equation*    _x  2x+7 x+8686 . equation*   Intuitively, if  gets large enough the constant terms will be negligible, and the top and bottom will be dominated by the  and  terms, respectively, giving an answer that approaches 2.  One way to verify this is to divide both the top and the bottom by , giving equation*    2+7 x  1+8686 x  . equation*  If  is infinite, then the standard part of the top is 2, the standard part of the bottom is 1, and the standard part of the whole thing is therefore 2.  Another approach is to use l\\\\\\'Ho pital\\\\\\'s rule. The derivative of the top is 2, and the derivative of the bottom is 1, so the limit is 2/1=2. eg    Generalizations of l\\\\\\'Ho pital\\\\\\'s rule lhospital-general l\\\\\\'Ho pital\\\\\\'s rule!general form   Mathematical theorems are sometimes like cars. I own a Honda Fit that is about as bare-bones as you can get these days, but persuading a dealer to sell me that car was like pulling teeth. The salesman was absolutely certain that any sane customer would want to pay an extra 1,800 for such crucial amenities as floor mats and a chrome tailpipe. L\\\\\\'Ho pital\\\\\\'s rule in its most general form is a much fancier piece of machinery than the stripped down model described on p. lhospital-simple . The price you pay for the deluxe model is that the proof becomes much more complicated than the one-liner that sufficed for the simple version.  Multiple applications of the rule lhospital-multiple  In the following example, we have to use l\\\\\\'Ho pital\\\\\\'s rule twice before we get an answer.  eg eg:lhospital-differentiating-twice  Evaluate equation*    _x  1+x (x-)^2  equation*   Applying  l\\\\\\'Ho pital\\\\\\'s rule gives equation*    -x 2(x-) , equation*  which still produces  when we plug in . Going again, we get equation*    -x 2  = 1 2 . equation*  eg   The reason that this always works is outlined on p. detour:lhospital-proofs .  The indeterminate form   Consider an example like this: equation*    _x0  1+1/x 1+2/x . equation*  This is an indeterminate form like  rather than the  form for which we\\\\\\'ve already proved l\\\\\\'Ho pital\\\\\\'s rule. As proved on p. lhospital-inf-inf , l\\\\\\'Ho pital\\\\\\'s rule applies to examples like this as well.  eg  Evaluate equation*    _x0  1+1/x 1+2/x . equation*   Both the numerator and the denominator go to infinity. Differentiation of the top and bottom gives . We can see that the reason the rule worked was that (1) the constant terms were irrelevant because they become negligible as the  terms blow up; and (2) differentiating the blowing-up  terms makes them into the same  on top and bottom, which cancel.  Note that we could also have gotten this result without l\\\\\\'Ho pital\\\\\\'s rule, simply by multiplying both the top and the bottom of the original expression by  in order to rewrite it as . eg   Limits at infinity  It is straightforward to prove a variant of l\\\\\\'Ho pital\\\\\\'s rule that allows us to do limits at infinity. The general proof is left as an exercise (problem hw:lhospital-at-infinity , p. hw:lhospital-at-infinity ). The result is that l\\\\\\'Ho pital\\\\\\'s rule is equally valid when the limit is at  rather than at some real number .  eg  Evaluate equation*    _x  2x+7 x+8686 . equation*    We could use a change of variable to make this into example eg:infty-infty-indet-form-by-massaging   on p. eg:infty-infty-indet-form-by-massaging , which was solved using an ad hoc  and multiple-step procedure. But having established the more general form of l\\\\\\'Ho pital\\\\\\'s rule, we can do it in one step. Differentiation of the top and bottom produces equation*    _x  2x+7 x+8686  = 2 1  = 1. equation*  eg   hwsection   hwwithsoln limit-of-sum  (a) Prove, using the Weierstrass definition of the limit, that if  and  both exist, them , i.e., that the limit of a sum is the sum of the limits. (b) Prove the same thing using the definition of the limit in terms of infinitesimals. hwwithsoln   hwwithsoln limits-with-exp-one-over-x  Sketch the graph of the function , and evaluate the following four limits: align*    _x0^+   & e^-1/x      _x0^-   & e^-1/x      _x+  & e^-1/x      _x-  & e^-1/x   align*  hwwithsoln   hwwithsoln granville-lhospital  Verify the following limits. align*    _s1  & s^3-1 s-1  = 3     _0  & 1- ^2  = 1 2      _x  & 5x^2-2x x  =     _n  & n(n+1) (n+2)(n+3)  = 1     _x  & ax^2+bx+c dx^2+ex+f  = a d  align*  hwwithsoln   hwwithsoln lhospital-cos-exp  Evaluate  equation*    _x0  xx 1-2^x  equation*  exactly, and check your result by numerical approximation. hwwithsoln   hwwithsoln lhospital-applied-incorrectly  Amy is asked to evaluate equation*    _x0  e^x x . equation*  She applies l\\\\\\'Ho pital\\\\\\'s rule, differentiating top and bottom to find , which equals 1 when she plugs in . What is wrong with her reasoning? hwwithsoln   hwwithsoln lhospital-twice  Evaluate  equation*    _u0  u^2 e^u+e^-u -2  equation*  exactly, and check your result by numerical approximation. hwwithsoln   hwwithsoln lhospital-not-at-zero  Evaluate  equation*    _t  t t-  equation*  exactly, and check your result by numerical approximation. hwwithsoln   hwwithsoln lhospital-at-infinity  Prove a form of l\\\\\\'Ho pital\\\\\\'s rule stating that equation*  _x f(x) g(x)  equation*  is equal to the limit of  at infinity. Hint: change to some  new variable  such that  corresponds to . hwwithsoln    hwwithsoln line-is-continuous  Prove that the linear function , where  and  are real, is continuous, first using the definition of continuity in terms of infinitesimals, and then using the definition in terms of the Weierstrass limit. hwwithsoln     hwsection  \\'',\n",
       " 'sections': ['Limits',\n",
       "  'Limits at infinity',\n",
       "  \"L'H\\\\^{o\",\n",
       "  'Another perspective on indeterminate forms',\n",
       "  \"Generalizations of l'H\\\\^{o\",\n",
       "  'Continuity'],\n",
       " 'subsections': ['The extreme value theorem',\n",
       "  'Multiple applications of the rule',\n",
       "  'The indeterminate form $\\\\infty/\\\\infty$',\n",
       "  'Limits at infinity',\n",
       "  'The intermediate value theorem'],\n",
       " 'underline': []}"
      ]
     },
     "execution_count": 3,
     "metadata": {},
     "output_type": "execute_result"
    }
   ],
   "source": [
    "feature_dict = preprocessing.populate_properties()\n",
    "feature_dict['dataset/calculus/ch03/ch03.tex']"
   ]
  },
  {
   "cell_type": "code",
   "execution_count": null,
   "metadata": {
    "collapsed": true
   },
   "outputs": [],
   "source": [
    "'''\n",
    "with open('samplefile.txt') as book:\n",
    "    read_book = book.read()\n",
    "'''\n",
    "try:\n",
    "    process = subprocess.Popen(['detex', 'ch01.tex'], stdout=subprocess.PIPE)\n",
    "except FileNotFoundError:\n",
    "    raise FileNotFoundError(\"Please verify that detex is installed on your sysread_booktem. https://github.com/pkubowicz/opendetex\")\n",
    "    \n",
    "output, err = process.communicate()\n",
    "input_text = str(output)\n",
    "input_text = ' '.join(input_text.split('\\\\n'))\n",
    "print(input_text)\n",
    "#doing text preprocessing\n",
    "word_list = text_processing.process_text(input_text)"
   ]
  },
  {
   "cell_type": "code",
   "execution_count": null,
   "metadata": {
    "collapsed": true
   },
   "outputs": [],
   "source": [
    "frequency = collections.Counter()\n",
    "for w in word_list:\n",
    "    frequency[w] += 1\n",
    "    \n",
    "tagged = nltk.pos_tag(frequency.keys())\n",
    "\n",
    "notpos = ['VB','VBP','PRP','IN','RB','DT','WDT','WP','WRB','UH','TO','RBR','RBS','POS','MD','EX']\n",
    "w1 = list(filter(lambda word_tag: word_tag[1]  not in notpos, tagged))\n",
    "\n",
    "word = []\n",
    "pos = []\n",
    "count = []\n",
    "df =pd.DataFrame()\n",
    "\n",
    "dict ={}\n",
    "for each in w1:\n",
    "    #dict[each[0]]=each[1]\n",
    "    word.append(each[0])\n",
    "    pos.append(each[1])\n",
    "df['word']=word\n",
    "df['pos']=pos\n",
    "for each in word:\n",
    "    count.append(frequency[each])\n",
    "df['wordcount'] = count\n",
    "\n",
    "cols = ['NN','NNP','NNS','VBG','VBD','VBN','VBZ','VBP','VB','CD','CC','LS','JJ','JJS','JJR','PDT','PRP','RP']\n",
    "df1 = pd.DataFrame(0, index=np.arange(len(df['word'])), columns=cols)\n",
    "df2 = pd.concat([df, df1], axis=1)\n",
    "\n",
    "for idx, row in df2.iterrows():\n",
    "    pos = row['pos']\n",
    "    df2.set_value(idx, pos, 1)\n",
    "print(df2.head(10))"
   ]
  },
  {
   "cell_type": "code",
   "execution_count": null,
   "metadata": {
    "collapsed": true
   },
   "outputs": [],
   "source": [
    "#for i in range(110):\n",
    "\n",
    "#test only this. The other files are on my local machine and they will fail\n",
    "i=1\n",
    "with open('ch01.tex') as input:\n",
    "    data = input.read()\n",
    "    \n",
    "indices = set(re.findall(r'\\\\index{(.*)}',data))\n",
    "print(indices)\n",
    "#we will include sub indexing, formatting inside indexing, labels etc for final model\n",
    "indices = [re.sub(r'(}.*?index|}.*?label|!).*','',string) for string in indices]\n",
    "sections = set(re.findall(r'\\\\section{(.*)}',data))\n",
    "sections = [re.sub(r'(}.*?index|}.*?label|!).*','',string) for string in sections]\n",
    "subsections = set(re.findall(r'\\\\subsection{(.*)}',data))\n",
    "subsections = [re.sub(r'(}.*?index|}.*?label|!).*','',string) for string in subsections]\n",
    "\n",
    "italicized = re.findall(r'\\\\emph{(.*?)}',data)\n",
    "italicized.extend(re.findall(r'\\\\textit{(.*)}',data))\n",
    "#italicized.extend(re.findall(r'\\\\em([^}].*)',data))\n",
    "\n",
    "\n",
    "bold = re.findall(r'\\\\textbf{(.*)}',data)\n",
    "\n",
    "underline = re.findall(r'\\\\uline{(.*)}',data)\n",
    "underline.extend(re.findall(r'\\\\uwave{(.*)}',data))\n",
    "\n",
    "large = re.findall(r'(\\\\large|\\\\Large|\\\\LARGE|\\\\huge|\\\\Huge)',data)\n",
    "\n",
    "#\\emph, \\textit, {\\em ...}\n",
    "#\\textbf\n",
    "#\\uline{..}. , \\uwave{...}\n",
    "#\\large,\\Large,\\LARGE,\\huge,\\Huge\n",
    "\n",
    "print(indices)\n",
    "print(sections)\n",
    "print(subsections)\n",
    "print(\"bold\")\n",
    "print(bold)\n",
    "print(\"italicized\")\n",
    "print(italicized)\n",
    "print(\"underline\")\n",
    "print(underline)\n",
    "print(\"large\")\n",
    "print(large)\n",
    "\n",
    "\n",
    "\n",
    "#initialise the columns\n",
    "df2['index'] = 0\n",
    "df2['section'] = 0\n",
    "df2['subsection'] = 0\n",
    "df2['italicized'] = 0\n",
    "df2['bold'] = 0\n",
    "df2['underline'] = 0\n",
    "df2['large'] = 0\n",
    "#mark indices\n",
    "df2.loc[df2['word'].isin(indices),'index']=1\n",
    "print(df2[df2['index']==1])\n",
    "#mark sections\n",
    "df2.loc[df2['word'].isin(sections),'section']=1\n",
    "print(df2[df2['section']==1])\n",
    "#mark subsections\n",
    "df2.loc[df2['word'].isin(subsections),'subsection']=1\n",
    "print(df2[df2['subsection']==1])\n",
    "df2.loc[df2['word'].isin(italicized),'italicized']=1\n",
    "print(df2[df2['italicized']==1])\n",
    "df2.loc[df2['word'].isin(bold),'bold']=1\n",
    "print(df2[df2['bold']==1])\n",
    "df2.loc[df2['word'].isin(underline),'underline']=1\n",
    "print(df2[df2['underline']==1])\n",
    "df2.loc[df2['word'].isin(large),'large']=1\n",
    "print(df2[df2['large']==1])"
   ]
  },
  {
   "cell_type": "code",
   "execution_count": null,
   "metadata": {
    "collapsed": true
   },
   "outputs": [],
   "source": [
    "def classifier():\n",
    "    data = pd.DataFrame()\n",
    "    data = pd.read_csv(\"datasets\\dataframe.csv\")\n",
    "    data.fillna('0', inplace=True)\n",
    "    #Splitting the features and traget variable\n",
    "    y = data['index']\n",
    "    data.drop('index', 1, inplace=True)\n",
    "    data.drop('word', 1, inplace=True)\n",
    "    data.drop('pos', 1, inplace=True)\n",
    "    X = data\n",
    "    #Initialising the model\n",
    "    rfr= RandomForestClassifier()\n",
    "    #Fitting the data on the model\n",
    "    rfr.fit(X, y)\n",
    "    #Saving the model\n",
    "    saveModel(rfr)\n",
    "    pred = rfr.predict(X)\n",
    "    Evaluate_accuracy(pred, y)\n",
    "    return"
   ]
  },
  {
   "cell_type": "code",
   "execution_count": null,
   "metadata": {
    "collapsed": true
   },
   "outputs": [],
   "source": [
    "def predict(model):\n",
    "    data = pd.DataFrame()\n",
    "    data = pd.read_csv(\"datasets\\dataframe.csv\")\n",
    "    data.fillna('0', inplace=True)\n",
    "    \n",
    "    #Splitting the features and traget variable\n",
    "    y = data['index']\n",
    "    data.drop('index', 1, inplace=True)\n",
    "    data.drop('word', 1, inplace=True)\n",
    "    data.drop('pos', 1, inplace=True)\n",
    "    X = data\n",
    "    \n",
    "    pred = model.predict(X)\n",
    "    Evaluate_accuracy(pred, y)\n",
    "    return"
   ]
  },
  {
   "cell_type": "code",
   "execution_count": null,
   "metadata": {
    "collapsed": true
   },
   "outputs": [],
   "source": [
    "def saveModel(model):\n",
    "    joblib.dump(model, 'newlinear.model')\n",
    "    return"
   ]
  },
  {
   "cell_type": "code",
   "execution_count": null,
   "metadata": {
    "collapsed": true
   },
   "outputs": [],
   "source": [
    "def loadModel():\n",
    "    model = joblib.load('newlinear.model')\n",
    "    return"
   ]
  },
  {
   "cell_type": "code",
   "execution_count": null,
   "metadata": {
    "collapsed": true
   },
   "outputs": [],
   "source": [
    "def Evaluate_accuracy(pred, true_value):\n",
    "    TP = 0\n",
    "    FP = 0\n",
    "    TN = 0\n",
    "    FN = 0\n",
    "\n",
    "    for i in range(len(pred)): \n",
    "        if true_value[i]==1 and pred[i]==1:\n",
    "           TP += 1\n",
    "    for i in range(len(pred)): \n",
    "        if pred[i]==1 and true_value[i]==pred[i]:\n",
    "           FP += 1\n",
    "    for i in range(len(pred)): \n",
    "        if true_value[i]==pred[i]==0:\n",
    "           TN += 1\n",
    "    for i in range(len(pred)): \n",
    "        if pred[i]==0 and true_value[i]==pred[i]:\n",
    "           FN += 1\n",
    "    print(\"TP, FP, TN, FN   :\", TP, FP, TN, FN)\n",
    "    print(\"Accuracy score is \", accuracy_score(true_value, pred)*100)\n",
    "    rmse = np.sqrt(mean_squared_error(true_value, pred))\n",
    "    print(\"Root Mean Squared Error: {}\".format(rmse))\n",
    "    print(\"Mean absolute error:\", mean_absolute_error(true_value,pred))\n",
    "    print \"Micro stats:\"\n",
    "    print precision_recall_fscore_support(true_value, pred, average='micro')\n",
    "    print \"Macro stats:\"\n",
    "    print precision_recall_fscore_support(true_value, pred, average='macro')\n",
    "    \n",
    "\n",
    "    cr= classification_report(true_value, pred)\n",
    "    xticks = ['precision', 'recall', 'f1-score', 'support']\n",
    "    yticks = list(np.unique(true_value))\n",
    "    yticks += ['avg']\n",
    "    rep = np.array(precision_recall_fscore_support(true_value, pred)).T\n",
    "    avg = np.mean(rep, axis=0)\n",
    "    avg[-1] = np.sum(rep[:, -1])\n",
    "    rep = np.insert(rep, rep.shape[0], avg, axis=0)\n",
    "    plt.title('Classification Report (Normalized)')\n",
    "    rep =rep.astype('float') / rep.sum(axis=1)[:, np.newaxis]\n",
    "    sns.heatmap(rep, annot=True, xticklabels=xticks, yticklabels=yticks)\n",
    "    plt.show()\n",
    "    \n",
    "\n",
    "    cm=confusion_matrix(true_value,pred)\n",
    "\n",
    "    plt.title('Confusion matrix: Not Normalized')\n",
    "    sns.heatmap(cm, annot=True, linewidths=.5)\n",
    "    plt.xlabel('Predicted')\n",
    "    plt.ylabel('True')\n",
    "    plt.show()\n",
    "    plt.title('Confusion matrix: Normalized')\n",
    "    cm = cm.astype('float') / cm.sum(axis=1)[:, np.newaxis]\n",
    "    sns.heatmap(cm, annot=True, linewidths=.5)\n",
    "    plt.xlabel('Predicted value')\n",
    "    plt.ylabel('True value')\n",
    "    plt.show()\n",
    "    return"
   ]
  },
  {
   "cell_type": "code",
   "execution_count": null,
   "metadata": {
    "collapsed": true
   },
   "outputs": [],
   "source": [
    "def main():\n",
    "    classifier()\n",
    "    model = loadModel()\n",
    "    #predict(model)\n",
    "    "
   ]
  },
  {
   "cell_type": "code",
   "execution_count": null,
   "metadata": {
    "collapsed": true
   },
   "outputs": [],
   "source": [
    "if __name__ == \"__main__\":\n",
    "    main()"
   ]
  },
  {
   "cell_type": "code",
   "execution_count": null,
   "metadata": {
    "collapsed": true
   },
   "outputs": [],
   "source": [
    "#Plotting graph to show pos of words occuring in index\n",
    "data= pd.read_csv(\"datasets\\dataframe.csv\")\n",
    "ds =pd.DataFrame()\n",
    "ds['index']= data['index']\n",
    "ds['pos'] = data['pos']\n",
    "list_pos = []\n",
    "for idx, row in ds.iterrows():\n",
    "    if row['index']==1:\n",
    "        list_pos.append(row['pos'])\n",
    "new = pd.DataFrame(list_pos)\n",
    "\n",
    "plt.grid(True)\n",
    "new.hist()\n",
    "plt.title(\"count of Parts of speech of words appearing in Index\")\n",
    "plt.ylabel('count')\n",
    "plt.xlabel('POS')\n",
    "plt.show()\n"
   ]
  },
  {
   "cell_type": "markdown",
   "metadata": {},
   "source": [
    "### done so far. kept the Rake eg below untouched."
   ]
  },
  {
   "cell_type": "markdown",
   "metadata": {},
   "source": [
    "## Rake Example:\n",
    "Below is a sample code that gets ranked phrases from rake. This is mainly used to generate keyphrases. We can fine tune this"
   ]
  },
  {
   "cell_type": "code",
   "execution_count": null,
   "metadata": {
    "collapsed": true
   },
   "outputs": [],
   "source": [
    "from rake_nltk import Rake\n",
    "r = Rake()\n",
    "r.extract_keywords_from_text(input_text)\n",
    "print(r.get_ranked_phrases())"
   ]
  }
 ],
 "metadata": {
  "kernelspec": {
   "display_name": "Python 2",
   "language": "python",
   "name": "python2"
  },
  "language_info": {
   "codemirror_mode": {
    "name": "ipython",
    "version": 2
   },
   "file_extension": ".py",
   "mimetype": "text/x-python",
   "name": "python",
   "nbconvert_exporter": "python",
   "pygments_lexer": "ipython2",
   "version": "2.7.13"
  }
 },
 "nbformat": 4,
 "nbformat_minor": 2
}
