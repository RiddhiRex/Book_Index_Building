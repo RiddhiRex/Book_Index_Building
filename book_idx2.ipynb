{
 "cells": [
  {
   "cell_type": "code",
   "execution_count": 1,
   "metadata": {
    "collapsed": true
   },
   "outputs": [],
   "source": [
    "import nltk, collections\n",
    "import numpy as np\n",
    "from nltk.collocations import *\n",
    "from nltk.corpus import stopwords\n",
    "from nltk.stem import WordNetLemmatizer as wnl\n",
    "import subprocess\n",
    "import pandas as pd\n",
    "import re\n",
    "import glob\n",
    "from sklearn.externals import joblib\n",
    "import random\n",
    "from sklearn.model_selection import train_test_split\n",
    "from sklearn.metrics import mean_squared_error, mean_absolute_error, accuracy_score\n",
    "from sklearn.metrics import precision_recall_fscore_support\n",
    "from sklearn.metrics import classification_report, confusion_matrix\n",
    "from sklearn.metrics import precision_recall_fscore_support\n",
    "from sklearn.ensemble import RandomForestClassifier\n",
    "\n",
    "import seaborn as sns\n",
    "import matplotlib.pyplot as plt"
   ]
  },
  {
   "cell_type": "code",
   "execution_count": 2,
   "metadata": {},
   "outputs": [
    {
     "name": "stdout",
     "output_type": "stream",
     "text": [
      "Processed 88 source files and dumped data\n"
     ]
    }
   ],
   "source": [
    "import preprocessing\n",
    "\n",
    "# This reads the *.tex sources and dumps them to a file\n",
    "preprocessing.dump_detex_data()"
   ]
  },
  {
   "cell_type": "code",
   "execution_count": 7,
   "metadata": {},
   "outputs": [
    {
     "data": {
      "text/plain": [
       "['dataset/calculus/ch05/ch05.tex',\n",
       " 'dataset/calculus/ch04/ch04.tex',\n",
       " 'dataset/calculus/ch03/ch03.tex',\n",
       " 'dataset/calculus/ch07/ch07.tex',\n",
       " 'dataset/calculus/ch02/ch02.tex',\n",
       " 'dataset/calculus/ch06/ch06.tex',\n",
       " 'dataset/calculus/ch01/ch01.tex',\n",
       " 'dataset/calculus/ch08/ch08.tex',\n",
       " 'dataset/calculus/ch09/ch09.tex',\n",
       " 'dataset/discover_physics/ch05/ch05.tex',\n",
       " 'dataset/discover_physics/ch04/ch04.tex',\n",
       " 'dataset/discover_physics/ch03/ch03.tex',\n",
       " 'dataset/discover_physics/ch07/ch07.tex',\n",
       " 'dataset/discover_physics/ch02/ch02.tex',\n",
       " 'dataset/discover_physics/ch06/ch06.tex',\n",
       " 'dataset/discover_physics/ch01/ch01.tex',\n",
       " 'dataset/fundamentals-of-calculus/end/photocredits.rbtex',\n",
       " 'dataset/fundamentals-of-calculus/ch10/ch10.rbtex',\n",
       " 'dataset/fundamentals-of-calculus/ch05/ch05.rbtex',\n",
       " 'dataset/fundamentals-of-calculus/ch04/ch04.rbtex',\n",
       " 'dataset/fundamentals-of-calculus/ch03/ch03.rbtex',\n",
       " 'dataset/fundamentals-of-calculus/ch07/ch07.rbtex',\n",
       " 'dataset/fundamentals-of-calculus/ch02/ch02.rbtex',\n",
       " 'dataset/fundamentals-of-calculus/ch06/ch06.rbtex',\n",
       " 'dataset/fundamentals-of-calculus/ch01/ch01.rbtex',\n",
       " 'dataset/fundamentals-of-calculus/ch08/ch08.rbtex',\n",
       " 'dataset/fundamentals-of-calculus/ch09/ch09.rbtex',\n",
       " 'dataset/general_relativity/ch05/ch05.rbtex',\n",
       " 'dataset/general_relativity/ch04/ch04.rbtex',\n",
       " 'dataset/general_relativity/ch03/ch03.rbtex',\n",
       " 'dataset/general_relativity/ch07/ch07.rbtex',\n",
       " 'dataset/general_relativity/ch02/ch02.rbtex',\n",
       " 'dataset/general_relativity/ch06/ch06.rbtex',\n",
       " 'dataset/general_relativity/ch01/ch01.rbtex',\n",
       " 'dataset/general_relativity/ch08/ch08.rbtex',\n",
       " 'dataset/general_relativity/ch09/ch09.rbtex',\n",
       " 'dataset/special_relativity/ch10/ch10.rbtex',\n",
       " 'dataset/special_relativity/ch05/ch05.rbtex',\n",
       " 'dataset/special_relativity/ch04/ch04.rbtex',\n",
       " 'dataset/special_relativity/ch03/ch03.rbtex',\n",
       " 'dataset/special_relativity/ch07/ch07.rbtex',\n",
       " 'dataset/special_relativity/ch02/ch02.rbtex',\n",
       " 'dataset/special_relativity/ch06/ch06.rbtex',\n",
       " 'dataset/special_relativity/ch01/ch01.rbtex',\n",
       " 'dataset/special_relativity/ch08/ch08.rbtex',\n",
       " 'dataset/special_relativity/ch09/ch09.rbtex',\n",
       " 'dataset/ThinkCPP/book/cha8.tex',\n",
       " 'dataset/ThinkCPP/book/cha13.tex',\n",
       " 'dataset/ThinkCPP/book/cha1.tex',\n",
       " 'dataset/ThinkCPP/book/cha14.tex',\n",
       " 'dataset/ThinkCPP/book/cha10.tex',\n",
       " 'dataset/ThinkCPP/book/cha12.tex',\n",
       " 'dataset/ThinkCPP/book/cha5.tex',\n",
       " 'dataset/ThinkCPP/book/cha3.tex',\n",
       " 'dataset/ThinkCPP/book/cha4.tex',\n",
       " 'dataset/ThinkCPP/book/cha9.tex',\n",
       " 'dataset/ThinkCPP/book/cha15.tex',\n",
       " 'dataset/ThinkCPP/book/cha2.tex',\n",
       " 'dataset/ThinkCPP/book/cha11.tex',\n",
       " 'dataset/ThinkCPP/book/cha6.tex',\n",
       " 'dataset/ThinkCPP/book/cha7.tex',\n",
       " 'dataset/ThinkJava/thinkjava.tex',\n",
       " 'dataset/javajavajava/texfiles/8.oop.tex',\n",
       " 'dataset/javajavajava/texfiles/15.sockets.tex',\n",
       " 'dataset/javajavajava/texfiles/11.intro.tex',\n",
       " 'dataset/javajavajava/texfiles/2.objects.tex',\n",
       " 'dataset/javajavajava/texfiles/16.datastructs.tex',\n",
       " 'dataset/javajavajava/texfiles/4.uis.tex',\n",
       " 'dataset/javajavajava/texfiles/12.recursion.tex',\n",
       " 'dataset/javajavajava/texfiles/1.programs.tex',\n",
       " 'dataset/javajavajava/texfiles/6.loops.tex',\n",
       " 'dataset/javajavajava/texfiles/9.arrays.tex',\n",
       " 'dataset/javajavajava/texfiles/14.threads.tex',\n",
       " 'dataset/javajavajava/texfiles/13.guis.tex',\n",
       " 'dataset/javajavajava/texfiles/11.files.tex',\n",
       " 'dataset/javajavajava/texfiles/5.data.tex',\n",
       " 'dataset/javajavajava/texfiles/7.strings.tex',\n",
       " 'dataset/javajavajava/texfiles/3.methods.tex',\n",
       " 'dataset/javajavajava/texfiles/0.intro.tex',\n",
       " 'dataset/javajavajava/texfiles/10.exceptions.tex',\n",
       " 'dataset/lm/lm/qm/a.rbtex',\n",
       " 'dataset/lm/lm/qm/c.rbtex',\n",
       " 'dataset/lm/lm/qm/d.rbtex',\n",
       " 'dataset/lm/lm/qm/b.rbtex',\n",
       " 'dataset/lm/lm/vw/a.rbtex',\n",
       " 'dataset/lm/lm/vw/c.rbtex',\n",
       " 'dataset/lm/lm/vw/d.rbtex',\n",
       " 'dataset/lm/lm/vw/b.rbtex']"
      ]
     },
     "execution_count": 7,
     "metadata": {},
     "output_type": "execute_result"
    }
   ],
   "source": [
    "detex_sources = preprocessing.read_detex_data()\n",
    "list(detex_sources.keys())"
   ]
  },
  {
   "cell_type": "code",
   "execution_count": null,
   "metadata": {
    "collapsed": true
   },
   "outputs": [],
   "source": [
    "'''\n",
    "with open('samplefile.txt') as book:\n",
    "    read_book = book.read()\n",
    "'''\n",
    "try:\n",
    "    process = subprocess.Popen(['detex', 'ch01.tex'], stdout=subprocess.PIPE)\n",
    "except FileNotFoundError:\n",
    "    raise FileNotFoundError(\"Please verify that detex is installed on your sysread_booktem. https://github.com/pkubowicz/opendetex\")\n",
    "    \n",
    "output, err = process.communicate()\n",
    "input_text = str(output)\n",
    "input_text = ' '.join(input_text.split('\\\\n'))\n",
    "print(input_text)\n",
    "words = nltk.word_tokenize(input_text)\n"
   ]
  },
  {
   "cell_type": "code",
   "execution_count": null,
   "metadata": {
    "collapsed": true
   },
   "outputs": [],
   "source": [
    "stop_words = set(stopwords.words(\"english\"))\n",
    "filtered_words = []\n",
    "\n",
    "for w in words:\n",
    "    #w.lower()\n",
    "    if w not in stop_words:\n",
    "        filtered_words.append(w)\n",
    "print(filtered_words)"
   ]
  },
  {
   "cell_type": "code",
   "execution_count": null,
   "metadata": {
    "collapsed": true
   },
   "outputs": [],
   "source": [
    "#Removal of space\n",
    "for w in filtered_words:\n",
    "    w.replace(\" \", \"\")\n",
    "\n",
    "#Removal of puncutation marks\n",
    "import string\n",
    "filtered_words = [''.join(c for c in s if c not in string.punctuation) for s in filtered_words]\n",
    "\n",
    "import string\n",
    "processed_word = []\n",
    "for each in filtered_words:\n",
    "    if not each:\n",
    "        continue\n",
    "    else:\n",
    "        processed_word.append(each) \n",
    "print(processed_word)"
   ]
  },
  {
   "cell_type": "code",
   "execution_count": null,
   "metadata": {
    "collapsed": true
   },
   "outputs": [],
   "source": [
    "bigram = nltk.collocations.BigramAssocMeasures()\n",
    "finder = BigramCollocationFinder.from_words(processed_word)\n",
    "#To find frequently together occuring 2 words\n",
    "finder.apply_freq_filter(2)\n",
    "\n",
    "bigram_word = []\n",
    "bigram_words = finder.nbest(bigram.pmi, 20)\n",
    "for each in bigram_words:\n",
    "    bigram_word.append(each[0]+\" \"+each[1])\n",
    "print(bigram_word)"
   ]
  },
  {
   "cell_type": "code",
   "execution_count": null,
   "metadata": {
    "collapsed": true
   },
   "outputs": [],
   "source": [
    "word_list = []\n",
    "word_list.extend(processed_word)\n",
    "word_list.extend(bigram_word)\n",
    "\n",
    "\n",
    "frequency = collections.Counter()\n",
    "for w in word_list:\n",
    "    frequency[w] += 1"
   ]
  },
  {
   "cell_type": "code",
   "execution_count": null,
   "metadata": {
    "collapsed": true
   },
   "outputs": [],
   "source": [
    "tagged = nltk.pos_tag(frequency.keys())\n",
    "\n",
    "notpos = ['VB','VBP','PRP','IN','RB','DT','WDT','WP','WRB','UH','TO','RBR','RBS','POS','MD','EX']\n",
    "w1 = list(filter(lambda word_tag: word_tag[1]  not in notpos, tagged))\n",
    "\n",
    "word = []\n",
    "pos = []\n",
    "count = []\n",
    "df =pd.DataFrame()\n",
    "\n",
    "dict ={}\n",
    "for each in w1:\n",
    "    #dict[each[0]]=each[1]\n",
    "    word.append(each[0])\n",
    "    pos.append(each[1])\n",
    "df['word']=word\n",
    "df['pos']=pos\n",
    "for each in word:\n",
    "    count.append(frequency[each])\n",
    "df['wordcount'] = count\n",
    "\n",
    "print(df.head(20))\n",
    "print(len(df['word']))"
   ]
  },
  {
   "cell_type": "code",
   "execution_count": null,
   "metadata": {
    "collapsed": true
   },
   "outputs": [],
   "source": [
    "cols = ['NN','NNP','NNS','VBG','VBD','VBN','VBZ','VBP','VB','CD','CC','LS','JJ','JJS','JJR','PDT','PRP','RP']\n",
    "df1 = pd.DataFrame(0, index=np.arange(len(df['word'])), columns=cols)\n",
    "\n",
    "df2 = pd.concat([df, df1], axis=1)\n"
   ]
  },
  {
   "cell_type": "code",
   "execution_count": null,
   "metadata": {
    "collapsed": true
   },
   "outputs": [],
   "source": [
    "\n",
    "for idx, row in df2.iterrows():\n",
    "    pos = row['pos']\n",
    "    df2.set_value(idx, pos, 1)"
   ]
  },
  {
   "cell_type": "code",
   "execution_count": null,
   "metadata": {
    "collapsed": true
   },
   "outputs": [],
   "source": [
    "print(df2.head(10))"
   ]
  },
  {
   "cell_type": "code",
   "execution_count": null,
   "metadata": {
    "collapsed": true
   },
   "outputs": [],
   "source": [
    "#for i in range(110):\n",
    "\n",
    "#test only this. The other files are on my local machine and they will fail\n",
    "i=1\n",
    "with open('ch01.tex') as input:\n",
    "    data = input.read()\n",
    "    \n",
    "indices = set(re.findall(r'\\\\index{(.*)}',data))\n",
    "print(indices)\n",
    "#we will include sub indexing, formatting inside indexing, labels etc for final model\n",
    "indices = [re.sub(r'(}.*?index|}.*?label|!).*','',string) for string in indices]\n",
    "sections = set(re.findall(r'\\\\section{(.*)}',data))\n",
    "sections = [re.sub(r'(}.*?index|}.*?label|!).*','',string) for string in sections]\n",
    "subsections = set(re.findall(r'\\\\subsection{(.*)}',data))\n",
    "subsections = [re.sub(r'(}.*?index|}.*?label|!).*','',string) for string in subsections]\n",
    "\n",
    "italicized = re.findall(r'\\\\emph{(.*?)}',data)\n",
    "italicized.extend(re.findall(r'\\\\textit{(.*)}',data))\n",
    "#italicized.extend(re.findall(r'\\\\em([^}].*)',data))\n",
    "\n",
    "\n",
    "bold = re.findall(r'\\\\textbf{(.*)}',data)\n",
    "\n",
    "underline = re.findall(r'\\\\uline{(.*)}',data)\n",
    "underline.extend(re.findall(r'\\\\uwave{(.*)}',data))\n",
    "\n",
    "large = re.findall(r'(\\\\large|\\\\Large|\\\\LARGE|\\\\huge|\\\\Huge)',data)\n",
    "\n",
    "#\\emph, \\textit, {\\em ...}\n",
    "#\\textbf\n",
    "#\\uline{..}. , \\uwave{...}\n",
    "#\\large,\\Large,\\LARGE,\\huge,\\Huge\n",
    "\n",
    "print(indices)\n",
    "print(sections)\n",
    "print(subsections)\n",
    "print(\"bold\")\n",
    "print(bold)\n",
    "print(\"italicized\")\n",
    "print(italicized)\n",
    "print(\"underline\")\n",
    "print(underline)\n",
    "print(\"large\")\n",
    "print(large)\n",
    "\n",
    "\n",
    "\n",
    "#initialise the columns\n",
    "df2['index'] = 0\n",
    "df2['section'] = 0\n",
    "df2['subsection'] = 0\n",
    "df2['italicized'] = 0\n",
    "df2['bold'] = 0\n",
    "df2['underline'] = 0\n",
    "df2['large'] = 0\n",
    "#mark indices\n",
    "df2.loc[df2['word'].isin(indices),'index']=1\n",
    "print(df2[df2['index']==1])\n",
    "#mark sections\n",
    "df2.loc[df2['word'].isin(sections),'section']=1\n",
    "print(df2[df2['section']==1])\n",
    "#mark subsections\n",
    "df2.loc[df2['word'].isin(subsections),'subsection']=1\n",
    "print(df2[df2['subsection']==1])\n",
    "df2.loc[df2['word'].isin(italicized),'italicized']=1\n",
    "print(df2[df2['italicized']==1])\n",
    "df2.loc[df2['word'].isin(bold),'bold']=1\n",
    "print(df2[df2['bold']==1])\n",
    "df2.loc[df2['word'].isin(underline),'underline']=1\n",
    "print(df2[df2['underline']==1])\n",
    "df2.loc[df2['word'].isin(large),'large']=1\n",
    "print(df2[df2['large']==1])"
   ]
  },
  {
   "cell_type": "code",
   "execution_count": 2,
   "metadata": {},
   "outputs": [
    {
     "name": "stdout",
     "output_type": "stream",
     "text": [
      "   Unnamed: 0              word  pos  wordcount  NN  NNP  NNS  VBG  VBD  VBN  \\\n",
      "0           0     Understanding  VBG          1   0    0    0    1    0    0   \n",
      "1           1  coefficient term  NNS          1   0    0    1    0    0    0   \n",
      "2           2           written  VBN          1   0    0    0    0    0    1   \n",
      "3           3         Functions  NNP          1   0    1    0    0    0    0   \n",
      "4           4            camera   NN          1   1    0    0    0    0    0   \n",
      "\n",
      "   ...    NNPS  WP$  PRP$  index  section  subsection  italicized  bold  \\\n",
      "0  ...     NaN  NaN   NaN      0        0           0           0     0   \n",
      "1  ...     NaN  NaN   NaN      0        0           0           0     0   \n",
      "2  ...     NaN  NaN   NaN      0        0           0           0     0   \n",
      "3  ...     NaN  NaN   NaN      0        0           0           0     0   \n",
      "4  ...     NaN  NaN   NaN      0        0           0           0     0   \n",
      "\n",
      "   underline  large  \n",
      "0          0      0  \n",
      "1          0      0  \n",
      "2          0      0  \n",
      "3          0      0  \n",
      "4          0      0  \n",
      "\n",
      "[5 rows x 33 columns]\n"
     ]
    }
   ],
   "source": [
    "data = pd.read_csv(\"datasets\\dataframe.csv\")\n",
    "print data.head()\n",
    "data.drop('index', 1, inplace=True)"
   ]
  },
  {
   "cell_type": "code",
   "execution_count": 3,
   "metadata": {
    "collapsed": true
   },
   "outputs": [],
   "source": [
    "def classifier():\n",
    "    data = pd.DataFrame()\n",
    "    data = pd.read_csv(\"datasets\\dataframe.csv\")\n",
    "    data.fillna('0', inplace=True)\n",
    "    #Splitting the features and traget variable\n",
    "    y = data['index']\n",
    "    data.drop('index', 1, inplace=True)\n",
    "    data.drop('word', 1, inplace=True)\n",
    "    data.drop('pos', 1, inplace=True)\n",
    "    X = data\n",
    "    #splitting the dataset\n",
    "    #X_train, X_test, y_train, y_test = train_test_split(X,y,test_size = 0.3,random_state=4)\n",
    "    #Initialising the model\n",
    "    rfr= RandomForestClassifier()\n",
    "    #Fitting the data on the model\n",
    "    rfr.fit(X, y)\n",
    "    #Saving the model\n",
    "    saveModel(rfr)\n",
    "    pred = rfr.predict(X)\n",
    "    Evaluate_accuracy(pred, y)\n",
    "    return"
   ]
  },
  {
   "cell_type": "code",
   "execution_count": 4,
   "metadata": {
    "collapsed": true
   },
   "outputs": [],
   "source": [
    "def predict(model):\n",
    "    data = pd.DataFrame()\n",
    "    data = pd.read_csv(\"datasets\\dataframe.csv\")\n",
    "    data.fillna('0', inplace=True)\n",
    "    \n",
    "    #Splitting the features and traget variable\n",
    "    y = data['index']\n",
    "    data.drop('index', 1, inplace=True)\n",
    "    data.drop('word', 1, inplace=True)\n",
    "    data.drop('pos', 1, inplace=True)\n",
    "    X = data\n",
    "    \n",
    "    pred = model.predict(X)\n",
    "    Evaluate_accuracy(pred, y)\n",
    "    return"
   ]
  },
  {
   "cell_type": "code",
   "execution_count": 5,
   "metadata": {
    "collapsed": true
   },
   "outputs": [],
   "source": [
    "def saveModel(model):\n",
    "    joblib.dump(model, 'newlinear.model')\n",
    "    return"
   ]
  },
  {
   "cell_type": "code",
   "execution_count": 6,
   "metadata": {
    "collapsed": true
   },
   "outputs": [],
   "source": [
    "def loadModel():\n",
    "    model = joblib.load('newlinear.model')\n",
    "    return"
   ]
  },
  {
   "cell_type": "code",
   "execution_count": 30,
   "metadata": {
    "collapsed": true
   },
   "outputs": [],
   "source": [
    "def Evaluate_accuracy(pred, true_value):\n",
    "    TP = 0\n",
    "    FP = 0\n",
    "    TN = 0\n",
    "    FN = 0\n",
    "\n",
    "    for i in range(len(pred)): \n",
    "        if true_value[i]==1 and pred[i]==1:\n",
    "           TP += 1\n",
    "    for i in range(len(pred)): \n",
    "        if pred[i]==1 and true_value[i]==pred[i]:\n",
    "           FP += 1\n",
    "    for i in range(len(pred)): \n",
    "        if true_value[i]==pred[i]==0:\n",
    "           TN += 1\n",
    "    for i in range(len(pred)): \n",
    "        if pred[i]==0 and true_value[i]==pred[i]:\n",
    "           FN += 1\n",
    "    print(\"TP, FP, TN, FN   :\", TP, FP, TN, FN)\n",
    "    print(\"Accuracy score is \", accuracy_score(true_value, pred)*100)\n",
    "    rmse = np.sqrt(mean_squared_error(true_value, pred))\n",
    "    print(\"Root Mean Squared Error: {}\".format(rmse))\n",
    "    print(\"Mean absolute error:\", mean_absolute_error(true_value,pred))\n",
    "    print \"Micro stats:\"\n",
    "    print precision_recall_fscore_support(true_value, pred, average='micro')\n",
    "    print \"Macro stats:\"\n",
    "    print precision_recall_fscore_support(true_value, pred, average='macro')\n",
    "    \n",
    "\n",
    "    cr= classification_report(true_value, pred)\n",
    "    xticks = ['precision', 'recall', 'f1-score', 'support']\n",
    "    yticks = list(np.unique(true_value))\n",
    "    yticks += ['avg']\n",
    "    rep = np.array(precision_recall_fscore_support(true_value, pred)).T\n",
    "    avg = np.mean(rep, axis=0)\n",
    "    avg[-1] = np.sum(rep[:, -1])\n",
    "    rep = np.insert(rep, rep.shape[0], avg, axis=0)\n",
    "    plt.title('Classification Report (Normalized)')\n",
    "    rep =rep.astype('float') / rep.sum(axis=1)[:, np.newaxis]\n",
    "    sns.heatmap(rep, annot=True, xticklabels=xticks, yticklabels=yticks)\n",
    "    plt.show()\n",
    "    \n",
    "\n",
    "    cm=confusion_matrix(true_value,pred)\n",
    "    \"\"\"\n",
    "    TP = cm[1, 1]\n",
    "    TN = cm[0, 0]\n",
    "    FP = cm[0, 1]\n",
    "    FN = cm[1, 0]\n",
    "    \"\"\"\n",
    "    plt.title('Confusion matrix: Not Normalized')\n",
    "    sns.heatmap(cm, annot=True, linewidths=.5)\n",
    "    plt.xlabel('Predicted')\n",
    "    plt.ylabel('True')\n",
    "    plt.show()\n",
    "    plt.title('Confusion matrix: Normalized')\n",
    "    cm = cm.astype('float') / cm.sum(axis=1)[:, np.newaxis]\n",
    "    sns.heatmap(cm, annot=True, linewidths=.5)\n",
    "    plt.xlabel('Predicted value')\n",
    "    plt.ylabel('True value')\n",
    "    plt.show()\n",
    "    return"
   ]
  },
  {
   "cell_type": "code",
   "execution_count": 15,
   "metadata": {
    "collapsed": true
   },
   "outputs": [],
   "source": [
    "def main():\n",
    "    classifier()\n",
    "    model = loadModel()\n",
    "    #predict(model)\n",
    "    "
   ]
  },
  {
   "cell_type": "code",
   "execution_count": 31,
   "metadata": {},
   "outputs": [
    {
     "name": "stdout",
     "output_type": "stream",
     "text": [
      "('TP, FP, TN, FN   :', 6, 6, 962, 962)\n",
      "('Accuracy score is ', 100.0)\n",
      "Root Mean Squared Error: 0.0\n",
      "('Mean absolute error:', 0.0)\n",
      "Micro stats:\n",
      "(1.0, 1.0, 1.0, None)\n",
      "Macro stats:\n",
      "(1.0, 1.0, 1.0, None)\n"
     ]
    },
    {
     "data": {
      "image/png": "[encoded data removed]",
      "text/plain": [
       "<matplotlib.figure.Figure at 0xf3d7080>"
      ]
     },
     "metadata": {},
     "output_type": "display_data"
    },
    {
     "data": {
      "image/png": "[encoded data removed]",
      "text/plain": [
       "<matplotlib.figure.Figure at 0xf1a4c18>"
      ]
     },
     "metadata": {},
     "output_type": "display_data"
    },
    {
     "data": {
      "image/png": "[encoded data removed]",
      "text/plain": [
       "<matplotlib.figure.Figure at 0xf48afd0>"
      ]
     },
     "metadata": {},
     "output_type": "display_data"
    }
   ],
   "source": [
    "if __name__ == \"__main__\":\n",
    "    main()"
   ]
  },
  {
   "cell_type": "markdown",
   "metadata": {},
   "source": [
    "### done so far. kept the Rake eg below untouched."
   ]
  },
  {
   "cell_type": "code",
   "execution_count": 61,
   "metadata": {},
   "outputs": [
    {
     "ename": "ValueError",
     "evalue": "num must be 1 <= num <= 0, not 1",
     "output_type": "error",
     "traceback": [
      "\u001b[1;31m\u001b[0m",
      "\u001b[1;31mValueError\u001b[0mTraceback (most recent call last)",
      "\u001b[1;32m<ipython-input-61-f9fc0a70c952>\u001b[0m in \u001b[0;36m<module>\u001b[1;34m()\u001b[0m\n\u001b[0;32m     10\u001b[0m \u001b[1;33m\u001b[0m\u001b[0m\n\u001b[0;32m     11\u001b[0m \u001b[0mplt\u001b[0m\u001b[1;33m.\u001b[0m\u001b[0mgrid\u001b[0m\u001b[1;33m(\u001b[0m\u001b[0mTrue\u001b[0m\u001b[1;33m)\u001b[0m\u001b[1;33m\u001b[0m\u001b[0m\n\u001b[1;32m---> 12\u001b[1;33m \u001b[0mnew\u001b[0m\u001b[1;33m.\u001b[0m\u001b[0mhist\u001b[0m\u001b[1;33m(\u001b[0m\u001b[1;33m)\u001b[0m\u001b[1;33m\u001b[0m\u001b[0m\n\u001b[0m\u001b[0;32m     13\u001b[0m \u001b[0mplt\u001b[0m\u001b[1;33m.\u001b[0m\u001b[0mtitle\u001b[0m\u001b[1;33m(\u001b[0m\u001b[1;34m\"count of Parts of speech of words appearing in Index\"\u001b[0m\u001b[1;33m)\u001b[0m\u001b[1;33m\u001b[0m\u001b[0m\n\u001b[0;32m     14\u001b[0m \u001b[0mplt\u001b[0m\u001b[1;33m.\u001b[0m\u001b[0mylabel\u001b[0m\u001b[1;33m(\u001b[0m\u001b[1;34m'count'\u001b[0m\u001b[1;33m)\u001b[0m\u001b[1;33m\u001b[0m\u001b[0m\n",
      "\u001b[1;32mC:\\Users\\Admin\\Anaconda2\\lib\\site-packages\\pandas\\plotting\\_core.pyc\u001b[0m in \u001b[0;36mhist_frame\u001b[1;34m(data, column, by, grid, xlabelsize, xrot, ylabelsize, yrot, ax, sharex, sharey, figsize, layout, bins, **kwds)\u001b[0m\n\u001b[0;32m   2123\u001b[0m     fig, axes = _subplots(naxes=naxes, ax=ax, squeeze=False,\n\u001b[0;32m   2124\u001b[0m                           \u001b[0msharex\u001b[0m\u001b[1;33m=\u001b[0m\u001b[0msharex\u001b[0m\u001b[1;33m,\u001b[0m \u001b[0msharey\u001b[0m\u001b[1;33m=\u001b[0m\u001b[0msharey\u001b[0m\u001b[1;33m,\u001b[0m \u001b[0mfigsize\u001b[0m\u001b[1;33m=\u001b[0m\u001b[0mfigsize\u001b[0m\u001b[1;33m,\u001b[0m\u001b[1;33m\u001b[0m\u001b[0m\n\u001b[1;32m-> 2125\u001b[1;33m                           layout=layout)\n\u001b[0m\u001b[0;32m   2126\u001b[0m     \u001b[0m_axes\u001b[0m \u001b[1;33m=\u001b[0m \u001b[0m_flatten\u001b[0m\u001b[1;33m(\u001b[0m\u001b[0maxes\u001b[0m\u001b[1;33m)\u001b[0m\u001b[1;33m\u001b[0m\u001b[0m\n\u001b[0;32m   2127\u001b[0m \u001b[1;33m\u001b[0m\u001b[0m\n",
      "\u001b[1;32mC:\\Users\\Admin\\Anaconda2\\lib\\site-packages\\pandas\\plotting\\_tools.pyc\u001b[0m in \u001b[0;36m_subplots\u001b[1;34m(naxes, sharex, sharey, squeeze, subplot_kw, ax, layout, layout_type, **fig_kw)\u001b[0m\n\u001b[0;32m    236\u001b[0m \u001b[1;33m\u001b[0m\u001b[0m\n\u001b[0;32m    237\u001b[0m     \u001b[1;31m# Create first subplot separately, so we can share it if requested\u001b[0m\u001b[1;33m\u001b[0m\u001b[1;33m\u001b[0m\u001b[0m\n\u001b[1;32m--> 238\u001b[1;33m     \u001b[0max0\u001b[0m \u001b[1;33m=\u001b[0m \u001b[0mfig\u001b[0m\u001b[1;33m.\u001b[0m\u001b[0madd_subplot\u001b[0m\u001b[1;33m(\u001b[0m\u001b[0mnrows\u001b[0m\u001b[1;33m,\u001b[0m \u001b[0mncols\u001b[0m\u001b[1;33m,\u001b[0m \u001b[1;36m1\u001b[0m\u001b[1;33m,\u001b[0m \u001b[1;33m**\u001b[0m\u001b[0msubplot_kw\u001b[0m\u001b[1;33m)\u001b[0m\u001b[1;33m\u001b[0m\u001b[0m\n\u001b[0m\u001b[0;32m    239\u001b[0m \u001b[1;33m\u001b[0m\u001b[0m\n\u001b[0;32m    240\u001b[0m     \u001b[1;32mif\u001b[0m \u001b[0msharex\u001b[0m\u001b[1;33m:\u001b[0m\u001b[1;33m\u001b[0m\u001b[0m\n",
      "\u001b[1;32mC:\\Users\\Admin\\Anaconda2\\lib\\site-packages\\matplotlib\\figure.pyc\u001b[0m in \u001b[0;36madd_subplot\u001b[1;34m(self, *args, **kwargs)\u001b[0m\n\u001b[0;32m   1019\u001b[0m                     \u001b[0mself\u001b[0m\u001b[1;33m.\u001b[0m\u001b[0m_axstack\u001b[0m\u001b[1;33m.\u001b[0m\u001b[0mremove\u001b[0m\u001b[1;33m(\u001b[0m\u001b[0max\u001b[0m\u001b[1;33m)\u001b[0m\u001b[1;33m\u001b[0m\u001b[0m\n\u001b[0;32m   1020\u001b[0m \u001b[1;33m\u001b[0m\u001b[0m\n\u001b[1;32m-> 1021\u001b[1;33m             \u001b[0ma\u001b[0m \u001b[1;33m=\u001b[0m \u001b[0msubplot_class_factory\u001b[0m\u001b[1;33m(\u001b[0m\u001b[0mprojection_class\u001b[0m\u001b[1;33m)\u001b[0m\u001b[1;33m(\u001b[0m\u001b[0mself\u001b[0m\u001b[1;33m,\u001b[0m \u001b[1;33m*\u001b[0m\u001b[0margs\u001b[0m\u001b[1;33m,\u001b[0m \u001b[1;33m**\u001b[0m\u001b[0mkwargs\u001b[0m\u001b[1;33m)\u001b[0m\u001b[1;33m\u001b[0m\u001b[0m\n\u001b[0m\u001b[0;32m   1022\u001b[0m \u001b[1;33m\u001b[0m\u001b[0m\n\u001b[0;32m   1023\u001b[0m         \u001b[0mself\u001b[0m\u001b[1;33m.\u001b[0m\u001b[0m_axstack\u001b[0m\u001b[1;33m.\u001b[0m\u001b[0madd\u001b[0m\u001b[1;33m(\u001b[0m\u001b[0mkey\u001b[0m\u001b[1;33m,\u001b[0m \u001b[0ma\u001b[0m\u001b[1;33m)\u001b[0m\u001b[1;33m\u001b[0m\u001b[0m\n",
      "\u001b[1;32mC:\\Users\\Admin\\Anaconda2\\lib\\site-packages\\matplotlib\\axes\\_subplots.pyc\u001b[0m in \u001b[0;36m__init__\u001b[1;34m(self, fig, *args, **kwargs)\u001b[0m\n\u001b[0;32m     62\u001b[0m                     raise ValueError(\n\u001b[0;32m     63\u001b[0m                         \"num must be 1 <= num <= {maxn}, not {num}\".format(\n\u001b[1;32m---> 64\u001b[1;33m                             maxn=rows*cols, num=num))\n\u001b[0m\u001b[0;32m     65\u001b[0m                 \u001b[0mself\u001b[0m\u001b[1;33m.\u001b[0m\u001b[0m_subplotspec\u001b[0m \u001b[1;33m=\u001b[0m \u001b[0mGridSpec\u001b[0m\u001b[1;33m(\u001b[0m\u001b[0mrows\u001b[0m\u001b[1;33m,\u001b[0m \u001b[0mcols\u001b[0m\u001b[1;33m)\u001b[0m\u001b[1;33m[\u001b[0m\u001b[0mint\u001b[0m\u001b[1;33m(\u001b[0m\u001b[0mnum\u001b[0m\u001b[1;33m)\u001b[0m \u001b[1;33m-\u001b[0m \u001b[1;36m1\u001b[0m\u001b[1;33m]\u001b[0m\u001b[1;33m\u001b[0m\u001b[0m\n\u001b[0;32m     66\u001b[0m                 \u001b[1;31m# num - 1 for converting from MATLAB to python indexing\u001b[0m\u001b[1;33m\u001b[0m\u001b[1;33m\u001b[0m\u001b[0m\n",
      "\u001b[1;31mValueError\u001b[0m: num must be 1 <= num <= 0, not 1"
     ]
    }
   ],
   "source": [
    "data= pd.read_csv(\"datasets\\dataframe.csv\")\n",
    "ds =pd.DataFrame()\n",
    "ds['index']= data['index']\n",
    "ds['pos'] = data['pos']\n",
    "list_pos = []\n",
    "for idx, row in ds.iterrows():\n",
    "    if row['index']==1:\n",
    "        list_pos.append(row['pos'])\n",
    "new = pd.DataFrame(list_pos)\n",
    "\n",
    "plt.grid(True)\n",
    "new.hist()\n",
    "plt.title(\"count of Parts of speech of words appearing in Index\")\n",
    "plt.ylabel('count')\n",
    "plt.xlabel('POS')\n",
    "plt.show()\n"
   ]
  },
  {
   "cell_type": "markdown",
   "metadata": {},
   "source": [
    "## Rake Example:\n",
    "Below is a sample code that gets ranked phrases from rake. This is mainly used to generate keyphrases. We can fine tune this"
   ]
  },
  {
   "cell_type": "code",
   "execution_count": null,
   "metadata": {
    "collapsed": true
   },
   "outputs": [],
   "source": [
    "from rake_nltk import Rake\n",
    "r = Rake()\n",
    "r.extract_keywords_from_text(input_text)\n",
    "print(r.get_ranked_phrases())"
   ]
  }
 ],
 "metadata": {
  "kernelspec": {
   "display_name": "Python 3",
   "language": "python",
   "name": "python3"
  },
  "language_info": {
   "codemirror_mode": {
    "name": "ipython",
    "version": 3
   },
   "file_extension": ".py",
   "mimetype": "text/x-python",
   "name": "python",
   "nbconvert_exporter": "python",
   "pygments_lexer": "ipython3",
   "version": "3.6.1"
  }
 },
 "nbformat": 4,
 "nbformat_minor": 2
}
