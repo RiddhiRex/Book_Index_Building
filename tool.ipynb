{
 "cells": [
  {
   "cell_type": "code",
   "execution_count": 9,
   "metadata": {
    "collapsed": true
   },
   "outputs": [],
   "source": [
    "import nltk, collections\n",
    "import numpy as np\n",
    "from nltk.collocations import *\n",
    "from nltk.corpus import stopwords\n",
    "import subprocess\n",
    "import pandas as pd\n",
    "import re\n",
    "from sklearn.externals import joblib\n",
    "import random\n",
    "\n",
    "from sklearn.metrics import mean_squared_error, mean_absolute_error, accuracy_score\n",
    "from sklearn.metrics import precision_recall_fscore_support\n",
    "from sklearn.metrics import classification_report, confusion_matrix\n",
    "from sklearn.metrics import precision_recall_fscore_support\n",
    "from sklearn.ensemble import RandomForestClassifier\n",
    "from sklearn.neural_network import MLPClassifier\n",
    "from sklearn.preprocessing import StandardScaler\n",
    "\n",
    "import seaborn as sns\n",
    "import matplotlib.pyplot as plt\n",
    "\n",
    "import candidate_list_gen\n",
    "import dataframe_generation\n",
    "import Classifier\n",
    "import math\n",
    "import index_generator"
   ]
  },
  {
   "cell_type": "code",
   "execution_count": 10,
   "metadata": {},
   "outputs": [
    {
     "name": "stdout",
     "output_type": "stream",
     "text": [
      "Processed 90 source files and dumped data\n"
     ]
    }
   ],
   "source": [
    "import preprocessing\n",
    "# This reads the *.tex sources and dumps them to a file\n",
    "preprocessing.dump_detex_data()\n",
    "feature_list_from_tex = [\"indices\",\"sections\",\"subsections\",\"large\",\"underline\",\"italicized\",\"bold\"]"
   ]
  },
  {
   "cell_type": "code",
   "execution_count": 11,
   "metadata": {
    "collapsed": true
   },
   "outputs": [],
   "source": [
    "    feature_dict = preprocessing.populate_properties()"
   ]
  },
  {
   "cell_type": "code",
   "execution_count": 12,
   "metadata": {
    "collapsed": true
   },
   "outputs": [],
   "source": [
    "df = pd.DataFrame([])\n",
    "for filename in feature_dict:\n",
    "    feature_dict[filename][\"candidate_list\"] = candidate_list_gen.process_text(feature_dict[filename][\"plaintext\"])\n",
    "    df = df.append(dataframe_generation.generate_dataframe(filename,feature_dict[filename],feature_list_from_tex))\n"
   ]
  },
  {
   "cell_type": "code",
   "execution_count": 13,
   "metadata": {
    "collapsed": true
   },
   "outputs": [],
   "source": [
    "df = dataframe_generation.add_tf_idf(df)\n"
   ]
  },
  {
   "cell_type": "code",
   "execution_count": 14,
   "metadata": {},
   "outputs": [],
   "source": [
    "#split data set into test, train, evaluation\n",
    "\n",
    "test_files = [\"dataset/discover_physics/ch02/ch02.tex\",\"dataset/general_relativity/ch03/ch03.rbtex\",\"dataset/general_relativity/ch05/ch05.rbtex\",\"dataset/calculus/ch07/ch07.tex\",\"dataset/fundamentals-of-calculus/ch05/ch05.rbtex\",\"dataset/discover_physics/ch05/ch05.tex\"]\n",
    "evaluation_files = [\"dataset/arxiv_0304140.tex\"]\n",
    "non_train_files = test_files + evaluation_files\n",
    "\n",
    "\n",
    "df_test = pd.DataFrame([])\n",
    "df_train = pd.DataFrame([])\n",
    "df_evaluation = pd.DataFrame([])\n",
    "\n",
    "df_test = df.loc[df.filename.isin(test_files),]\n",
    "\n",
    "df_train = df.loc[~df.filename.isin(non_train_files),]\n",
    "df_train = df_train.append([df_train[df_train.indices==1]]*100)\n",
    "\n",
    "df_evaluation = df.loc[df.filename.isin(evaluation_files),]\n"
   ]
  },
  {
   "cell_type": "code",
   "execution_count": 15,
   "metadata": {
    "collapsed": true
   },
   "outputs": [],
   "source": [
    "#Train and test\n",
    "\n",
    "feature_list = ['NN', 'NNP', 'NNS', 'VBG', 'VBD', 'VBN','VBZ', 'VBP', 'VB', 'CD', 'JJ', 'JJS', 'JJR', 'FW', 'NNPS','sections', 'subsections', 'large', 'underline','tf-idf','italicized', 'bold']\n",
    "\n",
    "\n",
    "x_train = df_train[feature_list]\n",
    "x_test = df_test[feature_list]\n",
    "\n",
    "y_train = df_train[\"indices\"]\n",
    "y_test = df_test[\"indices\"]\n",
    "\n",
    "\n",
    "#rfc= RandomForestClassifier()\n",
    "rfc =  MLPClassifier(solver='lbfgs', alpha=1e-5, hidden_layer_sizes=(5, 2), random_state=1)\n",
    "\n",
    "rfc.fit(x_train, y_train)\n",
    "\n",
    "pred_test = rfc.predict(x_test)\n",
    "\n",
    "df_test[\"pred\"] = pred_test\n"
   ]
  },
  {
   "cell_type": "code",
   "execution_count": 16,
   "metadata": {},
   "outputs": [],
   "source": [
    "#Evaluate\n",
    "\n",
    "x_eval = df_evaluation[feature_list]\n",
    "y_eval = df_evaluation[\"indices\"]\n",
    "pred_evaluation = rfc.predict(x_eval)\n",
    "pred_prob = rfc.predict_proba(x_eval)\n",
    "\n",
    "index_prob = [ele[1] for ele in pred_prob]\n",
    "\n",
    "df_evaluation[\"pred\"] = pred_evaluation\n",
    "df_evaluation[\"pred_prob\"] = index_prob\n",
    "df_evaluation[\"score\"] = df_evaluation[\"pred_prob\"] + 0.1 * df_evaluation['NN'] +  0.1 * df_evaluation['NNP'] +  (df_evaluation[\"idf\"])/4"
   ]
  },
  {
   "cell_type": "code",
   "execution_count": 17,
   "metadata": {},
   "outputs": [
    {
     "name": "stdout",
     "output_type": "stream",
     "text": [
      "                 word  pred_prob\n",
      "89748        monopole   0.994121\n",
      "90087     topological   0.949830\n",
      "89883           boson   0.910788\n",
      "89902           d2dr2   0.900366\n",
      "90240           Dirac   0.899275\n",
      "89825        singular   0.883756\n",
      "89977    perturbation   0.863646\n",
      "89834          vector   0.861534\n",
      "89727      eigenvalue   0.861235\n",
      "90263        magnetic   0.850489\n",
      "90257       anomalous   0.839227\n",
      "90189   configuration   0.839041\n",
      "90216    polarization   0.835293\n",
      "90356          action   0.828216\n",
      "90122            spin   0.823423\n",
      "89715       potential   0.821985\n",
      "90313          radial   0.821951\n",
      "89762          dilute   0.814227\n",
      "90065     interaction   0.813824\n",
      "90279     integration   0.811695\n",
      "90201        massless   0.810150\n",
      "90004    contribution   0.808075\n",
      "90315          moment   0.807337\n",
      "90359     confinement   0.805660\n",
      "89935  orthonormality   0.805660\n",
      "89769           field   0.803188\n",
      "90027       YangMills   0.802921\n",
      "90247        equation   0.801200\n",
      "89838        solution   0.801178\n",
      "89714          energy   0.799459\n",
      "...               ...        ...\n",
      "89958         Abelian   0.606017\n",
      "89920       monopoles   0.605838\n",
      "90028       Euclidean   0.603927\n",
      "90199   superposition   0.603268\n",
      "90085            Phys   0.600756\n",
      "90292      orthogonal   0.590838\n",
      "89854        Polyakov   0.582536\n",
      "89785           Mitra   0.582536\n",
      "90127       Harikumar   0.582536\n",
      "90349             Rev   0.571287\n",
      "90288            mode   0.570824\n",
      "90281           shift   0.565369\n",
      "90344            Lett   0.563426\n",
      "90021     ultraviolet   0.560347\n",
      "90268             Aia   0.558675\n",
      "90017            YqJM   0.558675\n",
      "90015          Bessel   0.558675\n",
      "89810   GeorgiGlashow   0.558675\n",
      "90246             Sab   0.558675\n",
      "89974   HooftPolyakov   0.558675\n",
      "89890       Therefore   0.555927\n",
      "90342           Higgs   0.553523\n",
      "90225        Weinberg   0.549860\n",
      "90353        momentum   0.542330\n",
      "89772  configurations   0.520482\n",
      "90272      remarkable   0.513507\n",
      "90256       spherical   0.513018\n",
      "89966         degrees   0.506798\n",
      "90119        coupling   0.506254\n",
      "90187            pure   0.505969\n",
      "\n",
      "[119 rows x 2 columns]\n"
     ]
    }
   ],
   "source": [
    "\n",
    "df_pred_indices = df_evaluation[df_evaluation[\"pred\"]==1]\n",
    "print(df_pred_indices[[\"word\",\"pred_prob\"]].sort_values(\"pred_prob\",ascending=False))"
   ]
  },
  {
   "cell_type": "code",
   "execution_count": 18,
   "metadata": {},
   "outputs": [],
   "source": [
    "\n",
    "index_generator.index_gen(df_pred_indices[\"word\"],evaluation_files[0],\"index_\"+ evaluation_files[0].split('/')[1])\n",
    "\n"
   ]
  },
  {
   "cell_type": "code",
   "execution_count": null,
   "metadata": {
    "collapsed": true
   },
   "outputs": [],
   "source": []
  }
 ],
 "metadata": {
  "kernelspec": {
   "display_name": "Python 3",
   "language": "python",
   "name": "python3"
  },
  "language_info": {
   "codemirror_mode": {
    "name": "ipython",
    "version": 3
   },
   "file_extension": ".py",
   "mimetype": "text/x-python",
   "name": "python",
   "nbconvert_exporter": "python",
   "pygments_lexer": "ipython3",
   "version": "3.5.2"
  }
 },
 "nbformat": 4,
 "nbformat_minor": 2
}
