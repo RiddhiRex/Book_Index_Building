{
 "cells": [
  {
   "cell_type": "code",
   "execution_count": 57,
   "metadata": {},
   "outputs": [],
   "source": [
    "import subprocess\n",
    "import pandas as pd\n",
    "import re\n",
    "import glob\n",
    "import sys"
   ]
  },
  {
   "cell_type": "code",
   "execution_count": 17,
   "metadata": {
    "collapsed": true
   },
   "outputs": [],
   "source": [
    "features = [\"indices\",\"sections\",\"subsections\",\"italicized\",\"bold\",\"underline\",\"large\"]"
   ]
  },
  {
   "cell_type": "code",
   "execution_count": 18,
   "metadata": {
    "collapsed": true
   },
   "outputs": [],
   "source": [
    "def feature_extraction(data):\n",
    "    dict = {}\n",
    "    indices = set(re.findall(r'\\\\index{(.*)}',data))\n",
    "    #we will include sub indexing, formatting inside indexing, labels etc for final model\n",
    "    indices = [re.sub(r'(}.*?index|}.*?label|!).*','',string) for string in indices]\n",
    "    sections = set(re.findall(r'\\\\section{(.*)}',data))\n",
    "    sections = [re.sub(r'(}.*?index|}.*?label|!).*','',string) for string in sections]\n",
    "    subsections = set(re.findall(r'\\\\subsection{(.*)}',data))\n",
    "    subsections = [re.sub(r'(}.*?index|}.*?label|!).*','',string) for string in subsections]\n",
    "    \n",
    "    italicized = re.findall(r'\\\\emph{(.*?)}',data)\n",
    "    italicized.extend(re.findall(r'\\\\textit{(.*)}',data))\n",
    "    #italicized.extend(re.findall(r'\\\\em([^}].*)',data))\n",
    "    \n",
    "    \n",
    "    bold = re.findall(r'\\\\textbf{(.*)}',data)\n",
    "    \n",
    "    underline = re.findall(r'\\\\uline{(.*)}',data)\n",
    "    underline.extend(re.findall(r'\\\\uwave{(.*)}',data))\n",
    "    \n",
    "    large = re.findall(r'(\\\\large|\\\\Large|\\\\LARGE|\\\\huge|\\\\Huge)',data)\n",
    "    dict[\"indices\"] = indices\n",
    "    dict[\"sections\"] = sections\n",
    "    dict[\"subsections\"] = subsections\n",
    "    dict[\"italicized\"] = italicized\n",
    "    dict[\"bold\"] = bold\n",
    "    dict[\"underline\"] = underline\n",
    "    dict[\"large\"] = large\n",
    "    return dict"
   ]
  },
  {
   "cell_type": "code",
   "execution_count": 46,
   "metadata": {},
   "outputs": [
    {
     "name": "stdout",
     "output_type": "stream",
     "text": [
      "calculus/ch03/ch03.tex\n",
      "calculus/ch02/ch02.tex\n",
      "calculus/ch09/ch09.tex\n",
      "calculus/ch05/ch05.tex\n",
      "calculus/ch07/ch07.tex\n",
      "calculus/ch08/ch08.tex\n",
      "calculus/ch01/ch01.tex\n",
      "calculus/ch04/ch04.tex\n",
      "calculus/ch06/ch06.tex\n",
      "{'sections': ['Limits at infinity', 'Another perspective on indeterminate forms', 'Limits', \"L'H\\\\^{o\", 'Continuity', \"Generalizations of l'H\\\\^{o\"], 'bold': [], 'large': [], 'underline': [], 'indices': ['limit', 'derivative', 'intermediate value theorem', \"l'H\\\\^{o}pital's rule\", 'extreme value theorem', 'composition', \"l'H\\\\^{o}pital's rule\", 'indeterminate form', 'continuous function', 'limit'], 'subsections': ['The extreme value theorem', 'Multiple applications of the rule', 'The intermediate value theorem', 'Limits at infinity', 'The indeterminate form $\\\\infty/\\\\infty$'], 'italicized': ['composition', 'intermediate value theorem', 'infinitely', 'extreme value theorem', 'con los', 'equals', \"didn't\", 'zero', 'any', 'not', 'does', 'ad hoc']}\n"
     ]
    }
   ],
   "source": [
    "input_text={}\n",
    "\n",
    "for filename in glob.glob(\"calculus/*/*.tex\"):\n",
    "    with open(filename) as f:\n",
    "        data = f.read()\n",
    "        input_text[filename] = feature_extraction(data)\n",
    "\n",
    "for key in input_text:\n",
    "    print(key)\n",
    "print(input_text[\"calculus/ch03/ch03.tex\"])"
   ]
  },
  {
   "cell_type": "code",
   "execution_count": 20,
   "metadata": {},
   "outputs": [],
   "source": [
    "\n",
    "for filename in glob.glob(\"discover_physics/*/*.tex\"):\n",
    "    with open(filename) as f:\n",
    "        data = f.read()\n",
    "        input_text[filename] = feature_extraction(data)\n",
    "    \n"
   ]
  },
  {
   "cell_type": "code",
   "execution_count": 21,
   "metadata": {},
   "outputs": [],
   "source": [
    "for filename in glob.glob(\"fundamentals-of-calculus/*/*.rbtex\"):\n",
    "    with open(filename) as f:\n",
    "        data = f.read()\n",
    "        input_text[filename] = feature_extraction(data)"
   ]
  },
  {
   "cell_type": "code",
   "execution_count": 22,
   "metadata": {},
   "outputs": [],
   "source": [
    "for filename in glob.glob(\"general_relativity/*/*.rbtex\"):\n",
    "    with open(filename) as f:\n",
    "        data = f.read()\n",
    "        input_text[filename] = feature_extraction(data)"
   ]
  },
  {
   "cell_type": "code",
   "execution_count": 23,
   "metadata": {},
   "outputs": [],
   "source": [
    "for filename in glob.glob(\"special_relativity/*/*.rbtex\"):\n",
    "    with open(filename) as f:\n",
    "        data = f.read()\n",
    "        input_text[filename] = feature_extraction(data)"
   ]
  },
  {
   "cell_type": "code",
   "execution_count": 24,
   "metadata": {},
   "outputs": [],
   "source": [
    "\n",
    "for filename in glob.glob(\"ThinkCPP/book/ch*.tex\"):\n",
    "    with open(filename) as f:\n",
    "        data = f.read()\n",
    "        input_text[filename] = feature_extraction(data)"
   ]
  },
  {
   "cell_type": "code",
   "execution_count": 25,
   "metadata": {},
   "outputs": [],
   "source": [
    "for filename in glob.glob(\"ThinkJava/thinkjava.tex\"):\n",
    "    with open(filename) as f:\n",
    "        data = f.read()\n",
    "        input_text[filename] = feature_extraction(data)"
   ]
  },
  {
   "cell_type": "code",
   "execution_count": 52,
   "metadata": {},
   "outputs": [
    {
     "name": "stdout",
     "output_type": "stream",
     "text": [
      "javajavajava/texfiles/0.intro.tex\n",
      "javajavajava/texfiles/1.programs.tex\n",
      "javajavajava/texfiles/10.exceptions.tex\n",
      "javajavajava/texfiles/11.files.tex\n",
      "javajavajava/texfiles/11.intro.tex\n",
      "javajavajava/texfiles/12.recursion.tex\n",
      "javajavajava/texfiles/13.guis.tex\n",
      "javajavajava/texfiles/14.threads.tex\n",
      "javajavajava/texfiles/15.sockets.tex\n",
      "javajavajava/texfiles/16.datastructs.tex\n",
      "javajavajava/texfiles/2.objects.tex\n",
      "javajavajava/texfiles/3.methods.tex\n",
      "javajavajava/texfiles/4.uis.tex\n",
      "javajavajava/texfiles/5.data.tex\n",
      "javajavajava/texfiles/6.loops.tex\n",
      "javajavajava/texfiles/7.strings.tex\n",
      "javajavajava/texfiles/8.oop.tex\n",
      "javajavajava/texfiles/9.arrays.tex\n"
     ]
    }
   ],
   "source": [
    "\n",
    "for filename in glob.glob(\"javajavajava/texfiles/*.tex\"):\n",
    "    with open(filename,\"r\") as f:\n",
    "        print(filename)\n",
    "        data = f.read()\n",
    "        input_text[filename] = feature_extraction(data)"
   ]
  },
  {
   "cell_type": "code",
   "execution_count": 53,
   "metadata": {
    "scrolled": true
   },
   "outputs": [],
   "source": [
    "\n",
    "for filename in glob.glob(\"lm/lm/qm/*.rbtex\"):\n",
    "    with open(filename) as f:\n",
    "        data = f.read()\n",
    "        input_text[filename] = feature_extraction(data)"
   ]
  },
  {
   "cell_type": "code",
   "execution_count": 54,
   "metadata": {},
   "outputs": [],
   "source": [
    "for filename in glob.glob(\"lm/lm/vw/*.rbtex\"):\n",
    "    with open(filename) as f:\n",
    "        data = f.read()\n",
    "        input_text[filename] = feature_extraction(data)"
   ]
  },
  {
   "cell_type": "code",
   "execution_count": 55,
   "metadata": {
    "collapsed": true
   },
   "outputs": [],
   "source": [
    "len_dict = {}\n",
    "import csv\n",
    "with open('feature.csv', 'w') as f:  # Just use 'w' mode in 3.x\n",
    "    w = csv.writer(f,delimiter=',')\n",
    "    #w.writeheader()\n",
    "    for key in input_text:\n",
    "        len_dict[key]= len(input_text[key])\n",
    "        w.writerow([key,input_text[key]])"
   ]
  },
  {
   "cell_type": "code",
   "execution_count": 58,
   "metadata": {},
   "outputs": [
    {
     "name": "stdout",
     "output_type": "stream",
     "text": [
      "lm/lm/vw/b.rbtex\n",
      "javajavajava/texfiles/7.strings.tex\n",
      "javajavajava/texfiles/1.programs.tex\n",
      "javajavajava/texfiles/14.threads.tex\n",
      "lm/lm/vw/a.rbtex\n",
      "calculus/ch04/ch04.tex\n",
      "javajavajava/texfiles/8.oop.tex\n",
      "javajavajava/texfiles/10.exceptions.tex\n",
      "javajavajava/texfiles/2.objects.tex\n",
      "javajavajava/texfiles/0.intro.tex\n",
      "lm/lm/qm/b.rbtex\n",
      "javajavajava/texfiles/5.data.tex\n",
      "lm/lm/vw/c.rbtex\n",
      "calculus/ch07/ch07.tex\n",
      "lm/lm/qm/c.rbtex\n",
      "calculus/ch06/ch06.tex\n",
      "lm/lm/vw/d.rbtex\n",
      "calculus/ch03/ch03.tex\n",
      "javajavajava/texfiles/13.guis.tex\n",
      "lm/lm/qm/a.rbtex\n",
      "javajavajava/texfiles/4.uis.tex\n",
      "javajavajava/texfiles/16.datastructs.tex\n",
      "javajavajava/texfiles/12.recursion.tex\n",
      "calculus/ch09/ch09.tex\n",
      "calculus/ch01/ch01.tex\n",
      "javajavajava/texfiles/11.files.tex\n",
      "javajavajava/texfiles/9.arrays.tex\n",
      "calculus/ch08/ch08.tex\n",
      "javajavajava/texfiles/11.intro.tex\n",
      "calculus/ch02/ch02.tex\n",
      "lm/lm/qm/d.rbtex\n",
      "javajavajava/texfiles/15.sockets.tex\n",
      "calculus/ch05/ch05.tex\n",
      "javajavajava/texfiles/3.methods.tex\n",
      "javajavajava/texfiles/6.loops.tex\n"
     ]
    }
   ],
   "source": [
    "\n",
    "\n",
    "csv.field_size_limit(sys.maxsize)\n",
    "with open('feature.csv', 'r') as f:\n",
    "    w = csv.reader(f,delimiter=',')\n",
    "    for row in w:\n",
    "        print(row[0])\n",
    "        #row[1] contains the corresponding content."
   ]
  },
  {
   "cell_type": "code",
   "execution_count": null,
   "metadata": {
    "collapsed": true
   },
   "outputs": [],
   "source": []
  }
 ],
 "metadata": {
  "kernelspec": {
   "display_name": "Python 3",
   "language": "python",
   "name": "python3"
  },
  "language_info": {
   "codemirror_mode": {
    "name": "ipython",
    "version": 3
   },
   "file_extension": ".py",
   "mimetype": "text/x-python",
   "name": "python",
   "nbconvert_exporter": "python",
   "pygments_lexer": "ipython3",
   "version": "3.5.2"
  }
 },
 "nbformat": 4,
 "nbformat_minor": 2
}
